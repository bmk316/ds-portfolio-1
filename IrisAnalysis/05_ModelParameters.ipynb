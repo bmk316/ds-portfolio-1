{
 "cells": [
  {
   "cell_type": "code",
   "execution_count": 1,
   "metadata": {
    "collapsed": true
   },
   "outputs": [],
   "source": [
    "from sklearn.datasets import load_iris\n",
    "from sklearn.neighbors import KNeighborsClassifier\n",
    "from sklearn.model_selection import cross_val_score\n",
    "import matplotlib.pyplot as plt\n",
    "%matplotlib inline"
   ]
  },
  {
   "cell_type": "code",
   "execution_count": 2,
   "metadata": {},
   "outputs": [],
   "source": [
    "iris_data = load_iris()\n",
    "\n",
    "X_fts = iris_data.data\n",
    "y_trgt = iris_data.target"
   ]
  },
  {
   "cell_type": "code",
   "execution_count": 3,
   "metadata": {},
   "outputs": [
    {
     "name": "stdout",
     "output_type": "stream",
     "text": [
      "[ 1.          0.93333333  1.          1.          0.86666667  0.93333333\n",
      "  0.93333333  1.          1.          1.        ] \n",
      " 0.966666666667\n"
     ]
    }
   ],
   "source": [
    "knn = KNeighborsClassifier(n_neighbors=5)\n",
    "scores = cross_val_score(knn, X_fts, y_trgt, cv=10, scoring='accuracy')\n",
    "print(scores, '\\n', scores.mean())"
   ]
  },
  {
   "cell_type": "code",
   "execution_count": 4,
   "metadata": {},
   "outputs": [
    {
     "name": "stdout",
     "output_type": "stream",
     "text": [
      "[0.95999999999999996, 0.95333333333333337, 0.96666666666666656, 0.96666666666666656, 0.96666666666666679, 0.96666666666666679, 0.96666666666666679, 0.96666666666666679, 0.97333333333333338, 0.96666666666666679, 0.96666666666666679, 0.97333333333333338, 0.98000000000000009, 0.97333333333333338, 0.97333333333333338, 0.97333333333333338, 0.97333333333333338, 0.98000000000000009, 0.97333333333333338, 0.98000000000000009, 0.96666666666666656, 0.96666666666666656, 0.97333333333333338, 0.95999999999999996, 0.96666666666666656, 0.95999999999999996, 0.96666666666666656, 0.95333333333333337, 0.95333333333333337, 0.95333333333333337]\n"
     ]
    }
   ],
   "source": [
    "# Searching for the optimal k in KNN\n",
    "k_scores = []\n",
    "k_range = range(1,31)\n",
    "\n",
    "for k in k_range:\n",
    "    knn = KNeighborsClassifier(n_neighbors=k)\n",
    "    scores = cross_val_score(knn, X_fts, y_trgt, cv=10, scoring='accuracy')\n",
    "    k_scores.append(scores.mean())\n",
    "\n",
    "print(k_scores)"
   ]
  },
  {
   "cell_type": "markdown",
   "metadata": {},
   "source": [
    "**Reminder:**\n",
    "- We are using mean because we are looking in a loop, for the best k.\n",
    "- So, we go from 1 through 31 and do a cross-validation of 10, which basically means \n",
    "that we are using 10 different testing sets"
   ]
  },
  {
   "cell_type": "code",
   "execution_count": 5,
   "metadata": {},
   "outputs": [
    {
     "data": {
      "text/plain": [
       "<matplotlib.text.Text at 0x113d530b8>"
      ]
     },
     "execution_count": 5,
     "metadata": {},
     "output_type": "execute_result"
    },
    {
     "data": {
      "image/png": "[encoded data removed]",
      "text/plain": [
       "<matplotlib.figure.Figure at 0x113d2d1d0>"
      ]
     },
     "metadata": {},
     "output_type": "display_data"
    }
   ],
   "source": [
    "# Plot the values for a visual intepration\n",
    "plt.plot(k_range, k_scores)\n",
    "plt.xlabel('Possible values for k')\n",
    "plt.ylabel('Cross-Validation scores')\n"
   ]
  },
  {
   "cell_type": "markdown",
   "metadata": {},
   "source": [
    "**Reminder:**\n",
    "- Best score for k in KNN are 13, 18, and 20\n"
   ]
  },
  {
   "cell_type": "markdown",
   "metadata": {},
   "source": [
    "**NOTE**\n",
    "- The code that's above is a great way of implementing the best possible k in KNN through cross-validation\n",
    "- However, there's an even more automated way of creating this: Using \"GridSearchCV\"\n",
    "---"
   ]
  },
  {
   "cell_type": "code",
   "execution_count": 6,
   "metadata": {},
   "outputs": [],
   "source": [
    "from sklearn.model_selection import GridSearchCV"
   ]
  },
  {
   "cell_type": "code",
   "execution_count": 7,
   "metadata": {
    "collapsed": true
   },
   "outputs": [],
   "source": [
    "k_range = range(1,31)"
   ]
  },
  {
   "cell_type": "code",
   "execution_count": 8,
   "metadata": {},
   "outputs": [
    {
     "data": {
      "text/plain": [
       "{'n_neighbors': range(1, 31)}"
      ]
     },
     "execution_count": 8,
     "metadata": {},
     "output_type": "execute_result"
    }
   ],
   "source": [
    "# Create a parameter grid: map the parameter to the values that should be searches\n",
    "param_grid = dict(n_neighbors=k_range)\n",
    "param_grid"
   ]
  },
  {
   "cell_type": "code",
   "execution_count": 9,
   "metadata": {},
   "outputs": [],
   "source": [
    "# Creating the grid object\n",
    "grid = GridSearchCV(knn, param_grid, cv=10, scoring='accuracy')\n"
   ]
  },
  {
   "cell_type": "markdown",
   "metadata": {},
   "source": [
    "**Reminder:**\n",
    "- This code is similar to the previous method we were doing\n",
    "- Here, we pass the knn, cv and scoring parameters like before\n",
    "- The difference is that we pass a param_grid which has a a key 'n_neighbors' with a list value from 1 through 31."
   ]
  },
  {
   "cell_type": "code",
   "execution_count": 10,
   "metadata": {},
   "outputs": [
    {
     "data": {
      "text/plain": [
       "GridSearchCV(cv=10, error_score='raise',\n",
       "       estimator=KNeighborsClassifier(algorithm='auto', leaf_size=30, metric='minkowski',\n",
       "           metric_params=None, n_jobs=1, n_neighbors=30, p=2,\n",
       "           weights='uniform'),\n",
       "       fit_params=None, iid=True, n_jobs=1,\n",
       "       param_grid={'n_neighbors': range(1, 31)}, pre_dispatch='2*n_jobs',\n",
       "       refit=True, return_train_score=True, scoring='accuracy', verbose=0)"
      ]
     },
     "execution_count": 10,
     "metadata": {},
     "output_type": "execute_result"
    }
   ],
   "source": [
    "# Fit the grid with data\n",
    "grid.fit(X_fts, y_trgt)"
   ]
  },
  {
   "cell_type": "code",
   "execution_count": 11,
   "metadata": {},
   "outputs": [
    {
     "data": {
      "text/plain": [
       "{'mean_fit_time': array([ 0.0005198 ,  0.00092301,  0.00031438,  0.00031888,  0.0003093 ,\n",
       "         0.00030484,  0.00035217,  0.00032625,  0.00030947,  0.00029113,\n",
       "         0.0003788 ,  0.00035601,  0.00032763,  0.00028787,  0.00029018,\n",
       "         0.00029209,  0.00031972,  0.00033484,  0.00029933,  0.00028961,\n",
       "         0.00029087,  0.00029438,  0.00036213,  0.00030017,  0.00034621,\n",
       "         0.0003305 ,  0.00031202,  0.0002939 ,  0.00033178,  0.00032659]),\n",
       " 'mean_score_time': array([ 0.00104303,  0.00170875,  0.00051632,  0.00058546,  0.00053992,\n",
       "         0.00054307,  0.00057933,  0.00054827,  0.00054209,  0.00052724,\n",
       "         0.00060067,  0.00058477,  0.00060627,  0.00052845,  0.00052235,\n",
       "         0.00052209,  0.0005775 ,  0.00060287,  0.00053947,  0.00052853,\n",
       "         0.00059967,  0.00055604,  0.00060925,  0.00060949,  0.00061226,\n",
       "         0.00059631,  0.00057745,  0.00055997,  0.00061491,  0.00058992]),\n",
       " 'mean_test_score': array([ 0.96      ,  0.95333333,  0.96666667,  0.96666667,  0.96666667,\n",
       "         0.96666667,  0.96666667,  0.96666667,  0.97333333,  0.96666667,\n",
       "         0.96666667,  0.97333333,  0.98      ,  0.97333333,  0.97333333,\n",
       "         0.97333333,  0.97333333,  0.98      ,  0.97333333,  0.98      ,\n",
       "         0.96666667,  0.96666667,  0.97333333,  0.96      ,  0.96666667,\n",
       "         0.96      ,  0.96666667,  0.95333333,  0.95333333,  0.95333333]),\n",
       " 'mean_train_score': array([ 1.        ,  0.97851852,  0.96074074,  0.9637037 ,  0.96888889,\n",
       "         0.97259259,  0.97333333,  0.97925926,  0.97925926,  0.9762963 ,\n",
       "         0.98      ,  0.97851852,  0.98      ,  0.97925926,  0.97925926,\n",
       "         0.97777778,  0.97777778,  0.97777778,  0.97777778,  0.97407407,\n",
       "         0.97555556,  0.97111111,  0.97333333,  0.97037037,  0.96962963,\n",
       "         0.96      ,  0.96148148,  0.95481481,  0.95925926,  0.95259259]),\n",
       " 'param_n_neighbors': masked_array(data = [1 2 3 4 5 6 7 8 9 10 11 12 13 14 15 16 17 18 19 20 21 22 23 24 25 26 27 28\n",
       "  29 30],\n",
       "              mask = [False False False False False False False False False False False False\n",
       "  False False False False False False False False False False False False\n",
       "  False False False False False False],\n",
       "        fill_value = ?),\n",
       " 'params': [{'n_neighbors': 1},\n",
       "  {'n_neighbors': 2},\n",
       "  {'n_neighbors': 3},\n",
       "  {'n_neighbors': 4},\n",
       "  {'n_neighbors': 5},\n",
       "  {'n_neighbors': 6},\n",
       "  {'n_neighbors': 7},\n",
       "  {'n_neighbors': 8},\n",
       "  {'n_neighbors': 9},\n",
       "  {'n_neighbors': 10},\n",
       "  {'n_neighbors': 11},\n",
       "  {'n_neighbors': 12},\n",
       "  {'n_neighbors': 13},\n",
       "  {'n_neighbors': 14},\n",
       "  {'n_neighbors': 15},\n",
       "  {'n_neighbors': 16},\n",
       "  {'n_neighbors': 17},\n",
       "  {'n_neighbors': 18},\n",
       "  {'n_neighbors': 19},\n",
       "  {'n_neighbors': 20},\n",
       "  {'n_neighbors': 21},\n",
       "  {'n_neighbors': 22},\n",
       "  {'n_neighbors': 23},\n",
       "  {'n_neighbors': 24},\n",
       "  {'n_neighbors': 25},\n",
       "  {'n_neighbors': 26},\n",
       "  {'n_neighbors': 27},\n",
       "  {'n_neighbors': 28},\n",
       "  {'n_neighbors': 29},\n",
       "  {'n_neighbors': 30}],\n",
       " 'rank_test_score': array([24, 27, 12, 12, 12, 12, 12, 12,  4, 12, 12,  4,  1,  4,  4,  4,  4,\n",
       "         1,  4,  1, 12, 12,  4, 24, 12, 24, 12, 27, 27, 27], dtype=int32),\n",
       " 'split0_test_score': array([ 1.        ,  1.        ,  1.        ,  1.        ,  1.        ,\n",
       "         1.        ,  1.        ,  1.        ,  1.        ,  1.        ,\n",
       "         1.        ,  1.        ,  1.        ,  1.        ,  0.93333333,\n",
       "         1.        ,  0.93333333,  1.        ,  0.93333333,  1.        ,\n",
       "         0.93333333,  0.93333333,  0.93333333,  0.93333333,  0.93333333,\n",
       "         0.93333333,  0.93333333,  0.93333333,  0.93333333,  0.93333333]),\n",
       " 'split0_train_score': array([ 1.        ,  0.97037037,  0.95555556,  0.95555556,  0.96296296,\n",
       "         0.97037037,  0.96296296,  0.97037037,  0.97037037,  0.97037037,\n",
       "         0.97037037,  0.97037037,  0.97777778,  0.97037037,  0.97777778,\n",
       "         0.97037037,  0.97777778,  0.97777778,  0.97777778,  0.97777778,\n",
       "         0.97777778,  0.97777778,  0.97777778,  0.97037037,  0.97777778,\n",
       "         0.96296296,  0.96296296,  0.94814815,  0.95555556,  0.94814815]),\n",
       " 'split1_test_score': array([ 0.93333333,  0.93333333,  0.93333333,  0.93333333,  0.93333333,\n",
       "         0.93333333,  0.93333333,  0.93333333,  0.93333333,  0.93333333,\n",
       "         0.93333333,  0.93333333,  0.93333333,  0.93333333,  0.93333333,\n",
       "         0.93333333,  0.93333333,  0.93333333,  0.93333333,  0.93333333,\n",
       "         0.93333333,  0.93333333,  0.93333333,  0.93333333,  0.93333333,\n",
       "         0.93333333,  0.93333333,  0.93333333,  0.93333333,  0.93333333]),\n",
       " 'split1_train_score': array([ 1.        ,  0.98518519,  0.96296296,  0.96296296,  0.97037037,\n",
       "         0.97037037,  0.97777778,  0.98518519,  0.98518519,  0.98518519,\n",
       "         0.98518519,  0.99259259,  0.97777778,  0.97777778,  0.97777778,\n",
       "         0.98518519,  0.98518519,  0.98518519,  0.98518519,  0.98518519,\n",
       "         0.98518519,  0.98518519,  0.97037037,  0.97777778,  0.97777778,\n",
       "         0.98518519,  0.97777778,  0.97777778,  0.97777778,  0.95555556]),\n",
       " 'split2_test_score': array([ 1.,  1.,  1.,  1.,  1.,  1.,  1.,  1.,  1.,  1.,  1.,  1.,  1.,\n",
       "         1.,  1.,  1.,  1.,  1.,  1.,  1.,  1.,  1.,  1.,  1.,  1.,  1.,\n",
       "         1.,  1.,  1.,  1.]),\n",
       " 'split2_train_score': array([ 1.        ,  0.97777778,  0.95555556,  0.95555556,  0.96296296,\n",
       "         0.97037037,  0.97037037,  0.97777778,  0.97777778,  0.97777778,\n",
       "         0.98518519,  0.98518519,  0.97777778,  0.98518519,  0.97777778,\n",
       "         0.98518519,  0.97777778,  0.97777778,  0.97777778,  0.96296296,\n",
       "         0.97037037,  0.95555556,  0.96296296,  0.94814815,  0.94814815,\n",
       "         0.93333333,  0.94074074,  0.94814815,  0.95555556,  0.94814815]),\n",
       " 'split3_test_score': array([ 0.93333333,  0.93333333,  0.93333333,  0.93333333,  1.        ,\n",
       "         1.        ,  1.        ,  1.        ,  1.        ,  1.        ,\n",
       "         1.        ,  1.        ,  1.        ,  1.        ,  1.        ,\n",
       "         1.        ,  1.        ,  1.        ,  1.        ,  1.        ,\n",
       "         1.        ,  1.        ,  1.        ,  1.        ,  1.        ,\n",
       "         1.        ,  1.        ,  0.93333333,  0.93333333,  0.93333333]),\n",
       " 'split3_train_score': array([ 1.        ,  0.98518519,  0.96296296,  0.96296296,  0.97037037,\n",
       "         0.97777778,  0.97037037,  0.98518519,  0.98518519,  0.97777778,\n",
       "         0.97777778,  0.97777778,  0.97777778,  0.97777778,  0.97777778,\n",
       "         0.98518519,  0.97777778,  0.97777778,  0.97777778,  0.97777778,\n",
       "         0.97777778,  0.97777778,  0.97777778,  0.97777778,  0.97037037,\n",
       "         0.96296296,  0.97037037,  0.96296296,  0.97037037,  0.94814815]),\n",
       " 'split4_test_score': array([ 0.86666667,  0.86666667,  0.86666667,  0.86666667,  0.86666667,\n",
       "         0.86666667,  0.86666667,  1.        ,  1.        ,  1.        ,\n",
       "         1.        ,  1.        ,  1.        ,  1.        ,  1.        ,\n",
       "         1.        ,  1.        ,  1.        ,  1.        ,  1.        ,\n",
       "         0.93333333,  1.        ,  1.        ,  1.        ,  1.        ,\n",
       "         1.        ,  1.        ,  1.        ,  1.        ,  1.        ]),\n",
       " 'split4_train_score': array([ 1.        ,  0.97777778,  0.97777778,  0.97777778,  0.98518519,\n",
       "         0.98518519,  0.98518519,  0.97777778,  0.97777778,  0.97777778,\n",
       "         0.98518519,  0.97777778,  0.98518519,  0.97777778,  0.97777778,\n",
       "         0.97777778,  0.97777778,  0.97777778,  0.97777778,  0.97777778,\n",
       "         0.97777778,  0.97037037,  0.97777778,  0.97037037,  0.97037037,\n",
       "         0.95555556,  0.94814815,  0.94814815,  0.94814815,  0.94814815]),\n",
       " 'split5_test_score': array([ 1.        ,  1.        ,  1.        ,  1.        ,  0.93333333,\n",
       "         0.93333333,  0.93333333,  0.86666667,  0.93333333,  0.86666667,\n",
       "         0.86666667,  0.93333333,  0.93333333,  0.86666667,  0.93333333,\n",
       "         0.93333333,  0.93333333,  0.93333333,  0.93333333,  0.93333333,\n",
       "         0.93333333,  0.93333333,  0.93333333,  0.86666667,  0.93333333,\n",
       "         0.86666667,  0.86666667,  0.86666667,  0.86666667,  0.86666667]),\n",
       " 'split5_train_score': array([ 1.        ,  0.97037037,  0.95555556,  0.96296296,  0.96296296,\n",
       "         0.95555556,  0.97037037,  0.97037037,  0.97777778,  0.97037037,\n",
       "         0.98518519,  0.97777778,  0.98518519,  0.97777778,  0.97777778,\n",
       "         0.97777778,  0.98518519,  0.98518519,  0.97777778,  0.97777778,\n",
       "         0.97777778,  0.97777778,  0.97777778,  0.97777778,  0.97777778,\n",
       "         0.96296296,  0.97037037,  0.96296296,  0.96296296,  0.96296296]),\n",
       " 'split6_test_score': array([ 0.86666667,  0.86666667,  0.93333333,  0.93333333,  0.93333333,\n",
       "         0.93333333,  0.93333333,  0.93333333,  0.93333333,  0.93333333,\n",
       "         0.93333333,  0.93333333,  0.93333333,  0.93333333,  0.93333333,\n",
       "         0.93333333,  0.93333333,  0.93333333,  0.93333333,  0.93333333,\n",
       "         0.93333333,  0.93333333,  0.93333333,  0.93333333,  0.93333333,\n",
       "         0.93333333,  0.93333333,  0.93333333,  0.93333333,  0.93333333]),\n",
       " 'split6_train_score': array([ 1.        ,  0.98518519,  0.97037037,  0.97037037,  0.97777778,\n",
       "         0.98518519,  0.97777778,  0.99259259,  0.99259259,  0.98518519,\n",
       "         0.99259259,  0.98518519,  0.99259259,  0.99259259,  0.98518519,\n",
       "         0.98518519,  0.97777778,  0.98518519,  0.98518519,  0.98518519,\n",
       "         0.98518519,  0.97777778,  0.97777778,  0.97777778,  0.97777778,\n",
       "         0.96296296,  0.97037037,  0.95555556,  0.96296296,  0.96296296]),\n",
       " 'split7_test_score': array([ 1.        ,  0.93333333,  1.        ,  1.        ,  1.        ,\n",
       "         1.        ,  1.        ,  0.93333333,  0.93333333,  0.93333333,\n",
       "         0.93333333,  0.93333333,  1.        ,  1.        ,  1.        ,\n",
       "         0.93333333,  1.        ,  1.        ,  1.        ,  1.        ,\n",
       "         1.        ,  0.93333333,  1.        ,  0.93333333,  0.93333333,\n",
       "         0.93333333,  1.        ,  0.93333333,  0.93333333,  0.93333333]),\n",
       " 'split7_train_score': array([ 1.        ,  0.97777778,  0.95555556,  0.96296296,  0.96296296,\n",
       "         0.97037037,  0.97037037,  0.97777778,  0.97037037,  0.97777778,\n",
       "         0.97777778,  0.97037037,  0.97037037,  0.97777778,  0.97777778,\n",
       "         0.97037037,  0.97777778,  0.97777778,  0.97777778,  0.97777778,\n",
       "         0.97777778,  0.97037037,  0.97777778,  0.97777778,  0.97777778,\n",
       "         0.97037037,  0.97037037,  0.96296296,  0.96296296,  0.95555556]),\n",
       " 'split8_test_score': array([ 1.,  1.,  1.,  1.,  1.,  1.,  1.,  1.,  1.,  1.,  1.,  1.,  1.,\n",
       "         1.,  1.,  1.,  1.,  1.,  1.,  1.,  1.,  1.,  1.,  1.,  1.,  1.,\n",
       "         1.,  1.,  1.,  1.]),\n",
       " 'split8_train_score': array([ 1.        ,  0.97777778,  0.95555556,  0.95555556,  0.96296296,\n",
       "         0.97037037,  0.97037037,  0.97777778,  0.97777778,  0.97777778,\n",
       "         0.97777778,  0.98518519,  0.97777778,  0.98518519,  0.98518519,\n",
       "         0.97777778,  0.97777778,  0.97777778,  0.97777778,  0.97777778,\n",
       "         0.97777778,  0.97037037,  0.97777778,  0.97037037,  0.97037037,\n",
       "         0.96296296,  0.97037037,  0.94814815,  0.95555556,  0.95555556]),\n",
       " 'split9_test_score': array([ 1.,  1.,  1.,  1.,  1.,  1.,  1.,  1.,  1.,  1.,  1.,  1.,  1.,\n",
       "         1.,  1.,  1.,  1.,  1.,  1.,  1.,  1.,  1.,  1.,  1.,  1.,  1.,\n",
       "         1.,  1.,  1.,  1.]),\n",
       " 'split9_train_score': array([ 1.        ,  0.97777778,  0.95555556,  0.97037037,  0.97037037,\n",
       "         0.97037037,  0.97777778,  0.97777778,  0.97777778,  0.96296296,\n",
       "         0.96296296,  0.96296296,  0.97777778,  0.97037037,  0.97777778,\n",
       "         0.96296296,  0.96296296,  0.95555556,  0.96296296,  0.94074074,\n",
       "         0.94814815,  0.94814815,  0.95555556,  0.95555556,  0.94814815,\n",
       "         0.94074074,  0.93333333,  0.93333333,  0.94074074,  0.94074074]),\n",
       " 'std_fit_time': array([  2.00857792e-04,   1.16307694e-03,   2.91852389e-05,\n",
       "          4.18515617e-05,   2.42934493e-05,   3.02369281e-05,\n",
       "          7.81448272e-05,   1.15813144e-04,   2.08697303e-05,\n",
       "          8.95733874e-06,   1.32246030e-04,   1.01879515e-04,\n",
       "          6.95701002e-05,   3.71229289e-06,   4.74860146e-06,\n",
       "          6.29393440e-06,   3.31237121e-05,   8.05706795e-05,\n",
       "          1.82931695e-05,   6.01840468e-06,   7.50848206e-06,\n",
       "          6.79141506e-06,   1.23013565e-04,   1.52848438e-05,\n",
       "          8.79886956e-05,   1.14751028e-04,   2.89023998e-05,\n",
       "          1.28188737e-05,   9.35292231e-05,   9.70421492e-05]),\n",
       " 'std_score_time': array([  5.98960589e-04,   2.93337501e-03,   3.63018731e-05,\n",
       "          2.10793367e-04,   7.28935086e-05,   6.00192717e-05,\n",
       "          7.68927418e-05,   1.48895149e-04,   3.27547649e-05,\n",
       "          3.72718019e-05,   1.68833292e-04,   3.23793234e-05,\n",
       "          1.60356531e-04,   3.53342850e-05,   6.39072985e-06,\n",
       "          9.20295715e-06,   4.45927902e-05,   1.30195503e-04,\n",
       "          2.99080024e-05,   8.73458431e-06,   1.40567672e-04,\n",
       "          3.95195318e-05,   1.42863357e-04,   1.38160438e-04,\n",
       "          1.46287353e-04,   1.68859627e-04,   4.91295022e-05,\n",
       "          5.71566514e-05,   1.51603041e-04,   1.29159909e-04]),\n",
       " 'std_test_score': array([ 0.05333333,  0.05206833,  0.04472136,  0.04472136,  0.04472136,\n",
       "         0.04472136,  0.04472136,  0.04472136,  0.03265986,  0.04472136,\n",
       "         0.04472136,  0.03265986,  0.0305505 ,  0.04422166,  0.03265986,\n",
       "         0.03265986,  0.03265986,  0.0305505 ,  0.03265986,  0.0305505 ,\n",
       "         0.03333333,  0.03333333,  0.03265986,  0.04422166,  0.03333333,\n",
       "         0.04422166,  0.04472136,  0.04268749,  0.04268749,  0.04268749]),\n",
       " 'std_train_score': array([ 0.        ,  0.00518519,  0.00744435,  0.00698813,  0.00725775,\n",
       "         0.00814815,  0.00592593,  0.00645763,  0.00645763,  0.00645763,\n",
       "         0.00814815,  0.0084132 ,  0.00578537,  0.00645763,  0.00296296,\n",
       "         0.00740741,  0.00573775,  0.00811441,  0.00573775,  0.01250514,\n",
       "         0.00996565,  0.01070876,  0.0075541 ,  0.00993808,  0.01120944,\n",
       "         0.01373869,  0.0143635 ,  0.01168869,  0.01007516,  0.006789  ])}"
      ]
     },
     "execution_count": 11,
     "metadata": {},
     "output_type": "execute_result"
    }
   ],
   "source": [
    "grid.cv_results_"
   ]
  },
  {
   "cell_type": "code",
   "execution_count": 12,
   "metadata": {},
   "outputs": [
    {
     "name": "stdout",
     "output_type": "stream",
     "text": [
      "{'n_neighbors': 1}\n",
      "0.96\n"
     ]
    }
   ],
   "source": [
    "# Understanding an individula tuple, which is what is returned with cv_results_\n",
    "print(grid.cv_results_['params'][0])\n",
    "print(grid.cv_results_['mean_test_score'][0])"
   ]
  },
  {
   "cell_type": "code",
   "execution_count": 13,
   "metadata": {},
   "outputs": [
    {
     "data": {
      "text/plain": [
       "<matplotlib.text.Text at 0x1170b8b38>"
      ]
     },
     "execution_count": 13,
     "metadata": {},
     "output_type": "execute_result"
    },
    {
     "data": {
      "image/png": "[encoded data removed]",
      "text/plain": [
       "<matplotlib.figure.Figure at 0x117230eb8>"
      ]
     },
     "metadata": {},
     "output_type": "display_data"
    }
   ],
   "source": [
    "# Plotting the mean score\n",
    "grid_mean_test_score = [mean_score for mean_score in grid.cv_results_['mean_test_score']]\n",
    "\n",
    "plt.plot(k_range, grid_mean_test_score)\n",
    "plt.xlabel('k in KNN')\n",
    "plt.ylabel('Ks Accuracy Score')"
   ]
  },
  {
   "cell_type": "code",
   "execution_count": 14,
   "metadata": {},
   "outputs": [
    {
     "name": "stdout",
     "output_type": "stream",
     "text": [
      "0.98 {'n_neighbors': 13} KNeighborsClassifier(algorithm='auto', leaf_size=30, metric='minkowski',\n",
      "           metric_params=None, n_jobs=1, n_neighbors=13, p=2,\n",
      "           weights='uniform')\n"
     ]
    }
   ],
   "source": [
    "print(grid.best_score_, grid.best_params_, grid.best_estimator_)"
   ]
  },
  {
   "cell_type": "markdown",
   "metadata": {},
   "source": [
    "## Searching multiple parameters simultaneously"
   ]
  },
  {
   "cell_type": "code",
   "execution_count": 15,
   "metadata": {},
   "outputs": [],
   "source": [
    "# We will loop through multiple parameters: k for knn and weight_options\n",
    "k_range = range(1,31)\n",
    "weight_options = ['uniform', 'distance']\n"
   ]
  },
  {
   "cell_type": "markdown",
   "metadata": {},
   "source": [
    "**Notes:**\n",
    "- The distance parameter simply means that the closer neighbors are weighted more heavily than  the neighbors that are further away\n",
    "- This is unlike the uniform parameter where they are all weighted equally"
   ]
  },
  {
   "cell_type": "code",
   "execution_count": 16,
   "metadata": {},
   "outputs": [],
   "source": [
    "param_grid = dict(n_neighbors=k_range, weights=weight_options)"
   ]
  },
  {
   "cell_type": "code",
   "execution_count": 17,
   "metadata": {},
   "outputs": [
    {
     "data": {
      "text/plain": [
       "GridSearchCV(cv=10, error_score='raise',\n",
       "       estimator=KNeighborsClassifier(algorithm='auto', leaf_size=30, metric='minkowski',\n",
       "           metric_params=None, n_jobs=1, n_neighbors=30, p=2,\n",
       "           weights='uniform'),\n",
       "       fit_params=None, iid=True, n_jobs=1,\n",
       "       param_grid={'n_neighbors': range(1, 31), 'weights': ['uniform', 'distance']},\n",
       "       pre_dispatch='2*n_jobs', refit=True, return_train_score=True,\n",
       "       scoring='accuracy', verbose=0)"
      ]
     },
     "execution_count": 17,
     "metadata": {},
     "output_type": "execute_result"
    }
   ],
   "source": [
    "# Creating the class with the current data\n",
    "grid = GridSearchCV(knn, param_grid, cv=10, scoring='accuracy')\n",
    "grid.fit(X_fts, y_trgt)"
   ]
  },
  {
   "cell_type": "code",
   "execution_count": 18,
   "metadata": {},
   "outputs": [
    {
     "data": {
      "text/plain": [
       "{'mean_fit_time': array([ 0.00063748,  0.00085685,  0.00034542,  0.00035596,  0.00029387,\n",
       "         0.00029058,  0.00029051,  0.00030808,  0.000334  ,  0.00030642,\n",
       "         0.00028992,  0.00029407,  0.00033758,  0.00035045,  0.0003401 ,\n",
       "         0.00029378,  0.00033326,  0.00032303,  0.00032482,  0.00030568,\n",
       "         0.00029616,  0.00030596,  0.0002944 ,  0.00030677,  0.00029616,\n",
       "         0.00029504,  0.00029247,  0.00029812,  0.00029442,  0.00029991,\n",
       "         0.00031655,  0.00030425,  0.0003438 ,  0.00029812,  0.00029547,\n",
       "         0.00031977,  0.00033267,  0.00031452,  0.00029576,  0.00029387,\n",
       "         0.00037482,  0.00033116,  0.00029731,  0.00031333,  0.00031376,\n",
       "         0.00034466,  0.00029774,  0.00029874,  0.00029712,  0.00035784,\n",
       "         0.00029151,  0.00030389,  0.00033991,  0.00032215,  0.00030081,\n",
       "         0.00029714,  0.0003196 ,  0.00030062,  0.00030289,  0.00034659]),\n",
       " 'mean_score_time': array([ 0.00113342,  0.00143549,  0.00058568,  0.00059888,  0.00049303,\n",
       "         0.000526  ,  0.00050695,  0.00056138,  0.00062416,  0.00056324,\n",
       "         0.00050805,  0.00053401,  0.00059874,  0.00064464,  0.00062482,\n",
       "         0.00053604,  0.00060191,  0.00060217,  0.00058703,  0.00056703,\n",
       "         0.00053177,  0.00055039,  0.00052342,  0.00058572,  0.00053365,\n",
       "         0.0005512 ,  0.00052655,  0.00058448,  0.00053256,  0.00055752,\n",
       "         0.00057948,  0.00058167,  0.00057511,  0.00055773,  0.00054576,\n",
       "         0.00059767,  0.00063708,  0.00060072,  0.00055277,  0.00056288,\n",
       "         0.00068243,  0.00066135,  0.00055304,  0.00057817,  0.00060225,\n",
       "         0.00065503,  0.00054817,  0.00057209,  0.00056853,  0.00065823,\n",
       "         0.00054016,  0.00058584,  0.00061369,  0.00062339,  0.0005605 ,\n",
       "         0.00057862,  0.00063081,  0.0005897 ,  0.00055718,  0.00066855]),\n",
       " 'mean_test_score': array([ 0.96      ,  0.96      ,  0.95333333,  0.96      ,  0.96666667,\n",
       "         0.96666667,  0.96666667,  0.96666667,  0.96666667,  0.96666667,\n",
       "         0.96666667,  0.96666667,  0.96666667,  0.96666667,  0.96666667,\n",
       "         0.96666667,  0.97333333,  0.97333333,  0.96666667,  0.97333333,\n",
       "         0.96666667,  0.97333333,  0.97333333,  0.97333333,  0.98      ,\n",
       "         0.97333333,  0.97333333,  0.97333333,  0.97333333,  0.98      ,\n",
       "         0.97333333,  0.97333333,  0.97333333,  0.98      ,  0.98      ,\n",
       "         0.97333333,  0.97333333,  0.98      ,  0.98      ,  0.96666667,\n",
       "         0.96666667,  0.96666667,  0.96666667,  0.96666667,  0.97333333,\n",
       "         0.97333333,  0.96      ,  0.97333333,  0.96666667,  0.97333333,\n",
       "         0.96      ,  0.96666667,  0.96666667,  0.98      ,  0.95333333,\n",
       "         0.97333333,  0.95333333,  0.97333333,  0.95333333,  0.96666667]),\n",
       " 'mean_train_score': array([ 1.        ,  1.        ,  0.97851852,  1.        ,  0.96074074,\n",
       "         1.        ,  0.9637037 ,  1.        ,  0.96888889,  1.        ,\n",
       "         0.97259259,  1.        ,  0.97333333,  1.        ,  0.97925926,\n",
       "         1.        ,  0.97925926,  1.        ,  0.9762963 ,  1.        ,\n",
       "         0.98      ,  1.        ,  0.97851852,  1.        ,  0.98      ,\n",
       "         1.        ,  0.97925926,  1.        ,  0.97925926,  1.        ,\n",
       "         0.97777778,  1.        ,  0.97777778,  1.        ,  0.97777778,\n",
       "         1.        ,  0.97777778,  1.        ,  0.97407407,  1.        ,\n",
       "         0.97555556,  1.        ,  0.97111111,  1.        ,  0.97333333,\n",
       "         1.        ,  0.97037037,  1.        ,  0.96962963,  1.        ,\n",
       "         0.96      ,  1.        ,  0.96148148,  1.        ,  0.95481481,\n",
       "         1.        ,  0.95925926,  1.        ,  0.95259259,  1.        ]),\n",
       " 'param_n_neighbors': masked_array(data = [1 1 2 2 3 3 4 4 5 5 6 6 7 7 8 8 9 9 10 10 11 11 12 12 13 13 14 14 15 15 16\n",
       "  16 17 17 18 18 19 19 20 20 21 21 22 22 23 23 24 24 25 25 26 26 27 27 28 28\n",
       "  29 29 30 30],\n",
       "              mask = [False False False False False False False False False False False False\n",
       "  False False False False False False False False False False False False\n",
       "  False False False False False False False False False False False False\n",
       "  False False False False False False False False False False False False\n",
       "  False False False False False False False False False False False False],\n",
       "        fill_value = ?),\n",
       " 'param_weights': masked_array(data = ['uniform' 'distance' 'uniform' 'distance' 'uniform' 'distance' 'uniform'\n",
       "  'distance' 'uniform' 'distance' 'uniform' 'distance' 'uniform' 'distance'\n",
       "  'uniform' 'distance' 'uniform' 'distance' 'uniform' 'distance' 'uniform'\n",
       "  'distance' 'uniform' 'distance' 'uniform' 'distance' 'uniform' 'distance'\n",
       "  'uniform' 'distance' 'uniform' 'distance' 'uniform' 'distance' 'uniform'\n",
       "  'distance' 'uniform' 'distance' 'uniform' 'distance' 'uniform' 'distance'\n",
       "  'uniform' 'distance' 'uniform' 'distance' 'uniform' 'distance' 'uniform'\n",
       "  'distance' 'uniform' 'distance' 'uniform' 'distance' 'uniform' 'distance'\n",
       "  'uniform' 'distance' 'uniform' 'distance'],\n",
       "              mask = [False False False False False False False False False False False False\n",
       "  False False False False False False False False False False False False\n",
       "  False False False False False False False False False False False False\n",
       "  False False False False False False False False False False False False\n",
       "  False False False False False False False False False False False False],\n",
       "        fill_value = ?),\n",
       " 'params': [{'n_neighbors': 1, 'weights': 'uniform'},\n",
       "  {'n_neighbors': 1, 'weights': 'distance'},\n",
       "  {'n_neighbors': 2, 'weights': 'uniform'},\n",
       "  {'n_neighbors': 2, 'weights': 'distance'},\n",
       "  {'n_neighbors': 3, 'weights': 'uniform'},\n",
       "  {'n_neighbors': 3, 'weights': 'distance'},\n",
       "  {'n_neighbors': 4, 'weights': 'uniform'},\n",
       "  {'n_neighbors': 4, 'weights': 'distance'},\n",
       "  {'n_neighbors': 5, 'weights': 'uniform'},\n",
       "  {'n_neighbors': 5, 'weights': 'distance'},\n",
       "  {'n_neighbors': 6, 'weights': 'uniform'},\n",
       "  {'n_neighbors': 6, 'weights': 'distance'},\n",
       "  {'n_neighbors': 7, 'weights': 'uniform'},\n",
       "  {'n_neighbors': 7, 'weights': 'distance'},\n",
       "  {'n_neighbors': 8, 'weights': 'uniform'},\n",
       "  {'n_neighbors': 8, 'weights': 'distance'},\n",
       "  {'n_neighbors': 9, 'weights': 'uniform'},\n",
       "  {'n_neighbors': 9, 'weights': 'distance'},\n",
       "  {'n_neighbors': 10, 'weights': 'uniform'},\n",
       "  {'n_neighbors': 10, 'weights': 'distance'},\n",
       "  {'n_neighbors': 11, 'weights': 'uniform'},\n",
       "  {'n_neighbors': 11, 'weights': 'distance'},\n",
       "  {'n_neighbors': 12, 'weights': 'uniform'},\n",
       "  {'n_neighbors': 12, 'weights': 'distance'},\n",
       "  {'n_neighbors': 13, 'weights': 'uniform'},\n",
       "  {'n_neighbors': 13, 'weights': 'distance'},\n",
       "  {'n_neighbors': 14, 'weights': 'uniform'},\n",
       "  {'n_neighbors': 14, 'weights': 'distance'},\n",
       "  {'n_neighbors': 15, 'weights': 'uniform'},\n",
       "  {'n_neighbors': 15, 'weights': 'distance'},\n",
       "  {'n_neighbors': 16, 'weights': 'uniform'},\n",
       "  {'n_neighbors': 16, 'weights': 'distance'},\n",
       "  {'n_neighbors': 17, 'weights': 'uniform'},\n",
       "  {'n_neighbors': 17, 'weights': 'distance'},\n",
       "  {'n_neighbors': 18, 'weights': 'uniform'},\n",
       "  {'n_neighbors': 18, 'weights': 'distance'},\n",
       "  {'n_neighbors': 19, 'weights': 'uniform'},\n",
       "  {'n_neighbors': 19, 'weights': 'distance'},\n",
       "  {'n_neighbors': 20, 'weights': 'uniform'},\n",
       "  {'n_neighbors': 20, 'weights': 'distance'},\n",
       "  {'n_neighbors': 21, 'weights': 'uniform'},\n",
       "  {'n_neighbors': 21, 'weights': 'distance'},\n",
       "  {'n_neighbors': 22, 'weights': 'uniform'},\n",
       "  {'n_neighbors': 22, 'weights': 'distance'},\n",
       "  {'n_neighbors': 23, 'weights': 'uniform'},\n",
       "  {'n_neighbors': 23, 'weights': 'distance'},\n",
       "  {'n_neighbors': 24, 'weights': 'uniform'},\n",
       "  {'n_neighbors': 24, 'weights': 'distance'},\n",
       "  {'n_neighbors': 25, 'weights': 'uniform'},\n",
       "  {'n_neighbors': 25, 'weights': 'distance'},\n",
       "  {'n_neighbors': 26, 'weights': 'uniform'},\n",
       "  {'n_neighbors': 26, 'weights': 'distance'},\n",
       "  {'n_neighbors': 27, 'weights': 'uniform'},\n",
       "  {'n_neighbors': 27, 'weights': 'distance'},\n",
       "  {'n_neighbors': 28, 'weights': 'uniform'},\n",
       "  {'n_neighbors': 28, 'weights': 'distance'},\n",
       "  {'n_neighbors': 29, 'weights': 'uniform'},\n",
       "  {'n_neighbors': 29, 'weights': 'distance'},\n",
       "  {'n_neighbors': 30, 'weights': 'uniform'},\n",
       "  {'n_neighbors': 30, 'weights': 'distance'}],\n",
       " 'rank_test_score': array([52, 52, 57, 52, 29, 29, 29, 29, 29, 29, 29, 29, 29, 29, 29, 29,  8,\n",
       "         8, 29,  8, 29,  8,  8,  8,  1,  8,  8,  8,  8,  1,  8,  8,  8,  1,\n",
       "         1,  8,  8,  1,  1, 29, 29, 29, 29, 29,  8,  8, 52,  8, 29,  8, 52,\n",
       "        29, 29,  1, 57,  8, 57,  8, 57, 29], dtype=int32),\n",
       " 'split0_test_score': array([ 1.        ,  1.        ,  1.        ,  1.        ,  1.        ,\n",
       "         1.        ,  1.        ,  1.        ,  1.        ,  1.        ,\n",
       "         1.        ,  1.        ,  1.        ,  1.        ,  1.        ,\n",
       "         1.        ,  1.        ,  1.        ,  1.        ,  1.        ,\n",
       "         1.        ,  1.        ,  1.        ,  1.        ,  1.        ,\n",
       "         1.        ,  1.        ,  1.        ,  0.93333333,  1.        ,\n",
       "         1.        ,  1.        ,  0.93333333,  1.        ,  1.        ,\n",
       "         1.        ,  0.93333333,  1.        ,  1.        ,  1.        ,\n",
       "         0.93333333,  1.        ,  0.93333333,  1.        ,  0.93333333,\n",
       "         1.        ,  0.93333333,  1.        ,  0.93333333,  1.        ,\n",
       "         0.93333333,  1.        ,  0.93333333,  1.        ,  0.93333333,\n",
       "         1.        ,  0.93333333,  1.        ,  0.93333333,  1.        ]),\n",
       " 'split0_train_score': array([ 1.        ,  1.        ,  0.97037037,  1.        ,  0.95555556,\n",
       "         1.        ,  0.95555556,  1.        ,  0.96296296,  1.        ,\n",
       "         0.97037037,  1.        ,  0.96296296,  1.        ,  0.97037037,\n",
       "         1.        ,  0.97037037,  1.        ,  0.97037037,  1.        ,\n",
       "         0.97037037,  1.        ,  0.97037037,  1.        ,  0.97777778,\n",
       "         1.        ,  0.97037037,  1.        ,  0.97777778,  1.        ,\n",
       "         0.97037037,  1.        ,  0.97777778,  1.        ,  0.97777778,\n",
       "         1.        ,  0.97777778,  1.        ,  0.97777778,  1.        ,\n",
       "         0.97777778,  1.        ,  0.97777778,  1.        ,  0.97777778,\n",
       "         1.        ,  0.97037037,  1.        ,  0.97777778,  1.        ,\n",
       "         0.96296296,  1.        ,  0.96296296,  1.        ,  0.94814815,\n",
       "         1.        ,  0.95555556,  1.        ,  0.94814815,  1.        ]),\n",
       " 'split1_test_score': array([ 0.93333333,  0.93333333,  0.93333333,  0.93333333,  0.93333333,\n",
       "         0.93333333,  0.93333333,  0.93333333,  0.93333333,  0.93333333,\n",
       "         0.93333333,  0.93333333,  0.93333333,  0.93333333,  0.93333333,\n",
       "         0.93333333,  0.93333333,  0.93333333,  0.93333333,  0.93333333,\n",
       "         0.93333333,  0.93333333,  0.93333333,  0.93333333,  0.93333333,\n",
       "         0.93333333,  0.93333333,  0.93333333,  0.93333333,  0.93333333,\n",
       "         0.93333333,  0.93333333,  0.93333333,  0.93333333,  0.93333333,\n",
       "         0.93333333,  0.93333333,  0.93333333,  0.93333333,  0.93333333,\n",
       "         0.93333333,  0.93333333,  0.93333333,  0.93333333,  0.93333333,\n",
       "         0.93333333,  0.93333333,  0.93333333,  0.93333333,  0.93333333,\n",
       "         0.93333333,  0.93333333,  0.93333333,  0.93333333,  0.93333333,\n",
       "         0.93333333,  0.93333333,  0.93333333,  0.93333333,  0.93333333]),\n",
       " 'split1_train_score': array([ 1.        ,  1.        ,  0.98518519,  1.        ,  0.96296296,\n",
       "         1.        ,  0.96296296,  1.        ,  0.97037037,  1.        ,\n",
       "         0.97037037,  1.        ,  0.97777778,  1.        ,  0.98518519,\n",
       "         1.        ,  0.98518519,  1.        ,  0.98518519,  1.        ,\n",
       "         0.98518519,  1.        ,  0.99259259,  1.        ,  0.97777778,\n",
       "         1.        ,  0.97777778,  1.        ,  0.97777778,  1.        ,\n",
       "         0.98518519,  1.        ,  0.98518519,  1.        ,  0.98518519,\n",
       "         1.        ,  0.98518519,  1.        ,  0.98518519,  1.        ,\n",
       "         0.98518519,  1.        ,  0.98518519,  1.        ,  0.97037037,\n",
       "         1.        ,  0.97777778,  1.        ,  0.97777778,  1.        ,\n",
       "         0.98518519,  1.        ,  0.97777778,  1.        ,  0.97777778,\n",
       "         1.        ,  0.97777778,  1.        ,  0.95555556,  1.        ]),\n",
       " 'split2_test_score': array([ 1.,  1.,  1.,  1.,  1.,  1.,  1.,  1.,  1.,  1.,  1.,  1.,  1.,\n",
       "         1.,  1.,  1.,  1.,  1.,  1.,  1.,  1.,  1.,  1.,  1.,  1.,  1.,\n",
       "         1.,  1.,  1.,  1.,  1.,  1.,  1.,  1.,  1.,  1.,  1.,  1.,  1.,\n",
       "         1.,  1.,  1.,  1.,  1.,  1.,  1.,  1.,  1.,  1.,  1.,  1.,  1.,\n",
       "         1.,  1.,  1.,  1.,  1.,  1.,  1.,  1.]),\n",
       " 'split2_train_score': array([ 1.        ,  1.        ,  0.97777778,  1.        ,  0.95555556,\n",
       "         1.        ,  0.95555556,  1.        ,  0.96296296,  1.        ,\n",
       "         0.97037037,  1.        ,  0.97037037,  1.        ,  0.97777778,\n",
       "         1.        ,  0.97777778,  1.        ,  0.97777778,  1.        ,\n",
       "         0.98518519,  1.        ,  0.98518519,  1.        ,  0.97777778,\n",
       "         1.        ,  0.98518519,  1.        ,  0.97777778,  1.        ,\n",
       "         0.98518519,  1.        ,  0.97777778,  1.        ,  0.97777778,\n",
       "         1.        ,  0.97777778,  1.        ,  0.96296296,  1.        ,\n",
       "         0.97037037,  1.        ,  0.95555556,  1.        ,  0.96296296,\n",
       "         1.        ,  0.94814815,  1.        ,  0.94814815,  1.        ,\n",
       "         0.93333333,  1.        ,  0.94074074,  1.        ,  0.94814815,\n",
       "         1.        ,  0.95555556,  1.        ,  0.94814815,  1.        ]),\n",
       " 'split3_test_score': array([ 0.93333333,  0.93333333,  0.93333333,  0.93333333,  0.93333333,\n",
       "         0.93333333,  0.93333333,  0.93333333,  1.        ,  1.        ,\n",
       "         1.        ,  1.        ,  1.        ,  1.        ,  1.        ,\n",
       "         1.        ,  1.        ,  1.        ,  1.        ,  1.        ,\n",
       "         1.        ,  1.        ,  1.        ,  1.        ,  1.        ,\n",
       "         1.        ,  1.        ,  1.        ,  1.        ,  1.        ,\n",
       "         1.        ,  1.        ,  1.        ,  1.        ,  1.        ,\n",
       "         1.        ,  1.        ,  1.        ,  1.        ,  1.        ,\n",
       "         1.        ,  1.        ,  1.        ,  1.        ,  1.        ,\n",
       "         1.        ,  1.        ,  1.        ,  1.        ,  1.        ,\n",
       "         1.        ,  1.        ,  1.        ,  1.        ,  0.93333333,\n",
       "         1.        ,  0.93333333,  0.93333333,  0.93333333,  0.93333333]),\n",
       " 'split3_train_score': array([ 1.        ,  1.        ,  0.98518519,  1.        ,  0.96296296,\n",
       "         1.        ,  0.96296296,  1.        ,  0.97037037,  1.        ,\n",
       "         0.97777778,  1.        ,  0.97037037,  1.        ,  0.98518519,\n",
       "         1.        ,  0.98518519,  1.        ,  0.97777778,  1.        ,\n",
       "         0.97777778,  1.        ,  0.97777778,  1.        ,  0.97777778,\n",
       "         1.        ,  0.97777778,  1.        ,  0.97777778,  1.        ,\n",
       "         0.98518519,  1.        ,  0.97777778,  1.        ,  0.97777778,\n",
       "         1.        ,  0.97777778,  1.        ,  0.97777778,  1.        ,\n",
       "         0.97777778,  1.        ,  0.97777778,  1.        ,  0.97777778,\n",
       "         1.        ,  0.97777778,  1.        ,  0.97037037,  1.        ,\n",
       "         0.96296296,  1.        ,  0.97037037,  1.        ,  0.96296296,\n",
       "         1.        ,  0.97037037,  1.        ,  0.94814815,  1.        ]),\n",
       " 'split4_test_score': array([ 0.86666667,  0.86666667,  0.86666667,  0.86666667,  0.86666667,\n",
       "         0.86666667,  0.86666667,  0.86666667,  0.86666667,  0.86666667,\n",
       "         0.86666667,  0.86666667,  0.86666667,  0.86666667,  1.        ,\n",
       "         0.86666667,  1.        ,  0.93333333,  1.        ,  0.93333333,\n",
       "         1.        ,  0.93333333,  1.        ,  0.86666667,  1.        ,\n",
       "         0.93333333,  1.        ,  0.93333333,  1.        ,  1.        ,\n",
       "         1.        ,  0.93333333,  1.        ,  1.        ,  1.        ,\n",
       "         0.93333333,  1.        ,  1.        ,  1.        ,  0.86666667,\n",
       "         0.93333333,  0.86666667,  1.        ,  0.86666667,  1.        ,\n",
       "         0.93333333,  1.        ,  0.93333333,  1.        ,  0.93333333,\n",
       "         1.        ,  0.86666667,  1.        ,  1.        ,  1.        ,\n",
       "         0.93333333,  1.        ,  1.        ,  1.        ,  0.93333333]),\n",
       " 'split4_train_score': array([ 1.        ,  1.        ,  0.97777778,  1.        ,  0.97777778,\n",
       "         1.        ,  0.97777778,  1.        ,  0.98518519,  1.        ,\n",
       "         0.98518519,  1.        ,  0.98518519,  1.        ,  0.97777778,\n",
       "         1.        ,  0.97777778,  1.        ,  0.97777778,  1.        ,\n",
       "         0.98518519,  1.        ,  0.97777778,  1.        ,  0.98518519,\n",
       "         1.        ,  0.97777778,  1.        ,  0.97777778,  1.        ,\n",
       "         0.97777778,  1.        ,  0.97777778,  1.        ,  0.97777778,\n",
       "         1.        ,  0.97777778,  1.        ,  0.97777778,  1.        ,\n",
       "         0.97777778,  1.        ,  0.97037037,  1.        ,  0.97777778,\n",
       "         1.        ,  0.97037037,  1.        ,  0.97037037,  1.        ,\n",
       "         0.95555556,  1.        ,  0.94814815,  1.        ,  0.94814815,\n",
       "         1.        ,  0.94814815,  1.        ,  0.94814815,  1.        ]),\n",
       " 'split5_test_score': array([ 1.        ,  1.        ,  1.        ,  1.        ,  1.        ,\n",
       "         1.        ,  1.        ,  1.        ,  0.93333333,  0.93333333,\n",
       "         0.93333333,  0.93333333,  0.93333333,  0.93333333,  0.86666667,\n",
       "         0.93333333,  0.93333333,  0.93333333,  0.86666667,  0.93333333,\n",
       "         0.86666667,  0.93333333,  0.93333333,  1.        ,  0.93333333,\n",
       "         0.93333333,  0.86666667,  0.93333333,  0.93333333,  0.93333333,\n",
       "         0.93333333,  0.93333333,  0.93333333,  0.93333333,  0.93333333,\n",
       "         0.93333333,  0.93333333,  0.93333333,  0.93333333,  0.93333333,\n",
       "         0.93333333,  0.93333333,  0.93333333,  0.93333333,  0.93333333,\n",
       "         0.93333333,  0.86666667,  0.93333333,  0.93333333,  0.93333333,\n",
       "         0.86666667,  0.93333333,  0.86666667,  0.93333333,  0.86666667,\n",
       "         0.93333333,  0.86666667,  0.93333333,  0.86666667,  0.93333333]),\n",
       " 'split5_train_score': array([ 1.        ,  1.        ,  0.97037037,  1.        ,  0.95555556,\n",
       "         1.        ,  0.96296296,  1.        ,  0.96296296,  1.        ,\n",
       "         0.95555556,  1.        ,  0.97037037,  1.        ,  0.97037037,\n",
       "         1.        ,  0.97777778,  1.        ,  0.97037037,  1.        ,\n",
       "         0.98518519,  1.        ,  0.97777778,  1.        ,  0.98518519,\n",
       "         1.        ,  0.97777778,  1.        ,  0.97777778,  1.        ,\n",
       "         0.97777778,  1.        ,  0.98518519,  1.        ,  0.98518519,\n",
       "         1.        ,  0.97777778,  1.        ,  0.97777778,  1.        ,\n",
       "         0.97777778,  1.        ,  0.97777778,  1.        ,  0.97777778,\n",
       "         1.        ,  0.97777778,  1.        ,  0.97777778,  1.        ,\n",
       "         0.96296296,  1.        ,  0.97037037,  1.        ,  0.96296296,\n",
       "         1.        ,  0.96296296,  1.        ,  0.96296296,  1.        ]),\n",
       " 'split6_test_score': array([ 0.86666667,  0.86666667,  0.86666667,  0.86666667,  0.93333333,\n",
       "         0.93333333,  0.93333333,  0.93333333,  0.93333333,  0.93333333,\n",
       "         0.93333333,  0.93333333,  0.93333333,  0.93333333,  0.93333333,\n",
       "         0.93333333,  0.93333333,  0.93333333,  0.93333333,  0.93333333,\n",
       "         0.93333333,  0.93333333,  0.93333333,  0.93333333,  0.93333333,\n",
       "         0.93333333,  0.93333333,  0.93333333,  0.93333333,  0.93333333,\n",
       "         0.93333333,  0.93333333,  0.93333333,  0.93333333,  0.93333333,\n",
       "         0.93333333,  0.93333333,  0.93333333,  0.93333333,  0.93333333,\n",
       "         0.93333333,  0.93333333,  0.93333333,  0.93333333,  0.93333333,\n",
       "         0.93333333,  0.93333333,  0.93333333,  0.93333333,  0.93333333,\n",
       "         0.93333333,  0.93333333,  0.93333333,  0.93333333,  0.93333333,\n",
       "         0.93333333,  0.93333333,  0.93333333,  0.93333333,  0.93333333]),\n",
       " 'split6_train_score': array([ 1.        ,  1.        ,  0.98518519,  1.        ,  0.97037037,\n",
       "         1.        ,  0.97037037,  1.        ,  0.97777778,  1.        ,\n",
       "         0.98518519,  1.        ,  0.97777778,  1.        ,  0.99259259,\n",
       "         1.        ,  0.99259259,  1.        ,  0.98518519,  1.        ,\n",
       "         0.99259259,  1.        ,  0.98518519,  1.        ,  0.99259259,\n",
       "         1.        ,  0.99259259,  1.        ,  0.98518519,  1.        ,\n",
       "         0.98518519,  1.        ,  0.97777778,  1.        ,  0.98518519,\n",
       "         1.        ,  0.98518519,  1.        ,  0.98518519,  1.        ,\n",
       "         0.98518519,  1.        ,  0.97777778,  1.        ,  0.97777778,\n",
       "         1.        ,  0.97777778,  1.        ,  0.97777778,  1.        ,\n",
       "         0.96296296,  1.        ,  0.97037037,  1.        ,  0.95555556,\n",
       "         1.        ,  0.96296296,  1.        ,  0.96296296,  1.        ]),\n",
       " 'split7_test_score': array([ 1.        ,  1.        ,  0.93333333,  1.        ,  1.        ,\n",
       "         1.        ,  1.        ,  1.        ,  1.        ,  1.        ,\n",
       "         1.        ,  1.        ,  1.        ,  1.        ,  0.93333333,\n",
       "         1.        ,  0.93333333,  1.        ,  0.93333333,  1.        ,\n",
       "         0.93333333,  1.        ,  0.93333333,  1.        ,  1.        ,\n",
       "         1.        ,  1.        ,  1.        ,  1.        ,  1.        ,\n",
       "         0.93333333,  1.        ,  1.        ,  1.        ,  1.        ,\n",
       "         1.        ,  1.        ,  1.        ,  1.        ,  1.        ,\n",
       "         1.        ,  1.        ,  0.93333333,  1.        ,  1.        ,\n",
       "         1.        ,  0.93333333,  1.        ,  0.93333333,  1.        ,\n",
       "         0.93333333,  1.        ,  1.        ,  1.        ,  0.93333333,\n",
       "         1.        ,  0.93333333,  1.        ,  0.93333333,  1.        ]),\n",
       " 'split7_train_score': array([ 1.        ,  1.        ,  0.97777778,  1.        ,  0.95555556,\n",
       "         1.        ,  0.96296296,  1.        ,  0.96296296,  1.        ,\n",
       "         0.97037037,  1.        ,  0.97037037,  1.        ,  0.97777778,\n",
       "         1.        ,  0.97037037,  1.        ,  0.97777778,  1.        ,\n",
       "         0.97777778,  1.        ,  0.97037037,  1.        ,  0.97037037,\n",
       "         1.        ,  0.97777778,  1.        ,  0.97777778,  1.        ,\n",
       "         0.97037037,  1.        ,  0.97777778,  1.        ,  0.97777778,\n",
       "         1.        ,  0.97777778,  1.        ,  0.97777778,  1.        ,\n",
       "         0.97777778,  1.        ,  0.97037037,  1.        ,  0.97777778,\n",
       "         1.        ,  0.97777778,  1.        ,  0.97777778,  1.        ,\n",
       "         0.97037037,  1.        ,  0.97037037,  1.        ,  0.96296296,\n",
       "         1.        ,  0.96296296,  1.        ,  0.95555556,  1.        ]),\n",
       " 'split8_test_score': array([ 1.,  1.,  1.,  1.,  1.,  1.,  1.,  1.,  1.,  1.,  1.,  1.,  1.,\n",
       "         1.,  1.,  1.,  1.,  1.,  1.,  1.,  1.,  1.,  1.,  1.,  1.,  1.,\n",
       "         1.,  1.,  1.,  1.,  1.,  1.,  1.,  1.,  1.,  1.,  1.,  1.,  1.,\n",
       "         1.,  1.,  1.,  1.,  1.,  1.,  1.,  1.,  1.,  1.,  1.,  1.,  1.,\n",
       "         1.,  1.,  1.,  1.,  1.,  1.,  1.,  1.]),\n",
       " 'split8_train_score': array([ 1.        ,  1.        ,  0.97777778,  1.        ,  0.95555556,\n",
       "         1.        ,  0.95555556,  1.        ,  0.96296296,  1.        ,\n",
       "         0.97037037,  1.        ,  0.97037037,  1.        ,  0.97777778,\n",
       "         1.        ,  0.97777778,  1.        ,  0.97777778,  1.        ,\n",
       "         0.97777778,  1.        ,  0.98518519,  1.        ,  0.97777778,\n",
       "         1.        ,  0.98518519,  1.        ,  0.98518519,  1.        ,\n",
       "         0.97777778,  1.        ,  0.97777778,  1.        ,  0.97777778,\n",
       "         1.        ,  0.97777778,  1.        ,  0.97777778,  1.        ,\n",
       "         0.97777778,  1.        ,  0.97037037,  1.        ,  0.97777778,\n",
       "         1.        ,  0.97037037,  1.        ,  0.97037037,  1.        ,\n",
       "         0.96296296,  1.        ,  0.97037037,  1.        ,  0.94814815,\n",
       "         1.        ,  0.95555556,  1.        ,  0.95555556,  1.        ]),\n",
       " 'split9_test_score': array([ 1.,  1.,  1.,  1.,  1.,  1.,  1.,  1.,  1.,  1.,  1.,  1.,  1.,\n",
       "         1.,  1.,  1.,  1.,  1.,  1.,  1.,  1.,  1.,  1.,  1.,  1.,  1.,\n",
       "         1.,  1.,  1.,  1.,  1.,  1.,  1.,  1.,  1.,  1.,  1.,  1.,  1.,\n",
       "         1.,  1.,  1.,  1.,  1.,  1.,  1.,  1.,  1.,  1.,  1.,  1.,  1.,\n",
       "         1.,  1.,  1.,  1.,  1.,  1.,  1.,  1.]),\n",
       " 'split9_train_score': array([ 1.        ,  1.        ,  0.97777778,  1.        ,  0.95555556,\n",
       "         1.        ,  0.97037037,  1.        ,  0.97037037,  1.        ,\n",
       "         0.97037037,  1.        ,  0.97777778,  1.        ,  0.97777778,\n",
       "         1.        ,  0.97777778,  1.        ,  0.96296296,  1.        ,\n",
       "         0.96296296,  1.        ,  0.96296296,  1.        ,  0.97777778,\n",
       "         1.        ,  0.97037037,  1.        ,  0.97777778,  1.        ,\n",
       "         0.96296296,  1.        ,  0.96296296,  1.        ,  0.95555556,\n",
       "         1.        ,  0.96296296,  1.        ,  0.94074074,  1.        ,\n",
       "         0.94814815,  1.        ,  0.94814815,  1.        ,  0.95555556,\n",
       "         1.        ,  0.95555556,  1.        ,  0.94814815,  1.        ,\n",
       "         0.94074074,  1.        ,  0.93333333,  1.        ,  0.93333333,\n",
       "         1.        ,  0.94074074,  1.        ,  0.94074074,  1.        ]),\n",
       " 'std_fit_time': array([  1.36100168e-04,   3.96403902e-04,   8.86311119e-05,\n",
       "          1.02888543e-04,   1.90932053e-05,   7.08933546e-06,\n",
       "          5.75399421e-06,   2.39856200e-05,   4.74396000e-05,\n",
       "          3.21650964e-05,   3.44347748e-06,   1.09642481e-05,\n",
       "          8.14750940e-05,   1.02369589e-04,   8.28113395e-05,\n",
       "          8.00021349e-06,   7.75984023e-05,   8.31361483e-05,\n",
       "          5.63737894e-05,   2.00927461e-05,   1.24214936e-05,\n",
       "          3.42303076e-05,   9.27371657e-06,   3.69527339e-05,\n",
       "          7.40311764e-06,   1.42710001e-05,   8.54659942e-06,\n",
       "          1.03420912e-05,   1.05581750e-05,   1.73139992e-05,\n",
       "          2.70533237e-05,   1.31884271e-05,   9.64533257e-05,\n",
       "          9.98014590e-06,   1.20442921e-05,   3.23748904e-05,\n",
       "          7.42745664e-05,   2.25253957e-05,   1.11171851e-05,\n",
       "          8.89924294e-06,   1.12627355e-04,   4.91679000e-05,\n",
       "          8.28311575e-06,   3.27430921e-05,   3.39007410e-05,\n",
       "          5.28101404e-05,   9.11856784e-06,   2.15232694e-05,\n",
       "          5.39142381e-06,   1.19330080e-04,   2.84718106e-06,\n",
       "          1.30570692e-05,   1.00003965e-04,   2.88923185e-05,\n",
       "          9.69461073e-06,   5.75280861e-06,   2.65087260e-05,\n",
       "          1.02317133e-05,   2.91606878e-05,   9.97778791e-05]),\n",
       " 'std_score_time': array([  3.35070547e-04,   7.54236709e-04,   1.52498802e-04,\n",
       "          1.38532661e-04,   4.08169544e-06,   3.53962553e-05,\n",
       "          2.37101373e-05,   4.57211002e-05,   1.98185405e-04,\n",
       "          5.03650657e-05,   1.92013419e-05,   2.51478601e-05,\n",
       "          1.39203543e-04,   1.81258367e-04,   1.53133158e-04,\n",
       "          2.09295801e-05,   1.40066896e-04,   1.88971205e-04,\n",
       "          1.16562051e-04,   4.70527447e-05,   4.60841837e-05,\n",
       "          2.37714802e-05,   1.28512701e-05,   6.78336724e-05,\n",
       "          1.30234389e-05,   1.60437990e-05,   9.63827564e-06,\n",
       "          9.66499194e-05,   1.18295265e-05,   1.74499599e-05,\n",
       "          5.87874904e-05,   4.72297577e-05,   7.41549854e-05,\n",
       "          1.10040183e-05,   4.05368310e-05,   3.30733579e-05,\n",
       "          1.87188816e-04,   4.88874608e-05,   3.98714355e-05,\n",
       "          1.41301784e-05,   1.88901345e-04,   1.01191735e-04,\n",
       "          2.34178025e-05,   2.03050901e-05,   1.17506986e-04,\n",
       "          7.64935981e-05,   1.89352390e-05,   1.71586027e-05,\n",
       "          6.45035903e-05,   1.60936596e-04,   4.32346966e-06,\n",
       "          2.02879502e-05,   1.59289735e-04,   5.43482512e-05,\n",
       "          1.70966071e-05,   7.93719048e-06,   9.12758868e-05,\n",
       "          1.39368661e-05,   2.34921558e-05,   1.67591081e-04]),\n",
       " 'std_test_score': array([ 0.05333333,  0.05333333,  0.05206833,  0.05333333,  0.04472136,\n",
       "         0.04472136,  0.04472136,  0.04472136,  0.04472136,  0.04472136,\n",
       "         0.04472136,  0.04472136,  0.04472136,  0.04472136,  0.04472136,\n",
       "         0.04472136,  0.03265986,  0.03265986,  0.04472136,  0.03265986,\n",
       "         0.04472136,  0.03265986,  0.03265986,  0.04422166,  0.0305505 ,\n",
       "         0.03265986,  0.04422166,  0.03265986,  0.03265986,  0.0305505 ,\n",
       "         0.03265986,  0.03265986,  0.03265986,  0.0305505 ,  0.0305505 ,\n",
       "         0.03265986,  0.03265986,  0.0305505 ,  0.0305505 ,  0.04472136,\n",
       "         0.03333333,  0.04472136,  0.03333333,  0.04472136,  0.03265986,\n",
       "         0.03265986,  0.04422166,  0.03265986,  0.03333333,  0.03265986,\n",
       "         0.04422166,  0.04472136,  0.04472136,  0.0305505 ,  0.04268749,\n",
       "         0.03265986,  0.04268749,  0.03265986,  0.04268749,  0.03333333]),\n",
       " 'std_train_score': array([ 0.        ,  0.        ,  0.00518519,  0.        ,  0.00744435,\n",
       "         0.        ,  0.00698813,  0.        ,  0.00725775,  0.        ,\n",
       "         0.00814815,  0.        ,  0.00592593,  0.        ,  0.00645763,\n",
       "         0.        ,  0.00645763,  0.        ,  0.00645763,  0.        ,\n",
       "         0.00814815,  0.        ,  0.0084132 ,  0.        ,  0.00578537,\n",
       "         0.        ,  0.00645763,  0.        ,  0.00296296,  0.        ,\n",
       "         0.00740741,  0.        ,  0.00573775,  0.        ,  0.00811441,\n",
       "         0.        ,  0.00573775,  0.        ,  0.01250514,  0.        ,\n",
       "         0.00996565,  0.        ,  0.01070876,  0.        ,  0.0075541 ,\n",
       "         0.        ,  0.00993808,  0.        ,  0.01120944,  0.        ,\n",
       "         0.01373869,  0.        ,  0.0143635 ,  0.        ,  0.01168869,\n",
       "         0.        ,  0.01007516,  0.        ,  0.006789  ,  0.        ])}"
      ]
     },
     "execution_count": 18,
     "metadata": {},
     "output_type": "execute_result"
    }
   ],
   "source": [
    "grid.cv_results_"
   ]
  },
  {
   "cell_type": "code",
   "execution_count": 19,
   "metadata": {},
   "outputs": [
    {
     "name": "stdout",
     "output_type": "stream",
     "text": [
      "0.98 {'n_neighbors': 13, 'weights': 'uniform'}\n"
     ]
    }
   ],
   "source": [
    "# Examine the best model\n",
    "print(grid.best_score_, grid.best_params_)"
   ]
  },
  {
   "cell_type": "code",
   "execution_count": 20,
   "metadata": {},
   "outputs": [
    {
     "name": "stdout",
     "output_type": "stream",
     "text": [
      "[1] [1]\n"
     ]
    }
   ],
   "source": [
    "# Now we can train our data with the parameters for the given model\n",
    "knn = KNeighborsClassifier(n_neighbors=13, weights='uniform')\n",
    "knn.fit(X_fts, y_trgt)\n",
    "knn_pred = knn.predict([[3, 5, 4, 2]])\n",
    "\n",
    "# A shortcut to the code above can be done with grid object\n",
    "grid_pred = grid.predict([[3, 5, 4, 2]])\n",
    "\n",
    "print(knn_pred, grid_pred)\n"
   ]
  },
  {
   "cell_type": "markdown",
   "metadata": {},
   "source": [
    "- They produce the same results"
   ]
  },
  {
   "cell_type": "markdown",
   "metadata": {},
   "source": [
    "## RandomizedSearchCV \n",
    "- Because the computation can be tedious and cost efficient, this method does the same as GridSearchCV but you can \n",
    "control a lot of the computation to create a randomized computation that won't require as much as computation as GridSearchCV"
   ]
  },
  {
   "cell_type": "code",
   "execution_count": 21,
   "metadata": {},
   "outputs": [],
   "source": [
    "from sklearn.model_selection import RandomizedSearchCV\n",
    "param_dist = dict(n_neighbors=k_range, weights=weight_options)"
   ]
  },
  {
   "cell_type": "markdown",
   "metadata": {},
   "source": [
    "** NOTE: ** According the Data School, we must remember that for continous parameters, we must specify a continous distribution and NOT a list of values "
   ]
  },
  {
   "cell_type": "code",
   "execution_count": 22,
   "metadata": {},
   "outputs": [
    {
     "data": {
      "text/plain": [
       "RandomizedSearchCV(cv=10, error_score='raise',\n",
       "          estimator=KNeighborsClassifier(algorithm='auto', leaf_size=30, metric='minkowski',\n",
       "           metric_params=None, n_jobs=1, n_neighbors=13, p=2,\n",
       "           weights='uniform'),\n",
       "          fit_params=None, iid=True, n_iter=10, n_jobs=1,\n",
       "          param_distributions={'n_neighbors': range(1, 31), 'weights': ['uniform', 'distance']},\n",
       "          pre_dispatch='2*n_jobs', random_state=5, refit=True,\n",
       "          return_train_score=True, scoring=None, verbose=0)"
      ]
     },
     "execution_count": 22,
     "metadata": {},
     "output_type": "execute_result"
    }
   ],
   "source": [
    "rand = RandomizedSearchCV(knn, param_dist, cv=10, n_iter=10, random_state=5)\n",
    "rand.fit(X_fts, y_trgt)"
   ]
  },
  {
   "cell_type": "code",
   "execution_count": 23,
   "metadata": {},
   "outputs": [
    {
     "data": {
      "text/plain": [
       "{'mean_fit_time': array([ 0.0004801 ,  0.00046637,  0.0005686 ,  0.00032468,  0.00029895,\n",
       "         0.00030155,  0.00032122,  0.00029674,  0.00029688,  0.0003113 ]),\n",
       " 'mean_score_time': array([ 0.00108645,  0.00113041,  0.00084431,  0.00059681,  0.00057991,\n",
       "         0.0005708 ,  0.00060432,  0.0005281 ,  0.0005496 ,  0.00056779]),\n",
       " 'mean_test_score': array([ 0.97333333,  0.96666667,  0.98      ,  0.96666667,  0.95333333,\n",
       "         0.97333333,  0.96666667,  0.97333333,  0.97333333,  0.97333333]),\n",
       " 'mean_train_score': array([ 1.        ,  0.97111111,  0.97777778,  0.96148148,  0.95925926,\n",
       "         1.        ,  1.        ,  0.97925926,  1.        ,  0.97925926]),\n",
       " 'param_n_neighbors': masked_array(data = [16 22 18 27 29 10 22 14 12 15],\n",
       "              mask = [False False False False False False False False False False],\n",
       "        fill_value = ?),\n",
       " 'param_weights': masked_array(data = ['distance' 'uniform' 'uniform' 'uniform' 'uniform' 'distance' 'distance'\n",
       "  'uniform' 'distance' 'uniform'],\n",
       "              mask = [False False False False False False False False False False],\n",
       "        fill_value = ?),\n",
       " 'params': [{'n_neighbors': 16, 'weights': 'distance'},\n",
       "  {'n_neighbors': 22, 'weights': 'uniform'},\n",
       "  {'n_neighbors': 18, 'weights': 'uniform'},\n",
       "  {'n_neighbors': 27, 'weights': 'uniform'},\n",
       "  {'n_neighbors': 29, 'weights': 'uniform'},\n",
       "  {'n_neighbors': 10, 'weights': 'distance'},\n",
       "  {'n_neighbors': 22, 'weights': 'distance'},\n",
       "  {'n_neighbors': 14, 'weights': 'uniform'},\n",
       "  {'n_neighbors': 12, 'weights': 'distance'},\n",
       "  {'n_neighbors': 15, 'weights': 'uniform'}],\n",
       " 'rank_test_score': array([ 2,  7,  1,  7, 10,  2,  7,  2,  2,  2], dtype=int32),\n",
       " 'split0_test_score': array([ 1.        ,  0.93333333,  1.        ,  0.93333333,  0.93333333,\n",
       "         1.        ,  1.        ,  1.        ,  1.        ,  0.93333333]),\n",
       " 'split0_train_score': array([ 1.        ,  0.97777778,  0.97777778,  0.96296296,  0.95555556,\n",
       "         1.        ,  1.        ,  0.97037037,  1.        ,  0.97777778]),\n",
       " 'split1_test_score': array([ 0.93333333,  0.93333333,  0.93333333,  0.93333333,  0.93333333,\n",
       "         0.93333333,  0.93333333,  0.93333333,  0.93333333,  0.93333333]),\n",
       " 'split1_train_score': array([ 1.        ,  0.98518519,  0.98518519,  0.97777778,  0.97777778,\n",
       "         1.        ,  1.        ,  0.97777778,  1.        ,  0.97777778]),\n",
       " 'split2_test_score': array([ 1.,  1.,  1.,  1.,  1.,  1.,  1.,  1.,  1.,  1.]),\n",
       " 'split2_train_score': array([ 1.        ,  0.95555556,  0.97777778,  0.94074074,  0.95555556,\n",
       "         1.        ,  1.        ,  0.98518519,  1.        ,  0.97777778]),\n",
       " 'split3_test_score': array([ 1.        ,  1.        ,  1.        ,  1.        ,  0.93333333,\n",
       "         1.        ,  1.        ,  1.        ,  1.        ,  1.        ]),\n",
       " 'split3_train_score': array([ 1.        ,  0.97777778,  0.97777778,  0.97037037,  0.97037037,\n",
       "         1.        ,  1.        ,  0.97777778,  1.        ,  0.97777778]),\n",
       " 'split4_test_score': array([ 0.93333333,  1.        ,  1.        ,  1.        ,  1.        ,\n",
       "         0.93333333,  0.86666667,  1.        ,  0.86666667,  1.        ]),\n",
       " 'split4_train_score': array([ 1.        ,  0.97037037,  0.97777778,  0.94814815,  0.94814815,\n",
       "         1.        ,  1.        ,  0.97777778,  1.        ,  0.97777778]),\n",
       " 'split5_test_score': array([ 0.93333333,  0.93333333,  0.93333333,  0.86666667,  0.86666667,\n",
       "         0.93333333,  0.93333333,  0.86666667,  1.        ,  0.93333333]),\n",
       " 'split5_train_score': array([ 1.        ,  0.97777778,  0.98518519,  0.97037037,  0.96296296,\n",
       "         1.        ,  1.        ,  0.97777778,  1.        ,  0.97777778]),\n",
       " 'split6_test_score': array([ 0.93333333,  0.93333333,  0.93333333,  0.93333333,  0.93333333,\n",
       "         0.93333333,  0.93333333,  0.93333333,  0.93333333,  0.93333333]),\n",
       " 'split6_train_score': array([ 1.        ,  0.97777778,  0.98518519,  0.97037037,  0.96296296,\n",
       "         1.        ,  1.        ,  0.99259259,  1.        ,  0.98518519]),\n",
       " 'split7_test_score': array([ 1.        ,  0.93333333,  1.        ,  1.        ,  0.93333333,\n",
       "         1.        ,  1.        ,  1.        ,  1.        ,  1.        ]),\n",
       " 'split7_train_score': array([ 1.        ,  0.97037037,  0.97777778,  0.97037037,  0.96296296,\n",
       "         1.        ,  1.        ,  0.97777778,  1.        ,  0.97777778]),\n",
       " 'split8_test_score': array([ 1.,  1.,  1.,  1.,  1.,  1.,  1.,  1.,  1.,  1.]),\n",
       " 'split8_train_score': array([ 1.        ,  0.97037037,  0.97777778,  0.97037037,  0.95555556,\n",
       "         1.        ,  1.        ,  0.98518519,  1.        ,  0.98518519]),\n",
       " 'split9_test_score': array([ 1.,  1.,  1.,  1.,  1.,  1.,  1.,  1.,  1.,  1.]),\n",
       " 'split9_train_score': array([ 1.        ,  0.94814815,  0.95555556,  0.93333333,  0.94074074,\n",
       "         1.        ,  1.        ,  0.97037037,  1.        ,  0.97777778]),\n",
       " 'std_fit_time': array([  1.32235079e-04,   1.61662018e-04,   4.90293307e-04,\n",
       "          7.44143153e-05,   9.41463619e-06,   1.10657046e-05,\n",
       "          2.89642858e-05,   9.05814907e-06,   8.01937469e-06,\n",
       "          5.09550260e-05]),\n",
       " 'std_score_time': array([  6.14870435e-04,   1.08375581e-03,   3.44435212e-04,\n",
       "          9.59757122e-05,   7.63922334e-05,   3.76134231e-05,\n",
       "          3.49587090e-05,   1.00458850e-05,   1.29462825e-05,\n",
       "          8.22636869e-05]),\n",
       " 'std_test_score': array([ 0.03265986,  0.03333333,  0.0305505 ,  0.04472136,  0.04268749,\n",
       "         0.03265986,  0.04472136,  0.04422166,  0.04422166,  0.03265986]),\n",
       " 'std_train_score': array([ 0.        ,  0.01070876,  0.00811441,  0.0143635 ,  0.01007516,\n",
       "         0.        ,  0.        ,  0.00645763,  0.        ,  0.00296296])}"
      ]
     },
     "execution_count": 23,
     "metadata": {},
     "output_type": "execute_result"
    }
   ],
   "source": [
    "rand.cv_results_\n"
   ]
  },
  {
   "cell_type": "markdown",
   "metadata": {},
   "source": [
    "**Notes:**\n",
    "- We are only iterating through the loop 10 times at random intervals"
   ]
  },
  {
   "cell_type": "code",
   "execution_count": 24,
   "metadata": {},
   "outputs": [
    {
     "name": "stdout",
     "output_type": "stream",
     "text": [
      "0.98 {'weights': 'uniform', 'n_neighbors': 18}\n"
     ]
    }
   ],
   "source": [
    "# Printing the best result\n",
    "print(rand.best_score_, rand.best_params_)"
   ]
  }
 ],
 "metadata": {
  "kernelspec": {
   "display_name": "Python 3",
   "language": "python",
   "name": "python3"
  },
  "language_info": {
   "codemirror_mode": {
    "name": "ipython",
    "version": 3
   },
   "file_extension": ".py",
   "mimetype": "text/x-python",
   "name": "python",
   "nbconvert_exporter": "python",
   "pygments_lexer": "ipython3",
   "version": "3.6.0"
  }
 },
 "nbformat": 4,
 "nbformat_minor": 2
}
