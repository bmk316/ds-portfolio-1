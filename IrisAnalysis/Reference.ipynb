{
 "cells": [
  {
   "cell_type": "markdown",
   "metadata": {},
   "source": [
    "#### What's a hyperparameter?\n",
    "- "
   ]
  },
  {
   "cell_type": "markdown",
   "metadata": {},
   "source": [
    "- **Low Bias**: Suggests less assumptions about the form of the target function.\n",
    "- **High-Bias**: Suggests more assumptions about the form of the target function.\n",
    "- **Low Variance**: Suggests small changes to the estimate of the target function with changes to the training dataset.\n",
    "- **High Variance**: Suggests large changes to the estimate of the target function with changes to the training dataset.\n",
    "\n",
    "#### High Bias - Low Variance tradeoff: \n",
    "- If a model has a high bias (which can be dangerous for overfitting), it tends to produce results that are low variance because it produces results that are accurate for a specific datasets.\n",
    "- If a model has a low bias, it tends to produce results that are high variance. This means that the results are quite scatter, but on average, it produce the accurate results which can be applied to a out-of-sample datasets."
   ]
  },
  {
   "cell_type": "markdown",
   "metadata": {},
   "source": [
    "#### Null Accuracy\n",
    "- Accuracy that can be achieved by always predicting the most frequent class"
   ]
  },
  {
   "cell_type": "markdown",
   "metadata": {
    "collapsed": true
   },
   "source": [
    "#### Sensitivity or \"True Positive Rate\"\n",
    "- The percentage of the prediction being correct when the actual value is positive\n",
    "- How \"sensitive\" is the classifier to detecting positive instances?\n",
    "- Also known as \"True Positive Rate\" or \"Recall\"\n",
    "\n",
    "#### Specificity\n",
    "- The percentage of the prediction being correct when the actual value is negative\n",
    "\n",
    "#### False Positive Rate\n",
    "- The actual value is a false positive (or the model predicted positive but it was negative) over the total number\n",
    "of negative\n",
    "- The same as 1 minus specificity\n",
    "\n",
    "#### Precision\n",
    "- The percentage of a prediction being correct when the model predicts a positive value\n",
    "- How \"precise\" is the classifier when predicting positive instances?\n",
    "\n"
   ]
  },
  {
   "cell_type": "markdown",
   "metadata": {},
   "source": [
    "### 6_Evaulate_Classifiers\n",
    "#### ROC Curve:\n",
    "- This curve plots True Positive Rate on the x-axis against False Positive Rate on the y-axis. \n",
    "- We want a high true positive rate and a low false positive rate\n",
    "- If we look at the graphs, a curve that surrounds the left and upper portion of the graph is optimal because\n",
    "it demonstrate a low false positive rate with a high true positive rate\n",
    "\n",
    "#### AUC Curve:\n",
    "- AUC is the percentage of the ROC plot that is underneath the curve:\n",
    "- AUC is useful as a single number summary of classifier performance.\n",
    "- If you randomly chose one positive and one negative observation, AUC represents the likelihood that your classifier will assign a higher predicted probability to the positive observation.\n",
    "- We would want a AUC curve close to 1 because it shows that a lot graph surrounds the left and upper portion of it\n",
    "- A AUC curve close to 0.5 is bad because it shows that it's close to the diagnol and doesn't provide useful info\n",
    "\n",
    "#### Important notes:\n",
    "- ROC curves are a useful even if your predicted probabilities are not 'properly calibrated'\n",
    "- AUC curves are a useful metric even when your classes are highly unbalanced\n",
    "- ROC curves can be extended to problems with three or more classes:\n",
    "     - Class 1 vs Class 2 & 3\n",
    "     - Class 2 vs Class 3 & 1\n",
    "     - Class 3 vs Class 1 & 2\n",
    "- Choosing a classification threshold is a business decision: \n",
    "     - Either minimize False Positive or maximize True Positive"
   ]
  }
 ],
 "metadata": {
  "kernelspec": {
   "display_name": "Python 3",
   "language": "python",
   "name": "python3"
  },
  "language_info": {
   "codemirror_mode": {
    "name": "ipython",
    "version": 3
   },
   "file_extension": ".py",
   "mimetype": "text/x-python",
   "name": "python",
   "nbconvert_exporter": "python",
   "pygments_lexer": "ipython3",
   "version": "3.6.0"
  }
 },
 "nbformat": 4,
 "nbformat_minor": 2
}
