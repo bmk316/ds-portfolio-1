{
 "cells": [
  {
   "cell_type": "markdown",
   "metadata": {},
   "source": [
    "# Election Data Analysis\n",
    "\n",
    "In this project we will analyze two datasets. The first data set will be the results of political polls. We will analyze this aggregated poll data and answer some questions:\n",
    "\n",
    "1. Who was being polled and what was their party affiliation?\n",
    "2. Did the poll results favor Trump or Clinton?\n",
    "3. How do undecided voters effect the poll?\n",
    "4. Can we account for the undecided voters?\n",
    "5. How did voter sentiment change over time?\n",
    "6. Can we see an effect in the polls from the debates?\n",
    "\n"
   ]
  },
  {
   "cell_type": "code",
   "execution_count": 125,
   "metadata": {
    "collapsed": true
   },
   "outputs": [],
   "source": [
    "import numpy as np\n",
    "import pandas as pd\n",
    "from pandas import DataFrame, Series\n",
    "\n",
    "import matplotlib.pyplot as plt\n",
    "import seaborn as sns\n",
    "sns.set_style('whitegrid')\n",
    "\n",
    "%matplotlib inline\n",
    "\n",
    "import requests # API\n",
    "from io import StringIO"
   ]
  },
  {
   "cell_type": "markdown",
   "metadata": {},
   "source": [
    "- The data for the polls will be obtained from HuffPost Pollster. You can check their website http://elections.huffingtonpost.com/pollster."
   ]
  },
  {
   "cell_type": "code",
   "execution_count": 126,
   "metadata": {
    "collapsed": true
   },
   "outputs": [],
   "source": [
    "# This is the url link for the poll data in csv form\n",
    "url = \"http://elections.huffingtonpost.com/pollster/2016-general-election-trump-vs-clinton.csv\"\n",
    "\n",
    "data = requests.get(url).text\n",
    "\n",
    "poll_data = StringIO(data)"
   ]
  },
  {
   "cell_type": "code",
   "execution_count": 127,
   "metadata": {},
   "outputs": [
    {
     "data": {
      "text/html": [
       "<div>\n",
       "<style>\n",
       "    .dataframe thead tr:only-child th {\n",
       "        text-align: right;\n",
       "    }\n",
       "\n",
       "    .dataframe thead th {\n",
       "        text-align: left;\n",
       "    }\n",
       "\n",
       "    .dataframe tbody tr th {\n",
       "        vertical-align: top;\n",
       "    }\n",
       "</style>\n",
       "<table border=\"1\" class=\"dataframe\">\n",
       "  <thead>\n",
       "    <tr style=\"text-align: right;\">\n",
       "      <th></th>\n",
       "      <th>Pollster</th>\n",
       "      <th>Start Date</th>\n",
       "      <th>End Date</th>\n",
       "      <th>Entry Date/Time (ET)</th>\n",
       "      <th>Number of Observations</th>\n",
       "      <th>Population</th>\n",
       "      <th>Mode</th>\n",
       "      <th>Trump</th>\n",
       "      <th>Clinton</th>\n",
       "      <th>Other</th>\n",
       "      <th>Undecided</th>\n",
       "      <th>Pollster URL</th>\n",
       "      <th>Source URL</th>\n",
       "      <th>Partisan</th>\n",
       "      <th>Affiliation</th>\n",
       "      <th>Question Text</th>\n",
       "      <th>Question Iteration</th>\n",
       "    </tr>\n",
       "  </thead>\n",
       "  <tbody>\n",
       "    <tr>\n",
       "      <th>0</th>\n",
       "      <td>Insights West</td>\n",
       "      <td>2016-11-04</td>\n",
       "      <td>2016-11-07</td>\n",
       "      <td>2016-11-08T12:16:30Z</td>\n",
       "      <td>940.0</td>\n",
       "      <td>Likely Voters</td>\n",
       "      <td>Internet</td>\n",
       "      <td>41.0</td>\n",
       "      <td>45.0</td>\n",
       "      <td>2.0</td>\n",
       "      <td>8.0</td>\n",
       "      <td>http://elections.huffingtonpost.com/pollster/p...</td>\n",
       "      <td>http://www.insightswest.com/news/clinton-is-ah...</td>\n",
       "      <td>Nonpartisan</td>\n",
       "      <td>None</td>\n",
       "      <td>As you may know, there will be a presidential ...</td>\n",
       "      <td>1</td>\n",
       "    </tr>\n",
       "    <tr>\n",
       "      <th>1</th>\n",
       "      <td>Insights West</td>\n",
       "      <td>2016-11-04</td>\n",
       "      <td>2016-11-07</td>\n",
       "      <td>2016-11-08T12:16:30Z</td>\n",
       "      <td>NaN</td>\n",
       "      <td>Likely Voters - Democrat</td>\n",
       "      <td>Internet</td>\n",
       "      <td>6.0</td>\n",
       "      <td>89.0</td>\n",
       "      <td>0.0</td>\n",
       "      <td>4.0</td>\n",
       "      <td>http://elections.huffingtonpost.com/pollster/p...</td>\n",
       "      <td>http://www.insightswest.com/news/clinton-is-ah...</td>\n",
       "      <td>Nonpartisan</td>\n",
       "      <td>None</td>\n",
       "      <td>As you may know, there will be a presidential ...</td>\n",
       "      <td>1</td>\n",
       "    </tr>\n",
       "    <tr>\n",
       "      <th>2</th>\n",
       "      <td>Insights West</td>\n",
       "      <td>2016-11-04</td>\n",
       "      <td>2016-11-07</td>\n",
       "      <td>2016-11-08T12:16:30Z</td>\n",
       "      <td>NaN</td>\n",
       "      <td>Likely Voters - Republican</td>\n",
       "      <td>Internet</td>\n",
       "      <td>82.0</td>\n",
       "      <td>7.0</td>\n",
       "      <td>2.0</td>\n",
       "      <td>6.0</td>\n",
       "      <td>http://elections.huffingtonpost.com/pollster/p...</td>\n",
       "      <td>http://www.insightswest.com/news/clinton-is-ah...</td>\n",
       "      <td>Nonpartisan</td>\n",
       "      <td>None</td>\n",
       "      <td>As you may know, there will be a presidential ...</td>\n",
       "      <td>1</td>\n",
       "    </tr>\n",
       "    <tr>\n",
       "      <th>3</th>\n",
       "      <td>Insights West</td>\n",
       "      <td>2016-11-04</td>\n",
       "      <td>2016-11-07</td>\n",
       "      <td>2016-11-08T12:16:30Z</td>\n",
       "      <td>NaN</td>\n",
       "      <td>Likely Voters - independent</td>\n",
       "      <td>Internet</td>\n",
       "      <td>38.0</td>\n",
       "      <td>43.0</td>\n",
       "      <td>4.0</td>\n",
       "      <td>7.0</td>\n",
       "      <td>http://elections.huffingtonpost.com/pollster/p...</td>\n",
       "      <td>http://www.insightswest.com/news/clinton-is-ah...</td>\n",
       "      <td>Nonpartisan</td>\n",
       "      <td>None</td>\n",
       "      <td>As you may know, there will be a presidential ...</td>\n",
       "      <td>1</td>\n",
       "    </tr>\n",
       "    <tr>\n",
       "      <th>4</th>\n",
       "      <td>IBD/TIPP</td>\n",
       "      <td>2016-11-04</td>\n",
       "      <td>2016-11-07</td>\n",
       "      <td>2016-11-08T12:10:06Z</td>\n",
       "      <td>1107.0</td>\n",
       "      <td>Likely Voters</td>\n",
       "      <td>Live Phone</td>\n",
       "      <td>43.0</td>\n",
       "      <td>41.0</td>\n",
       "      <td>4.0</td>\n",
       "      <td>5.0</td>\n",
       "      <td>http://elections.huffingtonpost.com/pollster/p...</td>\n",
       "      <td>http://www.investors.com/politics/ibd-tipp-pre...</td>\n",
       "      <td>Nonpartisan</td>\n",
       "      <td>None</td>\n",
       "      <td>NaN</td>\n",
       "      <td>1</td>\n",
       "    </tr>\n",
       "  </tbody>\n",
       "</table>\n",
       "</div>"
      ],
      "text/plain": [
       "        Pollster  Start Date    End Date  Entry Date/Time (ET)  \\\n",
       "0  Insights West  2016-11-04  2016-11-07  2016-11-08T12:16:30Z   \n",
       "1  Insights West  2016-11-04  2016-11-07  2016-11-08T12:16:30Z   \n",
       "2  Insights West  2016-11-04  2016-11-07  2016-11-08T12:16:30Z   \n",
       "3  Insights West  2016-11-04  2016-11-07  2016-11-08T12:16:30Z   \n",
       "4       IBD/TIPP  2016-11-04  2016-11-07  2016-11-08T12:10:06Z   \n",
       "\n",
       "   Number of Observations                   Population        Mode  Trump  \\\n",
       "0                   940.0                Likely Voters    Internet   41.0   \n",
       "1                     NaN     Likely Voters - Democrat    Internet    6.0   \n",
       "2                     NaN   Likely Voters - Republican    Internet   82.0   \n",
       "3                     NaN  Likely Voters - independent    Internet   38.0   \n",
       "4                  1107.0                Likely Voters  Live Phone   43.0   \n",
       "\n",
       "   Clinton  Other  Undecided  \\\n",
       "0     45.0    2.0        8.0   \n",
       "1     89.0    0.0        4.0   \n",
       "2      7.0    2.0        6.0   \n",
       "3     43.0    4.0        7.0   \n",
       "4     41.0    4.0        5.0   \n",
       "\n",
       "                                        Pollster URL  \\\n",
       "0  http://elections.huffingtonpost.com/pollster/p...   \n",
       "1  http://elections.huffingtonpost.com/pollster/p...   \n",
       "2  http://elections.huffingtonpost.com/pollster/p...   \n",
       "3  http://elections.huffingtonpost.com/pollster/p...   \n",
       "4  http://elections.huffingtonpost.com/pollster/p...   \n",
       "\n",
       "                                          Source URL     Partisan Affiliation  \\\n",
       "0  http://www.insightswest.com/news/clinton-is-ah...  Nonpartisan        None   \n",
       "1  http://www.insightswest.com/news/clinton-is-ah...  Nonpartisan        None   \n",
       "2  http://www.insightswest.com/news/clinton-is-ah...  Nonpartisan        None   \n",
       "3  http://www.insightswest.com/news/clinton-is-ah...  Nonpartisan        None   \n",
       "4  http://www.investors.com/politics/ibd-tipp-pre...  Nonpartisan        None   \n",
       "\n",
       "                                       Question Text  Question Iteration  \n",
       "0  As you may know, there will be a presidential ...                   1  \n",
       "1  As you may know, there will be a presidential ...                   1  \n",
       "2  As you may know, there will be a presidential ...                   1  \n",
       "3  As you may know, there will be a presidential ...                   1  \n",
       "4                                                NaN                   1  "
      ]
     },
     "execution_count": 127,
     "metadata": {},
     "output_type": "execute_result"
    }
   ],
   "source": [
    "poll_df = pd.read_csv(poll_data)\n",
    "poll_df.head()"
   ]
  },
  {
   "cell_type": "code",
   "execution_count": 128,
   "metadata": {},
   "outputs": [
    {
     "name": "stdout",
     "output_type": "stream",
     "text": [
      "<class 'pandas.core.frame.DataFrame'>\n",
      "RangeIndex: 1522 entries, 0 to 1521\n",
      "Data columns (total 17 columns):\n",
      "Pollster                  1522 non-null object\n",
      "Start Date                1522 non-null object\n",
      "End Date                  1522 non-null object\n",
      "Entry Date/Time (ET)      1522 non-null object\n",
      "Number of Observations    1013 non-null float64\n",
      "Population                1522 non-null object\n",
      "Mode                      1522 non-null object\n",
      "Trump                     1522 non-null float64\n",
      "Clinton                   1522 non-null float64\n",
      "Other                     1098 non-null float64\n",
      "Undecided                 1460 non-null float64\n",
      "Pollster URL              1522 non-null object\n",
      "Source URL                1522 non-null object\n",
      "Partisan                  1522 non-null object\n",
      "Affiliation               1522 non-null object\n",
      "Question Text             661 non-null object\n",
      "Question Iteration        1522 non-null int64\n",
      "dtypes: float64(5), int64(1), object(11)\n",
      "memory usage: 202.2+ KB\n"
     ]
    }
   ],
   "source": [
    "poll_df.info()"
   ]
  },
  {
   "cell_type": "code",
   "execution_count": 129,
   "metadata": {},
   "outputs": [
    {
     "data": {
      "text/html": [
       "<div>\n",
       "<style>\n",
       "    .dataframe thead tr:only-child th {\n",
       "        text-align: right;\n",
       "    }\n",
       "\n",
       "    .dataframe thead th {\n",
       "        text-align: left;\n",
       "    }\n",
       "\n",
       "    .dataframe tbody tr th {\n",
       "        vertical-align: top;\n",
       "    }\n",
       "</style>\n",
       "<table border=\"1\" class=\"dataframe\">\n",
       "  <thead>\n",
       "    <tr style=\"text-align: right;\">\n",
       "      <th></th>\n",
       "      <th>Number of Observations</th>\n",
       "      <th>Trump</th>\n",
       "      <th>Clinton</th>\n",
       "      <th>Other</th>\n",
       "      <th>Undecided</th>\n",
       "      <th>Question Iteration</th>\n",
       "    </tr>\n",
       "  </thead>\n",
       "  <tbody>\n",
       "    <tr>\n",
       "      <th>count</th>\n",
       "      <td>1013.000000</td>\n",
       "      <td>1522.00000</td>\n",
       "      <td>1522.000000</td>\n",
       "      <td>1098.000000</td>\n",
       "      <td>1460.000000</td>\n",
       "      <td>1522.000000</td>\n",
       "    </tr>\n",
       "    <tr>\n",
       "      <th>mean</th>\n",
       "      <td>1916.022705</td>\n",
       "      <td>40.64389</td>\n",
       "      <td>42.733903</td>\n",
       "      <td>5.806011</td>\n",
       "      <td>9.315068</td>\n",
       "      <td>1.216820</td>\n",
       "    </tr>\n",
       "    <tr>\n",
       "      <th>std</th>\n",
       "      <td>5050.240246</td>\n",
       "      <td>23.56639</td>\n",
       "      <td>25.298731</td>\n",
       "      <td>5.009533</td>\n",
       "      <td>6.253118</td>\n",
       "      <td>0.412214</td>\n",
       "    </tr>\n",
       "    <tr>\n",
       "      <th>min</th>\n",
       "      <td>59.000000</td>\n",
       "      <td>2.00000</td>\n",
       "      <td>1.000000</td>\n",
       "      <td>0.000000</td>\n",
       "      <td>0.000000</td>\n",
       "      <td>1.000000</td>\n",
       "    </tr>\n",
       "    <tr>\n",
       "      <th>25%</th>\n",
       "      <td>543.000000</td>\n",
       "      <td>32.00000</td>\n",
       "      <td>27.000000</td>\n",
       "      <td>3.000000</td>\n",
       "      <td>5.000000</td>\n",
       "      <td>1.000000</td>\n",
       "    </tr>\n",
       "    <tr>\n",
       "      <th>50%</th>\n",
       "      <td>894.000000</td>\n",
       "      <td>39.00000</td>\n",
       "      <td>42.000000</td>\n",
       "      <td>4.000000</td>\n",
       "      <td>8.000000</td>\n",
       "      <td>1.000000</td>\n",
       "    </tr>\n",
       "    <tr>\n",
       "      <th>75%</th>\n",
       "      <td>1281.000000</td>\n",
       "      <td>45.00000</td>\n",
       "      <td>50.000000</td>\n",
       "      <td>8.000000</td>\n",
       "      <td>12.000000</td>\n",
       "      <td>1.000000</td>\n",
       "    </tr>\n",
       "    <tr>\n",
       "      <th>max</th>\n",
       "      <td>70194.000000</td>\n",
       "      <td>93.00000</td>\n",
       "      <td>96.000000</td>\n",
       "      <td>34.000000</td>\n",
       "      <td>36.000000</td>\n",
       "      <td>2.000000</td>\n",
       "    </tr>\n",
       "  </tbody>\n",
       "</table>\n",
       "</div>"
      ],
      "text/plain": [
       "       Number of Observations       Trump      Clinton        Other  \\\n",
       "count             1013.000000  1522.00000  1522.000000  1098.000000   \n",
       "mean              1916.022705    40.64389    42.733903     5.806011   \n",
       "std               5050.240246    23.56639    25.298731     5.009533   \n",
       "min                 59.000000     2.00000     1.000000     0.000000   \n",
       "25%                543.000000    32.00000    27.000000     3.000000   \n",
       "50%                894.000000    39.00000    42.000000     4.000000   \n",
       "75%               1281.000000    45.00000    50.000000     8.000000   \n",
       "max              70194.000000    93.00000    96.000000    34.000000   \n",
       "\n",
       "         Undecided  Question Iteration  \n",
       "count  1460.000000         1522.000000  \n",
       "mean      9.315068            1.216820  \n",
       "std       6.253118            0.412214  \n",
       "min       0.000000            1.000000  \n",
       "25%       5.000000            1.000000  \n",
       "50%       8.000000            1.000000  \n",
       "75%      12.000000            1.000000  \n",
       "max      36.000000            2.000000  "
      ]
     },
     "execution_count": 129,
     "metadata": {},
     "output_type": "execute_result"
    }
   ],
   "source": [
    "poll_df.describe()"
   ]
  },
  {
   "cell_type": "code",
   "execution_count": 130,
   "metadata": {},
   "outputs": [
    {
     "data": {
      "text/plain": [
       "Index(['Pollster', 'Start Date', 'End Date', 'Entry Date/Time (ET)',\n",
       "       'Number of Observations', 'Population', 'Mode', 'Trump', 'Clinton',\n",
       "       'Other', 'Undecided', 'Pollster URL', 'Source URL', 'Partisan',\n",
       "       'Affiliation', 'Question Text', 'Question Iteration'],\n",
       "      dtype='object')"
      ]
     },
     "execution_count": 130,
     "metadata": {},
     "output_type": "execute_result"
    }
   ],
   "source": [
    "poll_df.columns"
   ]
  },
  {
   "cell_type": "code",
   "execution_count": 131,
   "metadata": {},
   "outputs": [
    {
     "data": {
      "image/png": "[encoded data removed]",
      "text/plain": [
       "<matplotlib.figure.Figure at 0x157f4b9b0>"
      ]
     },
     "metadata": {},
     "output_type": "display_data"
    }
   ],
   "source": [
    "# Checking the affiliation and parisian\n",
    "sns.factorplot('Affiliation', data=poll_df, kind=\"count\")\n",
    "plt.show()"
   ]
  },
  {
   "cell_type": "code",
   "execution_count": 132,
   "metadata": {},
   "outputs": [
    {
     "data": {
      "image/png": "[encoded data removed]",
      "text/plain": [
       "<matplotlib.figure.Figure at 0x15a0f4cc0>"
      ]
     },
     "metadata": {},
     "output_type": "display_data"
    }
   ],
   "source": [
    "sns.factorplot('Affiliation', data=poll_df, kind='count', hue='Population')\n",
    "plt.show()"
   ]
  },
  {
   "cell_type": "markdown",
   "metadata": {},
   "source": [
    "**Results**\n",
    "- Most people did not want to identify with any party\n",
    "- People who weren't affilated with no party had a similar population\n",
    "- Democrats and Repulicans were not outwardly backed"
   ]
  },
  {
   "cell_type": "code",
   "execution_count": 133,
   "metadata": {},
   "outputs": [
    {
     "data": {
      "text/html": [
       "<div>\n",
       "<style>\n",
       "    .dataframe thead tr:only-child th {\n",
       "        text-align: right;\n",
       "    }\n",
       "\n",
       "    .dataframe thead th {\n",
       "        text-align: left;\n",
       "    }\n",
       "\n",
       "    .dataframe tbody tr th {\n",
       "        vertical-align: top;\n",
       "    }\n",
       "</style>\n",
       "<table border=\"1\" class=\"dataframe\">\n",
       "  <thead>\n",
       "    <tr style=\"text-align: right;\">\n",
       "      <th></th>\n",
       "      <th>0</th>\n",
       "    </tr>\n",
       "  </thead>\n",
       "  <tbody>\n",
       "    <tr>\n",
       "      <th>Trump</th>\n",
       "      <td>40.643890</td>\n",
       "    </tr>\n",
       "    <tr>\n",
       "      <th>Clinton</th>\n",
       "      <td>42.733903</td>\n",
       "    </tr>\n",
       "    <tr>\n",
       "      <th>Other</th>\n",
       "      <td>5.806011</td>\n",
       "    </tr>\n",
       "    <tr>\n",
       "      <th>Undecided</th>\n",
       "      <td>9.315068</td>\n",
       "    </tr>\n",
       "  </tbody>\n",
       "</table>\n",
       "</div>"
      ],
      "text/plain": [
       "                   0\n",
       "Trump      40.643890\n",
       "Clinton    42.733903\n",
       "Other       5.806011\n",
       "Undecided   9.315068"
      ]
     },
     "execution_count": 133,
     "metadata": {},
     "output_type": "execute_result"
    }
   ],
   "source": [
    "# Averages\n",
    "avg = pd.DataFrame(poll_df.mean())\n",
    "\n",
    "avg.drop(['Question Iteration', 'Number of Observations'], axis=0, inplace=True)\n",
    "avg.head()"
   ]
  },
  {
   "cell_type": "code",
   "execution_count": 134,
   "metadata": {},
   "outputs": [
    {
     "data": {
      "text/html": [
       "<div>\n",
       "<style>\n",
       "    .dataframe thead tr:only-child th {\n",
       "        text-align: right;\n",
       "    }\n",
       "\n",
       "    .dataframe thead th {\n",
       "        text-align: left;\n",
       "    }\n",
       "\n",
       "    .dataframe tbody tr th {\n",
       "        vertical-align: top;\n",
       "    }\n",
       "</style>\n",
       "<table border=\"1\" class=\"dataframe\">\n",
       "  <thead>\n",
       "    <tr style=\"text-align: right;\">\n",
       "      <th></th>\n",
       "      <th>0</th>\n",
       "    </tr>\n",
       "  </thead>\n",
       "  <tbody>\n",
       "    <tr>\n",
       "      <th>Trump</th>\n",
       "      <td>23.566390</td>\n",
       "    </tr>\n",
       "    <tr>\n",
       "      <th>Clinton</th>\n",
       "      <td>25.298731</td>\n",
       "    </tr>\n",
       "    <tr>\n",
       "      <th>Other</th>\n",
       "      <td>5.009533</td>\n",
       "    </tr>\n",
       "    <tr>\n",
       "      <th>Undecided</th>\n",
       "      <td>6.253118</td>\n",
       "    </tr>\n",
       "  </tbody>\n",
       "</table>\n",
       "</div>"
      ],
      "text/plain": [
       "                   0\n",
       "Trump      23.566390\n",
       "Clinton    25.298731\n",
       "Other       5.009533\n",
       "Undecided   6.253118"
      ]
     },
     "execution_count": 134,
     "metadata": {},
     "output_type": "execute_result"
    }
   ],
   "source": [
    "# Standard Devation\n",
    "std = pd.DataFrame(poll_df.std())\n",
    "\n",
    "std.drop(['Number of Observations', 'Question Iteration'], axis=0, inplace=True)\n",
    "std.head()"
   ]
  },
  {
   "cell_type": "code",
   "execution_count": 135,
   "metadata": {},
   "outputs": [
    {
     "data": {
      "text/plain": [
       "<matplotlib.axes._subplots.AxesSubplot at 0x116788588>"
      ]
     },
     "execution_count": 135,
     "metadata": {},
     "output_type": "execute_result"
    },
    {
     "data": {
      "image/png": "[encoded data removed]",
      "text/plain": [
       "<matplotlib.figure.Figure at 0x116781320>"
      ]
     },
     "metadata": {},
     "output_type": "display_data"
    }
   ],
   "source": [
    "avg.plot(yerr=std, kind='bar', legend=False) # Y error means the black line on top of the bar graph\n"
   ]
  },
  {
   "cell_type": "code",
   "execution_count": 136,
   "metadata": {},
   "outputs": [
    {
     "data": {
      "text/html": [
       "<div>\n",
       "<style>\n",
       "    .dataframe thead tr:only-child th {\n",
       "        text-align: right;\n",
       "    }\n",
       "\n",
       "    .dataframe thead th {\n",
       "        text-align: left;\n",
       "    }\n",
       "\n",
       "    .dataframe tbody tr th {\n",
       "        vertical-align: top;\n",
       "    }\n",
       "</style>\n",
       "<table border=\"1\" class=\"dataframe\">\n",
       "  <thead>\n",
       "    <tr style=\"text-align: right;\">\n",
       "      <th></th>\n",
       "      <th>Average</th>\n",
       "      <th>Std. Deviation</th>\n",
       "    </tr>\n",
       "  </thead>\n",
       "  <tbody>\n",
       "    <tr>\n",
       "      <th>Trump</th>\n",
       "      <td>40.643890</td>\n",
       "      <td>23.566390</td>\n",
       "    </tr>\n",
       "    <tr>\n",
       "      <th>Clinton</th>\n",
       "      <td>42.733903</td>\n",
       "      <td>25.298731</td>\n",
       "    </tr>\n",
       "    <tr>\n",
       "      <th>Other</th>\n",
       "      <td>5.806011</td>\n",
       "      <td>5.009533</td>\n",
       "    </tr>\n",
       "    <tr>\n",
       "      <th>Undecided</th>\n",
       "      <td>9.315068</td>\n",
       "      <td>6.253118</td>\n",
       "    </tr>\n",
       "  </tbody>\n",
       "</table>\n",
       "</div>"
      ],
      "text/plain": [
       "             Average  Std. Deviation\n",
       "Trump      40.643890       23.566390\n",
       "Clinton    42.733903       25.298731\n",
       "Other       5.806011        5.009533\n",
       "Undecided   9.315068        6.253118"
      ]
     },
     "execution_count": 136,
     "metadata": {},
     "output_type": "execute_result"
    }
   ],
   "source": [
    "poll_std_avg = pd.concat([avg, std], axis=1)\n",
    "poll_std_avg.columns = ['Average','Std. Deviation']\n",
    "poll_std_avg"
   ]
  },
  {
   "cell_type": "markdown",
   "metadata": {},
   "source": [
    "** Race is a pretty close between Trump and Clinton. Other and Undecided should be looked at more closely.**"
   ]
  },
  {
   "cell_type": "code",
   "execution_count": 137,
   "metadata": {},
   "outputs": [
    {
     "data": {
      "text/html": [
       "<div>\n",
       "<style>\n",
       "    .dataframe thead tr:only-child th {\n",
       "        text-align: right;\n",
       "    }\n",
       "\n",
       "    .dataframe thead th {\n",
       "        text-align: left;\n",
       "    }\n",
       "\n",
       "    .dataframe tbody tr th {\n",
       "        vertical-align: top;\n",
       "    }\n",
       "</style>\n",
       "<table border=\"1\" class=\"dataframe\">\n",
       "  <thead>\n",
       "    <tr style=\"text-align: right;\">\n",
       "      <th></th>\n",
       "      <th>Pollster</th>\n",
       "      <th>Start Date</th>\n",
       "      <th>End Date</th>\n",
       "      <th>Entry Date/Time (ET)</th>\n",
       "      <th>Number of Observations</th>\n",
       "      <th>Population</th>\n",
       "      <th>Mode</th>\n",
       "      <th>Trump</th>\n",
       "      <th>Clinton</th>\n",
       "      <th>Other</th>\n",
       "      <th>Undecided</th>\n",
       "      <th>Pollster URL</th>\n",
       "      <th>Source URL</th>\n",
       "      <th>Partisan</th>\n",
       "      <th>Affiliation</th>\n",
       "      <th>Question Text</th>\n",
       "      <th>Question Iteration</th>\n",
       "    </tr>\n",
       "  </thead>\n",
       "  <tbody>\n",
       "    <tr>\n",
       "      <th>0</th>\n",
       "      <td>Insights West</td>\n",
       "      <td>2016-11-04</td>\n",
       "      <td>2016-11-07</td>\n",
       "      <td>2016-11-08T12:16:30Z</td>\n",
       "      <td>940.0</td>\n",
       "      <td>Likely Voters</td>\n",
       "      <td>Internet</td>\n",
       "      <td>41.0</td>\n",
       "      <td>45.0</td>\n",
       "      <td>2.0</td>\n",
       "      <td>8.0</td>\n",
       "      <td>http://elections.huffingtonpost.com/pollster/p...</td>\n",
       "      <td>http://www.insightswest.com/news/clinton-is-ah...</td>\n",
       "      <td>Nonpartisan</td>\n",
       "      <td>None</td>\n",
       "      <td>As you may know, there will be a presidential ...</td>\n",
       "      <td>1</td>\n",
       "    </tr>\n",
       "    <tr>\n",
       "      <th>1</th>\n",
       "      <td>Insights West</td>\n",
       "      <td>2016-11-04</td>\n",
       "      <td>2016-11-07</td>\n",
       "      <td>2016-11-08T12:16:30Z</td>\n",
       "      <td>NaN</td>\n",
       "      <td>Likely Voters - Democrat</td>\n",
       "      <td>Internet</td>\n",
       "      <td>6.0</td>\n",
       "      <td>89.0</td>\n",
       "      <td>0.0</td>\n",
       "      <td>4.0</td>\n",
       "      <td>http://elections.huffingtonpost.com/pollster/p...</td>\n",
       "      <td>http://www.insightswest.com/news/clinton-is-ah...</td>\n",
       "      <td>Nonpartisan</td>\n",
       "      <td>None</td>\n",
       "      <td>As you may know, there will be a presidential ...</td>\n",
       "      <td>1</td>\n",
       "    </tr>\n",
       "    <tr>\n",
       "      <th>2</th>\n",
       "      <td>Insights West</td>\n",
       "      <td>2016-11-04</td>\n",
       "      <td>2016-11-07</td>\n",
       "      <td>2016-11-08T12:16:30Z</td>\n",
       "      <td>NaN</td>\n",
       "      <td>Likely Voters - Republican</td>\n",
       "      <td>Internet</td>\n",
       "      <td>82.0</td>\n",
       "      <td>7.0</td>\n",
       "      <td>2.0</td>\n",
       "      <td>6.0</td>\n",
       "      <td>http://elections.huffingtonpost.com/pollster/p...</td>\n",
       "      <td>http://www.insightswest.com/news/clinton-is-ah...</td>\n",
       "      <td>Nonpartisan</td>\n",
       "      <td>None</td>\n",
       "      <td>As you may know, there will be a presidential ...</td>\n",
       "      <td>1</td>\n",
       "    </tr>\n",
       "    <tr>\n",
       "      <th>3</th>\n",
       "      <td>Insights West</td>\n",
       "      <td>2016-11-04</td>\n",
       "      <td>2016-11-07</td>\n",
       "      <td>2016-11-08T12:16:30Z</td>\n",
       "      <td>NaN</td>\n",
       "      <td>Likely Voters - independent</td>\n",
       "      <td>Internet</td>\n",
       "      <td>38.0</td>\n",
       "      <td>43.0</td>\n",
       "      <td>4.0</td>\n",
       "      <td>7.0</td>\n",
       "      <td>http://elections.huffingtonpost.com/pollster/p...</td>\n",
       "      <td>http://www.insightswest.com/news/clinton-is-ah...</td>\n",
       "      <td>Nonpartisan</td>\n",
       "      <td>None</td>\n",
       "      <td>As you may know, there will be a presidential ...</td>\n",
       "      <td>1</td>\n",
       "    </tr>\n",
       "    <tr>\n",
       "      <th>4</th>\n",
       "      <td>IBD/TIPP</td>\n",
       "      <td>2016-11-04</td>\n",
       "      <td>2016-11-07</td>\n",
       "      <td>2016-11-08T12:10:06Z</td>\n",
       "      <td>1107.0</td>\n",
       "      <td>Likely Voters</td>\n",
       "      <td>Live Phone</td>\n",
       "      <td>43.0</td>\n",
       "      <td>41.0</td>\n",
       "      <td>4.0</td>\n",
       "      <td>5.0</td>\n",
       "      <td>http://elections.huffingtonpost.com/pollster/p...</td>\n",
       "      <td>http://www.investors.com/politics/ibd-tipp-pre...</td>\n",
       "      <td>Nonpartisan</td>\n",
       "      <td>None</td>\n",
       "      <td>NaN</td>\n",
       "      <td>1</td>\n",
       "    </tr>\n",
       "  </tbody>\n",
       "</table>\n",
       "</div>"
      ],
      "text/plain": [
       "        Pollster  Start Date    End Date  Entry Date/Time (ET)  \\\n",
       "0  Insights West  2016-11-04  2016-11-07  2016-11-08T12:16:30Z   \n",
       "1  Insights West  2016-11-04  2016-11-07  2016-11-08T12:16:30Z   \n",
       "2  Insights West  2016-11-04  2016-11-07  2016-11-08T12:16:30Z   \n",
       "3  Insights West  2016-11-04  2016-11-07  2016-11-08T12:16:30Z   \n",
       "4       IBD/TIPP  2016-11-04  2016-11-07  2016-11-08T12:10:06Z   \n",
       "\n",
       "   Number of Observations                   Population        Mode  Trump  \\\n",
       "0                   940.0                Likely Voters    Internet   41.0   \n",
       "1                     NaN     Likely Voters - Democrat    Internet    6.0   \n",
       "2                     NaN   Likely Voters - Republican    Internet   82.0   \n",
       "3                     NaN  Likely Voters - independent    Internet   38.0   \n",
       "4                  1107.0                Likely Voters  Live Phone   43.0   \n",
       "\n",
       "   Clinton  Other  Undecided  \\\n",
       "0     45.0    2.0        8.0   \n",
       "1     89.0    0.0        4.0   \n",
       "2      7.0    2.0        6.0   \n",
       "3     43.0    4.0        7.0   \n",
       "4     41.0    4.0        5.0   \n",
       "\n",
       "                                        Pollster URL  \\\n",
       "0  http://elections.huffingtonpost.com/pollster/p...   \n",
       "1  http://elections.huffingtonpost.com/pollster/p...   \n",
       "2  http://elections.huffingtonpost.com/pollster/p...   \n",
       "3  http://elections.huffingtonpost.com/pollster/p...   \n",
       "4  http://elections.huffingtonpost.com/pollster/p...   \n",
       "\n",
       "                                          Source URL     Partisan Affiliation  \\\n",
       "0  http://www.insightswest.com/news/clinton-is-ah...  Nonpartisan        None   \n",
       "1  http://www.insightswest.com/news/clinton-is-ah...  Nonpartisan        None   \n",
       "2  http://www.insightswest.com/news/clinton-is-ah...  Nonpartisan        None   \n",
       "3  http://www.insightswest.com/news/clinton-is-ah...  Nonpartisan        None   \n",
       "4  http://www.investors.com/politics/ibd-tipp-pre...  Nonpartisan        None   \n",
       "\n",
       "                                       Question Text  Question Iteration  \n",
       "0  As you may know, there will be a presidential ...                   1  \n",
       "1  As you may know, there will be a presidential ...                   1  \n",
       "2  As you may know, there will be a presidential ...                   1  \n",
       "3  As you may know, there will be a presidential ...                   1  \n",
       "4                                                NaN                   1  "
      ]
     },
     "execution_count": 137,
     "metadata": {},
     "output_type": "execute_result"
    }
   ],
   "source": [
    "poll_df.head()"
   ]
  },
  {
   "cell_type": "code",
   "execution_count": 185,
   "metadata": {},
   "outputs": [
    {
     "data": {
      "image/png": "[encoded data removed]",
      "text/plain": [
       "<matplotlib.figure.Figure at 0x125462eb8>"
      ]
     },
     "metadata": {},
     "output_type": "display_data"
    }
   ],
   "source": [
    "# A quick time-series about how people did vote for both of these candidates\n",
    "\n",
    "end_date_df = poll_df.groupby(['End Date'], as_index=False).mean()\n",
    "\n",
    "end_date_df.plot(x=\"End Date\", y=['Trump','Clinton','Undecided', 'Other'], marker='o', linestyle='')\n",
    "plt.show()"
   ]
  },
  {
   "cell_type": "code",
   "execution_count": 140,
   "metadata": {
    "collapsed": true
   },
   "outputs": [],
   "source": [
    "# For timestamps\n",
    "from datetime import datetime"
   ]
  },
  {
   "cell_type": "code",
   "execution_count": 141,
   "metadata": {},
   "outputs": [
    {
     "data": {
      "text/html": [
       "<div>\n",
       "<style>\n",
       "    .dataframe thead tr:only-child th {\n",
       "        text-align: right;\n",
       "    }\n",
       "\n",
       "    .dataframe thead th {\n",
       "        text-align: left;\n",
       "    }\n",
       "\n",
       "    .dataframe tbody tr th {\n",
       "        vertical-align: top;\n",
       "    }\n",
       "</style>\n",
       "<table border=\"1\" class=\"dataframe\">\n",
       "  <thead>\n",
       "    <tr style=\"text-align: right;\">\n",
       "      <th></th>\n",
       "      <th>Pollster</th>\n",
       "      <th>Start Date</th>\n",
       "      <th>End Date</th>\n",
       "      <th>Entry Date/Time (ET)</th>\n",
       "      <th>Number of Observations</th>\n",
       "      <th>Population</th>\n",
       "      <th>Mode</th>\n",
       "      <th>Trump</th>\n",
       "      <th>Clinton</th>\n",
       "      <th>Other</th>\n",
       "      <th>Undecided</th>\n",
       "      <th>Pollster URL</th>\n",
       "      <th>Source URL</th>\n",
       "      <th>Partisan</th>\n",
       "      <th>Affiliation</th>\n",
       "      <th>Question Text</th>\n",
       "      <th>Question Iteration</th>\n",
       "      <th>Difference</th>\n",
       "    </tr>\n",
       "  </thead>\n",
       "  <tbody>\n",
       "    <tr>\n",
       "      <th>0</th>\n",
       "      <td>Insights West</td>\n",
       "      <td>2016-11-04</td>\n",
       "      <td>2016-11-07</td>\n",
       "      <td>2016-11-08T12:16:30Z</td>\n",
       "      <td>940.0</td>\n",
       "      <td>Likely Voters</td>\n",
       "      <td>Internet</td>\n",
       "      <td>41.0</td>\n",
       "      <td>45.0</td>\n",
       "      <td>2.0</td>\n",
       "      <td>8.0</td>\n",
       "      <td>http://elections.huffingtonpost.com/pollster/p...</td>\n",
       "      <td>http://www.insightswest.com/news/clinton-is-ah...</td>\n",
       "      <td>Nonpartisan</td>\n",
       "      <td>None</td>\n",
       "      <td>As you may know, there will be a presidential ...</td>\n",
       "      <td>1</td>\n",
       "      <td>0.04</td>\n",
       "    </tr>\n",
       "    <tr>\n",
       "      <th>1</th>\n",
       "      <td>Insights West</td>\n",
       "      <td>2016-11-04</td>\n",
       "      <td>2016-11-07</td>\n",
       "      <td>2016-11-08T12:16:30Z</td>\n",
       "      <td>NaN</td>\n",
       "      <td>Likely Voters - Democrat</td>\n",
       "      <td>Internet</td>\n",
       "      <td>6.0</td>\n",
       "      <td>89.0</td>\n",
       "      <td>0.0</td>\n",
       "      <td>4.0</td>\n",
       "      <td>http://elections.huffingtonpost.com/pollster/p...</td>\n",
       "      <td>http://www.insightswest.com/news/clinton-is-ah...</td>\n",
       "      <td>Nonpartisan</td>\n",
       "      <td>None</td>\n",
       "      <td>As you may know, there will be a presidential ...</td>\n",
       "      <td>1</td>\n",
       "      <td>0.83</td>\n",
       "    </tr>\n",
       "  </tbody>\n",
       "</table>\n",
       "</div>"
      ],
      "text/plain": [
       "        Pollster  Start Date    End Date  Entry Date/Time (ET)  \\\n",
       "0  Insights West  2016-11-04  2016-11-07  2016-11-08T12:16:30Z   \n",
       "1  Insights West  2016-11-04  2016-11-07  2016-11-08T12:16:30Z   \n",
       "\n",
       "   Number of Observations                Population      Mode  Trump  Clinton  \\\n",
       "0                   940.0             Likely Voters  Internet   41.0     45.0   \n",
       "1                     NaN  Likely Voters - Democrat  Internet    6.0     89.0   \n",
       "\n",
       "   Other  Undecided                                       Pollster URL  \\\n",
       "0    2.0        8.0  http://elections.huffingtonpost.com/pollster/p...   \n",
       "1    0.0        4.0  http://elections.huffingtonpost.com/pollster/p...   \n",
       "\n",
       "                                          Source URL     Partisan Affiliation  \\\n",
       "0  http://www.insightswest.com/news/clinton-is-ah...  Nonpartisan        None   \n",
       "1  http://www.insightswest.com/news/clinton-is-ah...  Nonpartisan        None   \n",
       "\n",
       "                                       Question Text  Question Iteration  \\\n",
       "0  As you may know, there will be a presidential ...                   1   \n",
       "1  As you may know, there will be a presidential ...                   1   \n",
       "\n",
       "   Difference  \n",
       "0        0.04  \n",
       "1        0.83  "
      ]
     },
     "execution_count": 141,
     "metadata": {},
     "output_type": "execute_result"
    }
   ],
   "source": [
    "# Difference btw. both candidates\n",
    "# Positive value: Clinton leads\n",
    "# Negative value: Trump leads\n",
    "\n",
    "poll_df['Difference'] = (poll_df.Clinton-poll_df.Trump)/100\n",
    "poll_df.head(2)"
   ]
  },
  {
   "cell_type": "code",
   "execution_count": 142,
   "metadata": {},
   "outputs": [
    {
     "data": {
      "text/html": [
       "<div>\n",
       "<style>\n",
       "    .dataframe thead tr:only-child th {\n",
       "        text-align: right;\n",
       "    }\n",
       "\n",
       "    .dataframe thead th {\n",
       "        text-align: left;\n",
       "    }\n",
       "\n",
       "    .dataframe tbody tr th {\n",
       "        vertical-align: top;\n",
       "    }\n",
       "</style>\n",
       "<table border=\"1\" class=\"dataframe\">\n",
       "  <thead>\n",
       "    <tr style=\"text-align: right;\">\n",
       "      <th></th>\n",
       "      <th>Start Date</th>\n",
       "      <th>Number of Observations</th>\n",
       "      <th>Trump</th>\n",
       "      <th>Clinton</th>\n",
       "      <th>Other</th>\n",
       "      <th>Undecided</th>\n",
       "      <th>Question Iteration</th>\n",
       "      <th>Difference</th>\n",
       "    </tr>\n",
       "  </thead>\n",
       "  <tbody>\n",
       "    <tr>\n",
       "      <th>0</th>\n",
       "      <td>2015-05-19</td>\n",
       "      <td>1046.00</td>\n",
       "      <td>34.25</td>\n",
       "      <td>48.75</td>\n",
       "      <td>2.5</td>\n",
       "      <td>14.00</td>\n",
       "      <td>1.0</td>\n",
       "      <td>0.1450</td>\n",
       "    </tr>\n",
       "    <tr>\n",
       "      <th>1</th>\n",
       "      <td>2015-06-20</td>\n",
       "      <td>420.75</td>\n",
       "      <td>35.00</td>\n",
       "      <td>47.25</td>\n",
       "      <td>NaN</td>\n",
       "      <td>17.75</td>\n",
       "      <td>1.0</td>\n",
       "      <td>0.1225</td>\n",
       "    </tr>\n",
       "    <tr>\n",
       "      <th>2</th>\n",
       "      <td>2015-06-21</td>\n",
       "      <td>1005.00</td>\n",
       "      <td>34.00</td>\n",
       "      <td>51.00</td>\n",
       "      <td>3.0</td>\n",
       "      <td>12.00</td>\n",
       "      <td>1.0</td>\n",
       "      <td>0.1700</td>\n",
       "    </tr>\n",
       "    <tr>\n",
       "      <th>3</th>\n",
       "      <td>2015-06-26</td>\n",
       "      <td>890.00</td>\n",
       "      <td>36.75</td>\n",
       "      <td>57.00</td>\n",
       "      <td>6.0</td>\n",
       "      <td>0.00</td>\n",
       "      <td>1.0</td>\n",
       "      <td>0.2025</td>\n",
       "    </tr>\n",
       "    <tr>\n",
       "      <th>4</th>\n",
       "      <td>2015-07-09</td>\n",
       "      <td>499.25</td>\n",
       "      <td>35.25</td>\n",
       "      <td>49.50</td>\n",
       "      <td>NaN</td>\n",
       "      <td>16.00</td>\n",
       "      <td>1.0</td>\n",
       "      <td>0.1425</td>\n",
       "    </tr>\n",
       "  </tbody>\n",
       "</table>\n",
       "</div>"
      ],
      "text/plain": [
       "   Start Date  Number of Observations  Trump  Clinton  Other  Undecided  \\\n",
       "0  2015-05-19                 1046.00  34.25    48.75    2.5      14.00   \n",
       "1  2015-06-20                  420.75  35.00    47.25    NaN      17.75   \n",
       "2  2015-06-21                 1005.00  34.00    51.00    3.0      12.00   \n",
       "3  2015-06-26                  890.00  36.75    57.00    6.0       0.00   \n",
       "4  2015-07-09                  499.25  35.25    49.50    NaN      16.00   \n",
       "\n",
       "   Question Iteration  Difference  \n",
       "0                 1.0      0.1450  \n",
       "1                 1.0      0.1225  \n",
       "2                 1.0      0.1700  \n",
       "3                 1.0      0.2025  \n",
       "4                 1.0      0.1425  "
      ]
     },
     "execution_count": 142,
     "metadata": {},
     "output_type": "execute_result"
    }
   ],
   "source": [
    "# Organize the data through start_date\n",
    "# Looking at the mean\n",
    "\n",
    "poll_start_df = poll_df.groupby(['Start Date'], as_index=False).mean()\n",
    "poll_start_df.head()"
   ]
  },
  {
   "cell_type": "code",
   "execution_count": 143,
   "metadata": {},
   "outputs": [
    {
     "data": {
      "image/png": "[encoded data removed]",
      "text/plain": [
       "<matplotlib.figure.Figure at 0x13b4fc390>"
      ]
     },
     "metadata": {},
     "output_type": "display_data"
    }
   ],
   "source": [
    "# Anything positive means that Clinton had a huge lead\n",
    "# There are a couple of negative spikes indicating that Trump got a huge turnout in those dates\n",
    "\n",
    "poll_start_df.plot(x='Start Date',y='Difference',figsize=(12,4), marker='o',linestyle='-', color='red')\n",
    "plt.show()"
   ]
  },
  {
   "cell_type": "code",
   "execution_count": 144,
   "metadata": {},
   "outputs": [
    {
     "data": {
      "text/html": [
       "<div>\n",
       "<style>\n",
       "    .dataframe thead tr:only-child th {\n",
       "        text-align: right;\n",
       "    }\n",
       "\n",
       "    .dataframe thead th {\n",
       "        text-align: left;\n",
       "    }\n",
       "\n",
       "    .dataframe tbody tr th {\n",
       "        vertical-align: top;\n",
       "    }\n",
       "</style>\n",
       "<table border=\"1\" class=\"dataframe\">\n",
       "  <thead>\n",
       "    <tr style=\"text-align: right;\">\n",
       "      <th></th>\n",
       "      <th>Start Date</th>\n",
       "      <th>Number of Observations</th>\n",
       "      <th>Trump</th>\n",
       "      <th>Clinton</th>\n",
       "      <th>Other</th>\n",
       "      <th>Undecided</th>\n",
       "      <th>Question Iteration</th>\n",
       "      <th>Difference</th>\n",
       "    </tr>\n",
       "  </thead>\n",
       "  <tbody>\n",
       "    <tr>\n",
       "      <th>15</th>\n",
       "      <td>2015-08-21</td>\n",
       "      <td>3567.000000</td>\n",
       "      <td>54.000000</td>\n",
       "      <td>46.000000</td>\n",
       "      <td>NaN</td>\n",
       "      <td>NaN</td>\n",
       "      <td>1.000000</td>\n",
       "      <td>-0.080000</td>\n",
       "    </tr>\n",
       "    <tr>\n",
       "      <th>223</th>\n",
       "      <td>2016-09-20</td>\n",
       "      <td>1000.000000</td>\n",
       "      <td>44.750000</td>\n",
       "      <td>37.750000</td>\n",
       "      <td>5.000000</td>\n",
       "      <td>4.750000</td>\n",
       "      <td>1.000000</td>\n",
       "      <td>-0.070000</td>\n",
       "    </tr>\n",
       "    <tr>\n",
       "      <th>126</th>\n",
       "      <td>2016-05-19</td>\n",
       "      <td>1000.500000</td>\n",
       "      <td>43.750000</td>\n",
       "      <td>38.250000</td>\n",
       "      <td>NaN</td>\n",
       "      <td>18.000000</td>\n",
       "      <td>1.000000</td>\n",
       "      <td>-0.055000</td>\n",
       "    </tr>\n",
       "    <tr>\n",
       "      <th>69</th>\n",
       "      <td>2016-02-11</td>\n",
       "      <td>495.500000</td>\n",
       "      <td>46.750000</td>\n",
       "      <td>41.500000</td>\n",
       "      <td>NaN</td>\n",
       "      <td>12.500000</td>\n",
       "      <td>1.000000</td>\n",
       "      <td>-0.052500</td>\n",
       "    </tr>\n",
       "    <tr>\n",
       "      <th>18</th>\n",
       "      <td>2015-09-02</td>\n",
       "      <td>900.000000</td>\n",
       "      <td>45.000000</td>\n",
       "      <td>40.000000</td>\n",
       "      <td>NaN</td>\n",
       "      <td>16.000000</td>\n",
       "      <td>1.000000</td>\n",
       "      <td>-0.050000</td>\n",
       "    </tr>\n",
       "    <tr>\n",
       "      <th>31</th>\n",
       "      <td>2015-10-10</td>\n",
       "      <td>1004.000000</td>\n",
       "      <td>45.000000</td>\n",
       "      <td>40.000000</td>\n",
       "      <td>4.000000</td>\n",
       "      <td>10.000000</td>\n",
       "      <td>1.000000</td>\n",
       "      <td>-0.050000</td>\n",
       "    </tr>\n",
       "    <tr>\n",
       "      <th>28</th>\n",
       "      <td>2015-10-01</td>\n",
       "      <td>838.666667</td>\n",
       "      <td>46.000000</td>\n",
       "      <td>41.250000</td>\n",
       "      <td>NaN</td>\n",
       "      <td>12.750000</td>\n",
       "      <td>1.000000</td>\n",
       "      <td>-0.047500</td>\n",
       "    </tr>\n",
       "    <tr>\n",
       "      <th>122</th>\n",
       "      <td>2016-05-14</td>\n",
       "      <td>1146.333333</td>\n",
       "      <td>41.916667</td>\n",
       "      <td>37.666667</td>\n",
       "      <td>6.750000</td>\n",
       "      <td>9.583333</td>\n",
       "      <td>1.333333</td>\n",
       "      <td>-0.042500</td>\n",
       "    </tr>\n",
       "    <tr>\n",
       "      <th>49</th>\n",
       "      <td>2015-12-03</td>\n",
       "      <td>1023.500000</td>\n",
       "      <td>44.750000</td>\n",
       "      <td>40.500000</td>\n",
       "      <td>NaN</td>\n",
       "      <td>15.000000</td>\n",
       "      <td>1.000000</td>\n",
       "      <td>-0.042500</td>\n",
       "    </tr>\n",
       "    <tr>\n",
       "      <th>175</th>\n",
       "      <td>2016-07-22</td>\n",
       "      <td>1136.928571</td>\n",
       "      <td>43.758621</td>\n",
       "      <td>39.551724</td>\n",
       "      <td>3.470588</td>\n",
       "      <td>8.965517</td>\n",
       "      <td>1.413793</td>\n",
       "      <td>-0.042069</td>\n",
       "    </tr>\n",
       "  </tbody>\n",
       "</table>\n",
       "</div>"
      ],
      "text/plain": [
       "     Start Date  Number of Observations      Trump    Clinton     Other  \\\n",
       "15   2015-08-21             3567.000000  54.000000  46.000000       NaN   \n",
       "223  2016-09-20             1000.000000  44.750000  37.750000  5.000000   \n",
       "126  2016-05-19             1000.500000  43.750000  38.250000       NaN   \n",
       "69   2016-02-11              495.500000  46.750000  41.500000       NaN   \n",
       "18   2015-09-02              900.000000  45.000000  40.000000       NaN   \n",
       "31   2015-10-10             1004.000000  45.000000  40.000000  4.000000   \n",
       "28   2015-10-01              838.666667  46.000000  41.250000       NaN   \n",
       "122  2016-05-14             1146.333333  41.916667  37.666667  6.750000   \n",
       "49   2015-12-03             1023.500000  44.750000  40.500000       NaN   \n",
       "175  2016-07-22             1136.928571  43.758621  39.551724  3.470588   \n",
       "\n",
       "     Undecided  Question Iteration  Difference  \n",
       "15         NaN            1.000000   -0.080000  \n",
       "223   4.750000            1.000000   -0.070000  \n",
       "126  18.000000            1.000000   -0.055000  \n",
       "69   12.500000            1.000000   -0.052500  \n",
       "18   16.000000            1.000000   -0.050000  \n",
       "31   10.000000            1.000000   -0.050000  \n",
       "28   12.750000            1.000000   -0.047500  \n",
       "122   9.583333            1.333333   -0.042500  \n",
       "49   15.000000            1.000000   -0.042500  \n",
       "175   8.965517            1.413793   -0.042069  "
      ]
     },
     "execution_count": 144,
     "metadata": {},
     "output_type": "execute_result"
    }
   ],
   "source": [
    "# Finding those big negtative spike\n",
    "poll_start_df.nsmallest(10,'Difference')"
   ]
  },
  {
   "cell_type": "code",
   "execution_count": 145,
   "metadata": {
    "collapsed": true
   },
   "outputs": [],
   "source": [
    "# Finding those big negtative spike\n",
    "trump_dates = poll_start_df.nsmallest(5,'Difference')['Start Date']\n",
    "trump_dates = list(trump_dates)"
   ]
  },
  {
   "cell_type": "markdown",
   "metadata": {},
   "source": [
    "** Debates were September 26th, October 9, and October 19**"
   ]
  },
  {
   "cell_type": "markdown",
   "metadata": {
    "collapsed": true
   },
   "source": [
    "** Let look at the dates of the debate to see if they can provide any additional information**"
   ]
  },
  {
   "cell_type": "code",
   "execution_count": 146,
   "metadata": {
    "collapsed": true
   },
   "outputs": [],
   "source": [
    "def timeframe(year, month):\n",
    "    row = 0\n",
    "    xindex = []\n",
    "\n",
    "    for date in poll_start_df['Start Date']:\n",
    "        date = datetime.strptime(date, \"%Y-%m-%d\")\n",
    "        if ((date.year == year) and (date.month == month)):\n",
    "            xindex.append(row)\n",
    "            row += 1\n",
    "        else:\n",
    "            row += 1\n",
    "\n",
    "    return(min(xindex), max(xindex)) # Checking the range of the index that I will be using"
   ]
  },
  {
   "cell_type": "code",
   "execution_count": 147,
   "metadata": {},
   "outputs": [
    {
     "name": "stdout",
     "output_type": "stream",
     "text": [
      "Max date is 232. Min date is 262\n"
     ]
    }
   ],
   "source": [
    "# Narrow down the dates of late September and Mid October\n",
    "year = 2016\n",
    "month = 10\n",
    "\n",
    "result = timeframe(year, month)\n",
    "\n",
    "print(\"Max date is {0}. Min date is {1}\".format(min(result), max(result)))"
   ]
  },
  {
   "cell_type": "code",
   "execution_count": 148,
   "metadata": {},
   "outputs": [
    {
     "data": {
      "text/html": [
       "<div>\n",
       "<style>\n",
       "    .dataframe thead tr:only-child th {\n",
       "        text-align: right;\n",
       "    }\n",
       "\n",
       "    .dataframe thead th {\n",
       "        text-align: left;\n",
       "    }\n",
       "\n",
       "    .dataframe tbody tr th {\n",
       "        vertical-align: top;\n",
       "    }\n",
       "</style>\n",
       "<table border=\"1\" class=\"dataframe\">\n",
       "  <thead>\n",
       "    <tr style=\"text-align: right;\">\n",
       "      <th></th>\n",
       "      <th>Start Date</th>\n",
       "      <th>Number of Observations</th>\n",
       "      <th>Trump</th>\n",
       "      <th>Clinton</th>\n",
       "      <th>Other</th>\n",
       "      <th>Undecided</th>\n",
       "      <th>Question Iteration</th>\n",
       "      <th>Difference</th>\n",
       "    </tr>\n",
       "  </thead>\n",
       "  <tbody>\n",
       "    <tr>\n",
       "      <th>232</th>\n",
       "      <td>2016-10-01</td>\n",
       "      <td>527.500000</td>\n",
       "      <td>42.250000</td>\n",
       "      <td>41.750000</td>\n",
       "      <td>4.750000</td>\n",
       "      <td>6.750000</td>\n",
       "      <td>1.0</td>\n",
       "      <td>-0.005000</td>\n",
       "    </tr>\n",
       "    <tr>\n",
       "      <th>233</th>\n",
       "      <td>2016-10-02</td>\n",
       "      <td>451.000000</td>\n",
       "      <td>37.000000</td>\n",
       "      <td>45.000000</td>\n",
       "      <td>3.000000</td>\n",
       "      <td>9.000000</td>\n",
       "      <td>1.0</td>\n",
       "      <td>0.080000</td>\n",
       "    </tr>\n",
       "    <tr>\n",
       "      <th>234</th>\n",
       "      <td>2016-10-03</td>\n",
       "      <td>12226.000000</td>\n",
       "      <td>42.900000</td>\n",
       "      <td>43.400000</td>\n",
       "      <td>4.333333</td>\n",
       "      <td>4.222222</td>\n",
       "      <td>1.1</td>\n",
       "      <td>0.005000</td>\n",
       "    </tr>\n",
       "    <tr>\n",
       "      <th>235</th>\n",
       "      <td>2016-10-04</td>\n",
       "      <td>1500.000000</td>\n",
       "      <td>42.000000</td>\n",
       "      <td>43.000000</td>\n",
       "      <td>4.000000</td>\n",
       "      <td>4.000000</td>\n",
       "      <td>1.0</td>\n",
       "      <td>0.010000</td>\n",
       "    </tr>\n",
       "    <tr>\n",
       "      <th>236</th>\n",
       "      <td>2016-10-05</td>\n",
       "      <td>827.666667</td>\n",
       "      <td>39.333333</td>\n",
       "      <td>46.666667</td>\n",
       "      <td>3.500000</td>\n",
       "      <td>5.000000</td>\n",
       "      <td>1.0</td>\n",
       "      <td>0.073333</td>\n",
       "    </tr>\n",
       "  </tbody>\n",
       "</table>\n",
       "</div>"
      ],
      "text/plain": [
       "     Start Date  Number of Observations      Trump    Clinton     Other  \\\n",
       "232  2016-10-01              527.500000  42.250000  41.750000  4.750000   \n",
       "233  2016-10-02              451.000000  37.000000  45.000000  3.000000   \n",
       "234  2016-10-03            12226.000000  42.900000  43.400000  4.333333   \n",
       "235  2016-10-04             1500.000000  42.000000  43.000000  4.000000   \n",
       "236  2016-10-05              827.666667  39.333333  46.666667  3.500000   \n",
       "\n",
       "     Undecided  Question Iteration  Difference  \n",
       "232   6.750000                 1.0   -0.005000  \n",
       "233   9.000000                 1.0    0.080000  \n",
       "234   4.222222                 1.1    0.005000  \n",
       "235   4.000000                 1.0    0.010000  \n",
       "236   5.000000                 1.0    0.073333  "
      ]
     },
     "execution_count": 148,
     "metadata": {},
     "output_type": "execute_result"
    }
   ],
   "source": [
    "poll_start_df.loc[232:262].head()"
   ]
  },
  {
   "cell_type": "code",
   "execution_count": 149,
   "metadata": {},
   "outputs": [
    {
     "data": {
      "text/html": [
       "<div>\n",
       "<style>\n",
       "    .dataframe thead tr:only-child th {\n",
       "        text-align: right;\n",
       "    }\n",
       "\n",
       "    .dataframe thead th {\n",
       "        text-align: left;\n",
       "    }\n",
       "\n",
       "    .dataframe tbody tr th {\n",
       "        vertical-align: top;\n",
       "    }\n",
       "</style>\n",
       "<table border=\"1\" class=\"dataframe\">\n",
       "  <thead>\n",
       "    <tr style=\"text-align: right;\">\n",
       "      <th></th>\n",
       "      <th>Start Date</th>\n",
       "      <th>Number of Observations</th>\n",
       "      <th>Trump</th>\n",
       "      <th>Clinton</th>\n",
       "      <th>Other</th>\n",
       "      <th>Undecided</th>\n",
       "      <th>Question Iteration</th>\n",
       "      <th>Difference</th>\n",
       "    </tr>\n",
       "  </thead>\n",
       "  <tbody>\n",
       "    <tr>\n",
       "      <th>258</th>\n",
       "      <td>2016-10-27</td>\n",
       "      <td>1249.000000</td>\n",
       "      <td>47.000000</td>\n",
       "      <td>52.000000</td>\n",
       "      <td>NaN</td>\n",
       "      <td>1.000000</td>\n",
       "      <td>1.000000</td>\n",
       "      <td>0.050000</td>\n",
       "    </tr>\n",
       "    <tr>\n",
       "      <th>259</th>\n",
       "      <td>2016-10-28</td>\n",
       "      <td>1333.000000</td>\n",
       "      <td>44.125000</td>\n",
       "      <td>44.250000</td>\n",
       "      <td>5.000000</td>\n",
       "      <td>4.375000</td>\n",
       "      <td>1.500000</td>\n",
       "      <td>0.001250</td>\n",
       "    </tr>\n",
       "    <tr>\n",
       "      <th>260</th>\n",
       "      <td>2016-10-29</td>\n",
       "      <td>883.777778</td>\n",
       "      <td>41.333333</td>\n",
       "      <td>42.666667</td>\n",
       "      <td>4.600000</td>\n",
       "      <td>9.222222</td>\n",
       "      <td>1.444444</td>\n",
       "      <td>0.013333</td>\n",
       "    </tr>\n",
       "    <tr>\n",
       "      <th>261</th>\n",
       "      <td>2016-10-30</td>\n",
       "      <td>859.285714</td>\n",
       "      <td>45.714286</td>\n",
       "      <td>43.428571</td>\n",
       "      <td>3.714286</td>\n",
       "      <td>3.714286</td>\n",
       "      <td>1.000000</td>\n",
       "      <td>-0.022857</td>\n",
       "    </tr>\n",
       "    <tr>\n",
       "      <th>262</th>\n",
       "      <td>2016-10-31</td>\n",
       "      <td>30546.600000</td>\n",
       "      <td>45.200000</td>\n",
       "      <td>48.600000</td>\n",
       "      <td>3.333333</td>\n",
       "      <td>3.333333</td>\n",
       "      <td>1.400000</td>\n",
       "      <td>0.034000</td>\n",
       "    </tr>\n",
       "  </tbody>\n",
       "</table>\n",
       "</div>"
      ],
      "text/plain": [
       "     Start Date  Number of Observations      Trump    Clinton     Other  \\\n",
       "258  2016-10-27             1249.000000  47.000000  52.000000       NaN   \n",
       "259  2016-10-28             1333.000000  44.125000  44.250000  5.000000   \n",
       "260  2016-10-29              883.777778  41.333333  42.666667  4.600000   \n",
       "261  2016-10-30              859.285714  45.714286  43.428571  3.714286   \n",
       "262  2016-10-31            30546.600000  45.200000  48.600000  3.333333   \n",
       "\n",
       "     Undecided  Question Iteration  Difference  \n",
       "258   1.000000            1.000000    0.050000  \n",
       "259   4.375000            1.500000    0.001250  \n",
       "260   9.222222            1.444444    0.013333  \n",
       "261   3.714286            1.000000   -0.022857  \n",
       "262   3.333333            1.400000    0.034000  "
      ]
     },
     "execution_count": 149,
     "metadata": {},
     "output_type": "execute_result"
    }
   ],
   "source": [
    "poll_start_df.loc[232:262].tail()"
   ]
  },
  {
   "cell_type": "code",
   "execution_count": 150,
   "metadata": {
    "collapsed": true
   },
   "outputs": [],
   "source": [
    "# Dates of the debates, getting the index\n",
    "\n",
    "sep26_df = poll_start_df[poll_start_df['Start Date'] == \"2016-09-26\"].index.values\n",
    "oct9_df = poll_start_df[poll_start_df['Start Date'] == \"2016-10-09\"].index.values\n",
    "oct19_df = poll_start_df[poll_start_df['Start Date'] == \"2016-10-19\"].index.values"
   ]
  },
  {
   "cell_type": "code",
   "execution_count": 151,
   "metadata": {},
   "outputs": [
    {
     "data": {
      "text/plain": [
       "<matplotlib.lines.Line2D at 0x13b7cf6d8>"
      ]
     },
     "execution_count": 151,
     "metadata": {},
     "output_type": "execute_result"
    },
    {
     "data": {
      "image/png": "[encoded data removed]",
      "text/plain": [
       "<matplotlib.figure.Figure at 0x157a54860>"
      ]
     },
     "metadata": {},
     "output_type": "display_data"
    }
   ],
   "source": [
    "# Start with original figure\n",
    "fig = poll_start_df.plot('Start Date','Difference',figsize=(12,4),\n",
    "                         marker='o',linestyle='-',color='purple',xlim=(225,265))\n",
    "\n",
    "\n",
    "# Now add the debate markers\n",
    "plt.axvline(x=sep26_df, linewidth=4, color='grey')\n",
    "plt.axvline(x=oct9_df, linewidth=4, color='grey')\n",
    "plt.axvline(x=oct19_df, linewidth=4, color='grey')"
   ]
  },
  {
   "cell_type": "markdown",
   "metadata": {},
   "source": [
    "**RESULTS**\n",
    "\n",
    "- After the first debate, Trump continued to do better.\n",
    "- After the second debate, nobody got an immediate change in their position.\n",
    "- After the last debate, Clinton did better."
   ]
  },
  {
   "cell_type": "markdown",
   "metadata": {},
   "source": [
    "---"
   ]
  },
  {
   "cell_type": "markdown",
   "metadata": {},
   "source": [
    "## Using the New York Times API\n",
    "\n",
    "I created a script that takes the date and topic and output all the articles on the date\n",
    "\n",
    "- Will find relevant articles that happened after the debate to check if we can find articles that have relevancy to the NY Times."
   ]
  },
  {
   "cell_type": "code",
   "execution_count": 152,
   "metadata": {
    "collapsed": true
   },
   "outputs": [],
   "source": [
    "from nytimes import NYTimes"
   ]
  },
  {
   "cell_type": "code",
   "execution_count": 153,
   "metadata": {},
   "outputs": [
    {
     "name": "stdout",
     "output_type": "stream",
     "text": [
      "These are the relevant topics: \n",
      "Headline: Trump on the Fed’s Motives  \n",
      " Website can be found: https://www.nytimes.com/video/us/politics/100000004674092/trump-on-the-feds-motives.html \n",
      "\n",
      "Headline: Trump and Clinton Discuss Alicia Machado  \n",
      " Website can be found: https://www.nytimes.com/video/us/politics/100000004674290/trump-and-clinton-discuss-alicia-machado.html \n",
      "\n",
      "Headline: Trump and Clinton Clash Over Trade  \n",
      " Website can be found: https://www.nytimes.com/video/us/politics/100000004674128/trump-and-clinton-clash-over-trade.html \n",
      "\n",
      "Headline: Fact-Checking the First Presidential Debate  \n",
      " Website can be found: https://www.nytimes.com/video/us/politics/100000004673274/fact-checking-the-first-presidential-debate.html \n",
      "\n",
      "Headline: Holt’s Moderation Gets Mixed Reviews  \n",
      " Website can be found: https://www.nytimes.com/video/us/politics/100000004673207/holts-moderation-gets-mixed-reviews.html \n",
      "\n",
      "Headline: Clinton Wary of Trump and Nuclear Arms  \n",
      " Website can be found: https://www.nytimes.com/video/us/politics/100000004673213/clinton-wary-of-trump-and-nuclear-arms.html \n",
      "\n",
      "Headline: Trump Talks Taxes and Clinton’s Emails  \n",
      " Website can be found: https://www.nytimes.com/video/us/politics/100000004673201/trump-talks-taxes-and-clintons-emails.html \n",
      "\n",
      "Headline: Transcript of the First Debate  \n",
      " Website can be found: https://www.nytimes.com/2016/09/27/us/politics/transcript-debate.html \n",
      "\n",
      "Headline: Rudolph Giuliani Says Donald Trump Bit His Tongue   \n",
      " Website can be found: https://www.nytimes.com/2016/09/27/us/politics/rudy-giuliani-chelsea-clinton.html \n",
      "\n",
      "Headline: How Hillary Clinton Went From Hesitant to Scorchin  \n",
      " Website can be found: https://www.nytimes.com/2016/09/27/us/politics/hillary-clinton-donald-trump.html \n",
      "\n",
      "Headline: Clinton Could Have Corrected Trump, but He Blared   \n",
      " Website can be found: https://www.nytimes.com/2016/09/27/us/politics/assertions-hofstra-debate.html \n",
      "\n",
      "Headline: Lester Holt, Given a Choice Assignment, Opted for   \n",
      " Website can be found: https://www.nytimes.com/2016/09/27/us/politics/lester-holt-moderator.html \n",
      "\n",
      "Headline: Hillary Clinton and Donald Trump Press Pointed Att  \n",
      " Website can be found: https://www.nytimes.com/2016/09/27/us/politics/presidential-debate.html \n",
      "\n",
      "Headline: Trump and Clinton in First Debate  \n",
      " Website can be found: https://www.nytimes.com/video/us/politics/100000004672976/trump-and-clinton-face-off-in-first-debate.html \n",
      "\n",
      "Headline: Our Fact Checks of the First Debate  \n",
      " Website can be found: https://www.nytimes.com/2016/09/27/us/politics/fact-check-debate.html \n",
      "\n",
      "Headline: How The New York Times Will Fact-Check the Debate  \n",
      " Website can be found: https://www.nytimes.com/2016/09/27/us/politics/new-york-times-debate-coverage.html \n",
      "\n",
      "Headline: For Debate Organizer, a New Priority: Crowd Contro  \n",
      " Website can be found: https://www.nytimes.com/2016/09/27/us/politics/crowd-campaign-debate.html \n",
      "\n",
      "Headline: The What-Ifs: 11 Debate Possibilities That Should   \n",
      " Website can be found: https://www.nytimes.com/2016/09/27/us/politics/what-if-debate.html \n",
      "\n",
      "Headline: Besieged Globalists Ponder What Went Wrong  \n",
      " Website can be found: https://www.nytimes.com/2016/09/27/us/politics/globalism-un-assembly-nationalism-populism.html \n",
      "\n",
      "Headline: Congress Meets, With 5 Days to Avoid Shutdown Over  \n",
      " Website can be found: https://www.nytimes.com/2016/09/27/us/politics/congress-shutdown.html \n",
      "\n",
      "Headline: How to Watch the First Debate and How It Works  \n",
      " Website can be found: https://www.nytimes.com/2016/09/27/us/politics/how-to-watch-debate-schedule.html \n",
      "\n",
      "Headline: Did You Miss the Presidential Debate? Here Are the  \n",
      " Website can be found: https://www.nytimes.com/2016/09/26/us/politics/presidential-debate.html \n",
      "\n",
      "\n"
     ]
    }
   ],
   "source": [
    "# Make you sure you include your desired dates\n",
    "# Politics is the topics that it will look for\n",
    "\n",
    "data = NYTimes(9,27,2016,\"Politics\")"
   ]
  },
  {
   "cell_type": "markdown",
   "metadata": {},
   "source": [
    "---"
   ]
  },
  {
   "cell_type": "markdown",
   "metadata": {},
   "source": [
    "# Donor Data Set\n",
    "\n",
    "The questions we will be trying to answer while looking at this Data Set is:\n",
    "\n",
    "1. How much was donated and what was the average donation?\n",
    "2. How did the donations differ between candidates?\n",
    "3. How did the donations differ between Democrats and Republicans?\n",
    "4. What were the demographics of the donors?\n",
    "5. Is there a pattern to donation amounts?"
   ]
  },
  {
   "cell_type": "code",
   "execution_count": 154,
   "metadata": {
    "collapsed": true
   },
   "outputs": [],
   "source": [
    "# Set the DataFrame as the csv file of NEW YORK\n",
    "donor_df = pd.read_csv('Election_Donar_NY.csv', low_memory=False, encoding='utf-8', index_col=None)"
   ]
  },
  {
   "cell_type": "code",
   "execution_count": 155,
   "metadata": {},
   "outputs": [
    {
     "data": {
      "text/plain": [
       "(649460, 18)"
      ]
     },
     "execution_count": 155,
     "metadata": {},
     "output_type": "execute_result"
    }
   ],
   "source": [
    "donor_df.shape"
   ]
  },
  {
   "cell_type": "code",
   "execution_count": 156,
   "metadata": {},
   "outputs": [
    {
     "name": "stdout",
     "output_type": "stream",
     "text": [
      "<class 'pandas.core.frame.DataFrame'>\n",
      "Index: 649460 entries, C00575795 to C00575795\n",
      "Data columns (total 18 columns):\n",
      "cmte_id              649460 non-null object\n",
      "cand_id              649460 non-null object\n",
      "cand_nm              649460 non-null object\n",
      "contbr_nm            649456 non-null object\n",
      "contbr_city          649460 non-null object\n",
      "contbr_st            649377 non-null object\n",
      "contbr_zip           560658 non-null object\n",
      "contbr_employer      642406 non-null object\n",
      "contbr_occupation    649460 non-null float64\n",
      "contb_receipt_amt    649460 non-null object\n",
      "contb_receipt_dt     8149 non-null object\n",
      "receipt_desc         108347 non-null object\n",
      "memo_cd              251346 non-null object\n",
      "memo_text            649460 non-null object\n",
      "form_tp              649460 non-null int64\n",
      "file_num             649460 non-null object\n",
      "tran_id              648770 non-null object\n",
      "election_tp          0 non-null float64\n",
      "dtypes: float64(2), int64(1), object(15)\n",
      "memory usage: 94.1+ MB\n"
     ]
    }
   ],
   "source": [
    "donor_df.info()"
   ]
  },
  {
   "cell_type": "code",
   "execution_count": 157,
   "metadata": {},
   "outputs": [
    {
     "data": {
      "text/html": [
       "<div>\n",
       "<style>\n",
       "    .dataframe thead tr:only-child th {\n",
       "        text-align: right;\n",
       "    }\n",
       "\n",
       "    .dataframe thead th {\n",
       "        text-align: left;\n",
       "    }\n",
       "\n",
       "    .dataframe tbody tr th {\n",
       "        vertical-align: top;\n",
       "    }\n",
       "</style>\n",
       "<table border=\"1\" class=\"dataframe\">\n",
       "  <thead>\n",
       "    <tr style=\"text-align: right;\">\n",
       "      <th></th>\n",
       "      <th>contbr_occupation</th>\n",
       "      <th>form_tp</th>\n",
       "      <th>election_tp</th>\n",
       "    </tr>\n",
       "  </thead>\n",
       "  <tbody>\n",
       "    <tr>\n",
       "      <th>count</th>\n",
       "      <td>6.494600e+05</td>\n",
       "      <td>6.494600e+05</td>\n",
       "      <td>0.0</td>\n",
       "    </tr>\n",
       "    <tr>\n",
       "      <th>mean</th>\n",
       "      <td>2.643009e+02</td>\n",
       "      <td>1.105477e+06</td>\n",
       "      <td>NaN</td>\n",
       "    </tr>\n",
       "    <tr>\n",
       "      <th>std</th>\n",
       "      <td>2.576947e+04</td>\n",
       "      <td>2.806734e+04</td>\n",
       "      <td>NaN</td>\n",
       "    </tr>\n",
       "    <tr>\n",
       "      <th>min</th>\n",
       "      <td>-1.010000e+04</td>\n",
       "      <td>1.003942e+06</td>\n",
       "      <td>NaN</td>\n",
       "    </tr>\n",
       "    <tr>\n",
       "      <th>25%</th>\n",
       "      <td>1.500000e+01</td>\n",
       "      <td>1.079445e+06</td>\n",
       "      <td>NaN</td>\n",
       "    </tr>\n",
       "    <tr>\n",
       "      <th>50%</th>\n",
       "      <td>2.700000e+01</td>\n",
       "      <td>1.104813e+06</td>\n",
       "      <td>NaN</td>\n",
       "    </tr>\n",
       "    <tr>\n",
       "      <th>75%</th>\n",
       "      <td>1.000000e+02</td>\n",
       "      <td>1.133832e+06</td>\n",
       "      <td>NaN</td>\n",
       "    </tr>\n",
       "    <tr>\n",
       "      <th>max</th>\n",
       "      <td>1.277771e+07</td>\n",
       "      <td>1.146285e+06</td>\n",
       "      <td>NaN</td>\n",
       "    </tr>\n",
       "  </tbody>\n",
       "</table>\n",
       "</div>"
      ],
      "text/plain": [
       "       contbr_occupation       form_tp  election_tp\n",
       "count       6.494600e+05  6.494600e+05          0.0\n",
       "mean        2.643009e+02  1.105477e+06          NaN\n",
       "std         2.576947e+04  2.806734e+04          NaN\n",
       "min        -1.010000e+04  1.003942e+06          NaN\n",
       "25%         1.500000e+01  1.079445e+06          NaN\n",
       "50%         2.700000e+01  1.104813e+06          NaN\n",
       "75%         1.000000e+02  1.133832e+06          NaN\n",
       "max         1.277771e+07  1.146285e+06          NaN"
      ]
     },
     "execution_count": 157,
     "metadata": {},
     "output_type": "execute_result"
    }
   ],
   "source": [
    "donor_df.describe()"
   ]
  },
  {
   "cell_type": "code",
   "execution_count": 158,
   "metadata": {},
   "outputs": [
    {
     "data": {
      "text/plain": [
       "Index(['cmte_id', 'cand_id', 'cand_nm', 'contbr_nm', 'contbr_city',\n",
       "       'contbr_st', 'contbr_zip', 'contbr_employer', 'contbr_occupation',\n",
       "       'contb_receipt_amt', 'contb_receipt_dt', 'receipt_desc', 'memo_cd',\n",
       "       'memo_text', 'form_tp', 'file_num', 'tran_id', 'election_tp'],\n",
       "      dtype='object')"
      ]
     },
     "execution_count": 158,
     "metadata": {},
     "output_type": "execute_result"
    }
   ],
   "source": [
    "donor_df.columns"
   ]
  },
  {
   "cell_type": "code",
   "execution_count": 159,
   "metadata": {
    "collapsed": true
   },
   "outputs": [],
   "source": [
    "donor_df.reset_index(inplace=True)\n",
    "donor_df.columns = ['cmte_id', 'cand_id', 'cand_nm', 'contbr_nm', 'contbr_city',\n",
    "       'contbr_st', 'contbr_zip', 'contbr_employer', 'contbr_occupation',\n",
    "       'contb_receipt_amt', 'contb_receipt_dt', 'receipt_desc', 'memo_cd',\n",
    "       'memo_text', 'form_tp', 'file_num', 'tran_id', 'election_tp', 'delete']"
   ]
  },
  {
   "cell_type": "code",
   "execution_count": 160,
   "metadata": {
    "collapsed": true
   },
   "outputs": [],
   "source": [
    "del donor_df['delete']"
   ]
  },
  {
   "cell_type": "code",
   "execution_count": 161,
   "metadata": {},
   "outputs": [
    {
     "data": {
      "text/html": [
       "<div>\n",
       "<style>\n",
       "    .dataframe thead tr:only-child th {\n",
       "        text-align: right;\n",
       "    }\n",
       "\n",
       "    .dataframe thead th {\n",
       "        text-align: left;\n",
       "    }\n",
       "\n",
       "    .dataframe tbody tr th {\n",
       "        vertical-align: top;\n",
       "    }\n",
       "</style>\n",
       "<table border=\"1\" class=\"dataframe\">\n",
       "  <thead>\n",
       "    <tr style=\"text-align: right;\">\n",
       "      <th></th>\n",
       "      <th>cmte_id</th>\n",
       "      <th>cand_id</th>\n",
       "      <th>cand_nm</th>\n",
       "      <th>contbr_nm</th>\n",
       "      <th>contbr_city</th>\n",
       "      <th>contbr_st</th>\n",
       "      <th>contbr_zip</th>\n",
       "      <th>contbr_employer</th>\n",
       "      <th>contbr_occupation</th>\n",
       "      <th>contb_receipt_amt</th>\n",
       "      <th>contb_receipt_dt</th>\n",
       "      <th>receipt_desc</th>\n",
       "      <th>memo_cd</th>\n",
       "      <th>memo_text</th>\n",
       "      <th>form_tp</th>\n",
       "      <th>file_num</th>\n",
       "      <th>tran_id</th>\n",
       "      <th>election_tp</th>\n",
       "    </tr>\n",
       "  </thead>\n",
       "  <tbody>\n",
       "    <tr>\n",
       "      <th>0</th>\n",
       "      <td>C00575795</td>\n",
       "      <td>P00003392</td>\n",
       "      <td>Clinton, Hillary Rodham</td>\n",
       "      <td>JONES TAKATA, LOUISE</td>\n",
       "      <td>NEW YORK</td>\n",
       "      <td>NY</td>\n",
       "      <td>100162783</td>\n",
       "      <td>NaN</td>\n",
       "      <td>RETIRED</td>\n",
       "      <td>100.00</td>\n",
       "      <td>15-APR-16</td>\n",
       "      <td>NaN</td>\n",
       "      <td>X</td>\n",
       "      <td>* HILLARY VICTORY FUND</td>\n",
       "      <td>SA18</td>\n",
       "      <td>1091718</td>\n",
       "      <td>C4732422</td>\n",
       "      <td>P2016</td>\n",
       "    </tr>\n",
       "    <tr>\n",
       "      <th>1</th>\n",
       "      <td>C00575795</td>\n",
       "      <td>P00003392</td>\n",
       "      <td>Clinton, Hillary Rodham</td>\n",
       "      <td>CODY, ERIN</td>\n",
       "      <td>BUFFALO</td>\n",
       "      <td>NY</td>\n",
       "      <td>142221910</td>\n",
       "      <td>RUPP BAASE PFALZGRAF CUNNINGHAM LLC</td>\n",
       "      <td>ATTORNEY</td>\n",
       "      <td>66.95</td>\n",
       "      <td>24-APR-16</td>\n",
       "      <td>NaN</td>\n",
       "      <td>X</td>\n",
       "      <td>* HILLARY VICTORY FUND</td>\n",
       "      <td>SA18</td>\n",
       "      <td>1091718</td>\n",
       "      <td>C4752463</td>\n",
       "      <td>P2016</td>\n",
       "    </tr>\n",
       "    <tr>\n",
       "      <th>2</th>\n",
       "      <td>C00577130</td>\n",
       "      <td>P60007168</td>\n",
       "      <td>Sanders, Bernard</td>\n",
       "      <td>KEITH, SUSAN H</td>\n",
       "      <td>NEW YORK</td>\n",
       "      <td>NY</td>\n",
       "      <td>100133107</td>\n",
       "      <td>NOT EMPLOYED</td>\n",
       "      <td>NOT EMPLOYED</td>\n",
       "      <td>50.00</td>\n",
       "      <td>06-MAR-16</td>\n",
       "      <td>NaN</td>\n",
       "      <td>NaN</td>\n",
       "      <td>* EARMARKED CONTRIBUTION: SEE BELOW</td>\n",
       "      <td>SA17A</td>\n",
       "      <td>1077404</td>\n",
       "      <td>VPF7BKZ1KR1</td>\n",
       "      <td>P2016</td>\n",
       "    </tr>\n",
       "    <tr>\n",
       "      <th>3</th>\n",
       "      <td>C00577130</td>\n",
       "      <td>P60007168</td>\n",
       "      <td>Sanders, Bernard</td>\n",
       "      <td>LEPAGE, WILLIAM</td>\n",
       "      <td>BROOKLYN</td>\n",
       "      <td>NY</td>\n",
       "      <td>112381202</td>\n",
       "      <td>NEW YORK UNIVERSITY</td>\n",
       "      <td>UNDERGRADUATE ADMINISTRATOR</td>\n",
       "      <td>15.00</td>\n",
       "      <td>04-MAR-16</td>\n",
       "      <td>NaN</td>\n",
       "      <td>NaN</td>\n",
       "      <td>* EARMARKED CONTRIBUTION: SEE BELOW</td>\n",
       "      <td>SA17A</td>\n",
       "      <td>1077404</td>\n",
       "      <td>VPF7BKWHRY0</td>\n",
       "      <td>P2016</td>\n",
       "    </tr>\n",
       "    <tr>\n",
       "      <th>4</th>\n",
       "      <td>C00575795</td>\n",
       "      <td>P00003392</td>\n",
       "      <td>Clinton, Hillary Rodham</td>\n",
       "      <td>BIELAT, VEDORA</td>\n",
       "      <td>PLATTSBURGH</td>\n",
       "      <td>NY</td>\n",
       "      <td>129011729</td>\n",
       "      <td>INFORMATION REQUESTED</td>\n",
       "      <td>INFORMATION REQUESTED</td>\n",
       "      <td>100.00</td>\n",
       "      <td>12-APR-16</td>\n",
       "      <td>NaN</td>\n",
       "      <td>X</td>\n",
       "      <td>* HILLARY VICTORY FUND</td>\n",
       "      <td>SA18</td>\n",
       "      <td>1091718</td>\n",
       "      <td>C4714688</td>\n",
       "      <td>P2016</td>\n",
       "    </tr>\n",
       "  </tbody>\n",
       "</table>\n",
       "</div>"
      ],
      "text/plain": [
       "     cmte_id    cand_id                  cand_nm             contbr_nm  \\\n",
       "0  C00575795  P00003392  Clinton, Hillary Rodham  JONES TAKATA, LOUISE   \n",
       "1  C00575795  P00003392  Clinton, Hillary Rodham            CODY, ERIN   \n",
       "2  C00577130  P60007168         Sanders, Bernard        KEITH, SUSAN H   \n",
       "3  C00577130  P60007168         Sanders, Bernard       LEPAGE, WILLIAM   \n",
       "4  C00575795  P00003392  Clinton, Hillary Rodham        BIELAT, VEDORA   \n",
       "\n",
       "   contbr_city contbr_st contbr_zip                      contbr_employer  \\\n",
       "0     NEW YORK        NY  100162783                                  NaN   \n",
       "1      BUFFALO        NY  142221910  RUPP BAASE PFALZGRAF CUNNINGHAM LLC   \n",
       "2     NEW YORK        NY  100133107                         NOT EMPLOYED   \n",
       "3     BROOKLYN        NY  112381202                  NEW YORK UNIVERSITY   \n",
       "4  PLATTSBURGH        NY  129011729                INFORMATION REQUESTED   \n",
       "\n",
       "             contbr_occupation  contb_receipt_amt contb_receipt_dt  \\\n",
       "0                      RETIRED             100.00        15-APR-16   \n",
       "1                     ATTORNEY              66.95        24-APR-16   \n",
       "2                 NOT EMPLOYED              50.00        06-MAR-16   \n",
       "3  UNDERGRADUATE ADMINISTRATOR              15.00        04-MAR-16   \n",
       "4        INFORMATION REQUESTED             100.00        12-APR-16   \n",
       "\n",
       "  receipt_desc memo_cd                            memo_text form_tp  file_num  \\\n",
       "0          NaN       X               * HILLARY VICTORY FUND    SA18   1091718   \n",
       "1          NaN       X               * HILLARY VICTORY FUND    SA18   1091718   \n",
       "2          NaN     NaN  * EARMARKED CONTRIBUTION: SEE BELOW   SA17A   1077404   \n",
       "3          NaN     NaN  * EARMARKED CONTRIBUTION: SEE BELOW   SA17A   1077404   \n",
       "4          NaN       X               * HILLARY VICTORY FUND    SA18   1091718   \n",
       "\n",
       "       tran_id election_tp  \n",
       "0     C4732422       P2016  \n",
       "1     C4752463       P2016  \n",
       "2  VPF7BKZ1KR1       P2016  \n",
       "3  VPF7BKWHRY0       P2016  \n",
       "4     C4714688       P2016  "
      ]
     },
     "execution_count": 161,
     "metadata": {},
     "output_type": "execute_result"
    }
   ],
   "source": [
    "donor_df.head()"
   ]
  },
  {
   "cell_type": "code",
   "execution_count": 162,
   "metadata": {},
   "outputs": [
    {
     "data": {
      "text/plain": [
       "25.0      94311\n",
       "50.0      72644\n",
       "100.0     67365\n",
       "10.0      55260\n",
       "5.0       42681\n",
       "15.0      28956\n",
       "27.0      28112\n",
       "250.0     26212\n",
       "2700.0    12947\n",
       "19.0      12348\n",
       "Name: contb_receipt_amt, dtype: int64"
      ]
     },
     "execution_count": 162,
     "metadata": {},
     "output_type": "execute_result"
    }
   ],
   "source": [
    "# per amount of money\n",
    "donor_df['contb_receipt_amt'].value_counts().head(10)"
   ]
  },
  {
   "cell_type": "code",
   "execution_count": 163,
   "metadata": {},
   "outputs": [
    {
     "name": "stdout",
     "output_type": "stream",
     "text": [
      "The average is 264.30 and the standard deviation is 25769.47\n"
     ]
    }
   ],
   "source": [
    "don_rec_avg = donor_df['contb_receipt_amt'].mean()\n",
    "don_rec_std = donor_df['contb_receipt_amt'].std()\n",
    "\n",
    "print(\"The average is {0:.2f} and the standard deviation is {1:.2f}\".format(don_rec_avg, don_rec_std))"
   ]
  },
  {
   "cell_type": "markdown",
   "metadata": {},
   "source": [
    "- Notice how the standard deviation is VERY large compared to the mean"
   ]
  },
  {
   "cell_type": "code",
   "execution_count": 164,
   "metadata": {},
   "outputs": [
    {
     "data": {
      "text/plain": [
       "177328   -10100.0\n",
       "408863    -9300.0\n",
       "409141    -7300.0\n",
       "6811      -6700.0\n",
       "646922    -6579.0\n",
       "408862    -6400.0\n",
       "4559      -5400.0\n",
       "353058    -5400.0\n",
       "457735    -5400.0\n",
       "4791      -5400.0\n",
       "Name: contb_receipt_amt, dtype: float64"
      ]
     },
     "execution_count": 164,
     "metadata": {},
     "output_type": "execute_result"
    }
   ],
   "source": [
    "top_donor_df = donor_df['contb_receipt_amt'].copy()\n",
    "top_donor_df.sort_values().head(10)"
   ]
  },
  {
   "cell_type": "code",
   "execution_count": 165,
   "metadata": {
    "collapsed": true
   },
   "outputs": [],
   "source": [
    "# NOTICE: There are huge negative values bc these are refunds\n",
    "# We do not need this information\n",
    "# this is why we have large stanard deviation"
   ]
  },
  {
   "cell_type": "code",
   "execution_count": 166,
   "metadata": {},
   "outputs": [
    {
     "data": {
      "text/plain": [
       "426236    0.01\n",
       "405767    0.04\n",
       "397171    0.04\n",
       "151779    0.08\n",
       "435352    0.09\n",
       "Name: contb_receipt_amt, dtype: float64"
      ]
     },
     "execution_count": 166,
     "metadata": {},
     "output_type": "execute_result"
    }
   ],
   "source": [
    "top_donor_df = top_donor_df[top_donor_df > 0] # only for positive values\n",
    "top_donor_df.sort_values().head()"
   ]
  },
  {
   "cell_type": "code",
   "execution_count": 167,
   "metadata": {},
   "outputs": [
    {
     "data": {
      "text/plain": [
       "25.0      94311\n",
       "50.0      72644\n",
       "100.0     67365\n",
       "10.0      55260\n",
       "5.0       42681\n",
       "15.0      28956\n",
       "27.0      28112\n",
       "250.0     26212\n",
       "2700.0    12947\n",
       "19.0      12348\n",
       "Name: contb_receipt_amt, dtype: int64"
      ]
     },
     "execution_count": 167,
     "metadata": {},
     "output_type": "execute_result"
    }
   ],
   "source": [
    "# The top donation amount\n",
    "top_donor_df.value_counts().head(10)"
   ]
  },
  {
   "cell_type": "code",
   "execution_count": 168,
   "metadata": {},
   "outputs": [
    {
     "data": {
      "text/plain": [
       "<matplotlib.axes._subplots.AxesSubplot at 0x18b11f208>"
      ]
     },
     "execution_count": 168,
     "metadata": {},
     "output_type": "execute_result"
    },
    {
     "data": {
      "image/png": "[encoded data removed]",
      "text/plain": [
       "<matplotlib.figure.Figure at 0x18b117e10>"
      ]
     },
     "metadata": {},
     "output_type": "display_data"
    }
   ],
   "source": [
    "common_don = top_donor_df[top_donor_df < 2500] # within the largest donation, 2500 was the largest\n",
    "\n",
    "common_don.hist(bins=100) # There are peaks that our shown with value_counts() as well"
   ]
  },
  {
   "cell_type": "code",
   "execution_count": 169,
   "metadata": {},
   "outputs": [
    {
     "data": {
      "text/plain": [
       "array(['Clinton, Hillary Rodham', 'Sanders, Bernard', 'Trump, Donald J.',\n",
       "       \"O'Malley, Martin Joseph\", \"Cruz, Rafael Edward 'Ted'\",\n",
       "       'Walker, Scott', 'Bush, Jeb', 'Rubio, Marco', 'Kasich, John R.',\n",
       "       'Christie, Christopher J.', 'Stein, Jill', 'Johnson, Gary',\n",
       "       'Graham, Lindsey O.', 'Webb, James Henry Jr.',\n",
       "       'Carson, Benjamin S.', 'Paul, Rand', 'Fiorina, Carly',\n",
       "       'Santorum, Richard J.', 'Jindal, Bobby', 'Huckabee, Mike',\n",
       "       'Pataki, George E.', 'Gilmore, James S III', 'Lessig, Lawrence',\n",
       "       'Perry, James R. (Rick)', 'McMullin, Evan'], dtype=object)"
      ]
     },
     "execution_count": 169,
     "metadata": {},
     "output_type": "execute_result"
    }
   ],
   "source": [
    "# Candidates of the election\n",
    "candidate = donor_df['cand_nm'].unique()\n",
    "candidate"
   ]
  },
  {
   "cell_type": "code",
   "execution_count": 170,
   "metadata": {
    "collapsed": true
   },
   "outputs": [],
   "source": [
    "# Dictionary of party affiliation\n",
    "party_map = {'Clinton, Hillary Rodham': 'Democrat',\n",
    "            'Sanders, Bernard': 'Democrat',\n",
    "            'Trump, Donald J.': 'Republican',\n",
    "            \"O'Malley, Martin Joseph\": 'Democrat',\n",
    "            \"Cruz, Rafael Edward 'Ted'\": 'Republican',\n",
    "            'Walker, Scott': 'Republican',\n",
    "            'Bush, Jeb': 'Republican',\n",
    "            'Rubio, Marco': 'Republican',\n",
    "            'Christie, Christopher J.': 'Republican',\n",
    "            'Stein, Jill': 'Green',\n",
    "            'Johnson, Gary': 'Libertarian',\n",
    "            'Graham, Lindsey O.': 'Republican',\n",
    "            'Webb, James Henry Jr': 'Democrat',\n",
    "            'Carson, Benjamin S.': 'Republican',\n",
    "            'Paul, Rand': 'Republican',\n",
    "            'Fiorina, Carly': 'Republican',\n",
    "            'Santorum, Richard J.': 'Republican',\n",
    "            'Jindal, Bobby': 'Republican',\n",
    "            'Huckabee, Mike': 'Republican',\n",
    "            'Pataki, George E.': 'Republican',\n",
    "            'Gilmore, James S III': 'Republican',\n",
    "            'Lessig, Lawrence': 'Democrat',\n",
    "            'Perry, James R. (Rick)': 'Republican',\n",
    "            'McMullin, Evan': 'Indepedent'\n",
    "            }\n",
    "\n",
    "# Now map the party with candidate\n",
    "donor_df['Party'] = donor_df.cand_nm.map(party_map)\n"
   ]
  },
  {
   "cell_type": "code",
   "execution_count": 171,
   "metadata": {
    "collapsed": true
   },
   "outputs": [],
   "source": [
    "# Redo the procedure but updated with the party affiliation\n",
    "donor_df = donor_df[donor_df.contb_receipt_amt > 0]\n"
   ]
  },
  {
   "cell_type": "code",
   "execution_count": 172,
   "metadata": {},
   "outputs": [
    {
     "data": {
      "text/html": [
       "<div>\n",
       "<style>\n",
       "    .dataframe thead tr:only-child th {\n",
       "        text-align: right;\n",
       "    }\n",
       "\n",
       "    .dataframe thead th {\n",
       "        text-align: left;\n",
       "    }\n",
       "\n",
       "    .dataframe tbody tr th {\n",
       "        vertical-align: top;\n",
       "    }\n",
       "</style>\n",
       "<table border=\"1\" class=\"dataframe\">\n",
       "  <thead>\n",
       "    <tr style=\"text-align: right;\">\n",
       "      <th></th>\n",
       "      <th>cmte_id</th>\n",
       "      <th>cand_id</th>\n",
       "      <th>cand_nm</th>\n",
       "      <th>contbr_nm</th>\n",
       "      <th>contbr_city</th>\n",
       "      <th>contbr_st</th>\n",
       "      <th>contbr_zip</th>\n",
       "      <th>contbr_employer</th>\n",
       "      <th>contbr_occupation</th>\n",
       "      <th>contb_receipt_amt</th>\n",
       "      <th>contb_receipt_dt</th>\n",
       "      <th>receipt_desc</th>\n",
       "      <th>memo_cd</th>\n",
       "      <th>memo_text</th>\n",
       "      <th>form_tp</th>\n",
       "      <th>file_num</th>\n",
       "      <th>tran_id</th>\n",
       "      <th>election_tp</th>\n",
       "      <th>Party</th>\n",
       "    </tr>\n",
       "  </thead>\n",
       "  <tbody>\n",
       "    <tr>\n",
       "      <th>0</th>\n",
       "      <td>C00575795</td>\n",
       "      <td>P00003392</td>\n",
       "      <td>Clinton, Hillary Rodham</td>\n",
       "      <td>JONES TAKATA, LOUISE</td>\n",
       "      <td>NEW YORK</td>\n",
       "      <td>NY</td>\n",
       "      <td>100162783</td>\n",
       "      <td>NaN</td>\n",
       "      <td>RETIRED</td>\n",
       "      <td>100.00</td>\n",
       "      <td>15-APR-16</td>\n",
       "      <td>NaN</td>\n",
       "      <td>X</td>\n",
       "      <td>* HILLARY VICTORY FUND</td>\n",
       "      <td>SA18</td>\n",
       "      <td>1091718</td>\n",
       "      <td>C4732422</td>\n",
       "      <td>P2016</td>\n",
       "      <td>Democrat</td>\n",
       "    </tr>\n",
       "    <tr>\n",
       "      <th>1</th>\n",
       "      <td>C00575795</td>\n",
       "      <td>P00003392</td>\n",
       "      <td>Clinton, Hillary Rodham</td>\n",
       "      <td>CODY, ERIN</td>\n",
       "      <td>BUFFALO</td>\n",
       "      <td>NY</td>\n",
       "      <td>142221910</td>\n",
       "      <td>RUPP BAASE PFALZGRAF CUNNINGHAM LLC</td>\n",
       "      <td>ATTORNEY</td>\n",
       "      <td>66.95</td>\n",
       "      <td>24-APR-16</td>\n",
       "      <td>NaN</td>\n",
       "      <td>X</td>\n",
       "      <td>* HILLARY VICTORY FUND</td>\n",
       "      <td>SA18</td>\n",
       "      <td>1091718</td>\n",
       "      <td>C4752463</td>\n",
       "      <td>P2016</td>\n",
       "      <td>Democrat</td>\n",
       "    </tr>\n",
       "    <tr>\n",
       "      <th>2</th>\n",
       "      <td>C00577130</td>\n",
       "      <td>P60007168</td>\n",
       "      <td>Sanders, Bernard</td>\n",
       "      <td>KEITH, SUSAN H</td>\n",
       "      <td>NEW YORK</td>\n",
       "      <td>NY</td>\n",
       "      <td>100133107</td>\n",
       "      <td>NOT EMPLOYED</td>\n",
       "      <td>NOT EMPLOYED</td>\n",
       "      <td>50.00</td>\n",
       "      <td>06-MAR-16</td>\n",
       "      <td>NaN</td>\n",
       "      <td>NaN</td>\n",
       "      <td>* EARMARKED CONTRIBUTION: SEE BELOW</td>\n",
       "      <td>SA17A</td>\n",
       "      <td>1077404</td>\n",
       "      <td>VPF7BKZ1KR1</td>\n",
       "      <td>P2016</td>\n",
       "      <td>Democrat</td>\n",
       "    </tr>\n",
       "    <tr>\n",
       "      <th>3</th>\n",
       "      <td>C00577130</td>\n",
       "      <td>P60007168</td>\n",
       "      <td>Sanders, Bernard</td>\n",
       "      <td>LEPAGE, WILLIAM</td>\n",
       "      <td>BROOKLYN</td>\n",
       "      <td>NY</td>\n",
       "      <td>112381202</td>\n",
       "      <td>NEW YORK UNIVERSITY</td>\n",
       "      <td>UNDERGRADUATE ADMINISTRATOR</td>\n",
       "      <td>15.00</td>\n",
       "      <td>04-MAR-16</td>\n",
       "      <td>NaN</td>\n",
       "      <td>NaN</td>\n",
       "      <td>* EARMARKED CONTRIBUTION: SEE BELOW</td>\n",
       "      <td>SA17A</td>\n",
       "      <td>1077404</td>\n",
       "      <td>VPF7BKWHRY0</td>\n",
       "      <td>P2016</td>\n",
       "      <td>Democrat</td>\n",
       "    </tr>\n",
       "    <tr>\n",
       "      <th>4</th>\n",
       "      <td>C00575795</td>\n",
       "      <td>P00003392</td>\n",
       "      <td>Clinton, Hillary Rodham</td>\n",
       "      <td>BIELAT, VEDORA</td>\n",
       "      <td>PLATTSBURGH</td>\n",
       "      <td>NY</td>\n",
       "      <td>129011729</td>\n",
       "      <td>INFORMATION REQUESTED</td>\n",
       "      <td>INFORMATION REQUESTED</td>\n",
       "      <td>100.00</td>\n",
       "      <td>12-APR-16</td>\n",
       "      <td>NaN</td>\n",
       "      <td>X</td>\n",
       "      <td>* HILLARY VICTORY FUND</td>\n",
       "      <td>SA18</td>\n",
       "      <td>1091718</td>\n",
       "      <td>C4714688</td>\n",
       "      <td>P2016</td>\n",
       "      <td>Democrat</td>\n",
       "    </tr>\n",
       "  </tbody>\n",
       "</table>\n",
       "</div>"
      ],
      "text/plain": [
       "     cmte_id    cand_id                  cand_nm             contbr_nm  \\\n",
       "0  C00575795  P00003392  Clinton, Hillary Rodham  JONES TAKATA, LOUISE   \n",
       "1  C00575795  P00003392  Clinton, Hillary Rodham            CODY, ERIN   \n",
       "2  C00577130  P60007168         Sanders, Bernard        KEITH, SUSAN H   \n",
       "3  C00577130  P60007168         Sanders, Bernard       LEPAGE, WILLIAM   \n",
       "4  C00575795  P00003392  Clinton, Hillary Rodham        BIELAT, VEDORA   \n",
       "\n",
       "   contbr_city contbr_st contbr_zip                      contbr_employer  \\\n",
       "0     NEW YORK        NY  100162783                                  NaN   \n",
       "1      BUFFALO        NY  142221910  RUPP BAASE PFALZGRAF CUNNINGHAM LLC   \n",
       "2     NEW YORK        NY  100133107                         NOT EMPLOYED   \n",
       "3     BROOKLYN        NY  112381202                  NEW YORK UNIVERSITY   \n",
       "4  PLATTSBURGH        NY  129011729                INFORMATION REQUESTED   \n",
       "\n",
       "             contbr_occupation  contb_receipt_amt contb_receipt_dt  \\\n",
       "0                      RETIRED             100.00        15-APR-16   \n",
       "1                     ATTORNEY              66.95        24-APR-16   \n",
       "2                 NOT EMPLOYED              50.00        06-MAR-16   \n",
       "3  UNDERGRADUATE ADMINISTRATOR              15.00        04-MAR-16   \n",
       "4        INFORMATION REQUESTED             100.00        12-APR-16   \n",
       "\n",
       "  receipt_desc memo_cd                            memo_text form_tp  file_num  \\\n",
       "0          NaN       X               * HILLARY VICTORY FUND    SA18   1091718   \n",
       "1          NaN       X               * HILLARY VICTORY FUND    SA18   1091718   \n",
       "2          NaN     NaN  * EARMARKED CONTRIBUTION: SEE BELOW   SA17A   1077404   \n",
       "3          NaN     NaN  * EARMARKED CONTRIBUTION: SEE BELOW   SA17A   1077404   \n",
       "4          NaN       X               * HILLARY VICTORY FUND    SA18   1091718   \n",
       "\n",
       "       tran_id election_tp     Party  \n",
       "0     C4732422       P2016  Democrat  \n",
       "1     C4752463       P2016  Democrat  \n",
       "2  VPF7BKZ1KR1       P2016  Democrat  \n",
       "3  VPF7BKWHRY0       P2016  Democrat  \n",
       "4     C4714688       P2016  Democrat  "
      ]
     },
     "execution_count": 172,
     "metadata": {},
     "output_type": "execute_result"
    }
   ],
   "source": [
    "donor_df.head()"
   ]
  },
  {
   "cell_type": "code",
   "execution_count": 173,
   "metadata": {},
   "outputs": [
    {
     "data": {
      "text/plain": [
       "cand_nm\n",
       "Bush, Jeb                      2321\n",
       "Carson, Benjamin S.            6566\n",
       "Christie, Christopher J.        466\n",
       "Clinton, Hillary Rodham      394676\n",
       "Cruz, Rafael Edward 'Ted'     16147\n",
       "Fiorina, Carly                 1206\n",
       "Gilmore, James S III              5\n",
       "Graham, Lindsey O.              293\n",
       "Huckabee, Mike                  240\n",
       "Jindal, Bobby                    21\n",
       "Johnson, Gary                   781\n",
       "Kasich, John R.                1330\n",
       "Lessig, Lawrence                116\n",
       "McMullin, Evan                  103\n",
       "O'Malley, Martin Joseph         338\n",
       "Pataki, George E.               181\n",
       "Paul, Rand                     1130\n",
       "Perry, James R. (Rick)           27\n",
       "Rubio, Marco                   4487\n",
       "Sanders, Bernard             173387\n",
       "Santorum, Richard J.             69\n",
       "Stein, Jill                    1001\n",
       "Trump, Donald J.              35762\n",
       "Walker, Scott                   231\n",
       "Webb, James Henry Jr.            46\n",
       "Name: contb_receipt_amt, dtype: int64"
      ]
     },
     "execution_count": 173,
     "metadata": {},
     "output_type": "execute_result"
    }
   ],
   "source": [
    "# Represents how many people dondated for them\n",
    "\n",
    "donor_df.groupby('cand_nm')['contb_receipt_amt'].count()"
   ]
  },
  {
   "cell_type": "code",
   "execution_count": 174,
   "metadata": {
    "collapsed": true
   },
   "outputs": [],
   "source": [
    "# Represents total amount of donation\n",
    "\n",
    "total_cand_sum = donor_df.groupby('cand_nm')['contb_receipt_amt'].sum()"
   ]
  },
  {
   "cell_type": "code",
   "execution_count": 175,
   "metadata": {},
   "outputs": [
    {
     "data": {
      "text/plain": [
       "<matplotlib.axes._subplots.AxesSubplot at 0x158d24f28>"
      ]
     },
     "execution_count": 175,
     "metadata": {},
     "output_type": "execute_result"
    },
    {
     "data": {
      "image/png": "[encoded data removed]",
      "text/plain": [
       "<matplotlib.figure.Figure at 0x158d3add8>"
      ]
     },
     "metadata": {},
     "output_type": "display_data"
    }
   ],
   "source": [
    "total_cand_sum.plot(kind='bar')\n",
    "\n",
    "# Obama got the most donation because he is the only in the democrats pary"
   ]
  },
  {
   "cell_type": "code",
   "execution_count": 176,
   "metadata": {},
   "outputs": [
    {
     "data": {
      "text/plain": [
       "<matplotlib.axes._subplots.AxesSubplot at 0x158240518>"
      ]
     },
     "execution_count": 176,
     "metadata": {},
     "output_type": "execute_result"
    },
    {
     "data": {
      "image/png": "[encoded data removed]",
      "text/plain": [
       "<matplotlib.figure.Figure at 0x158de1978>"
      ]
     },
     "metadata": {},
     "output_type": "display_data"
    }
   ],
   "source": [
    "# donation of democrats vs republicans\n",
    "donor_df.groupby('Party')['contb_receipt_amt'].sum().plot(kind='bar')\n"
   ]
  },
  {
   "cell_type": "code",
   "execution_count": 177,
   "metadata": {},
   "outputs": [
    {
     "data": {
      "text/html": [
       "<div>\n",
       "<style>\n",
       "    .dataframe thead tr:only-child th {\n",
       "        text-align: right;\n",
       "    }\n",
       "\n",
       "    .dataframe thead th {\n",
       "        text-align: left;\n",
       "    }\n",
       "\n",
       "    .dataframe tbody tr th {\n",
       "        vertical-align: top;\n",
       "    }\n",
       "</style>\n",
       "<table border=\"1\" class=\"dataframe\">\n",
       "  <thead>\n",
       "    <tr style=\"text-align: right;\">\n",
       "      <th>Party</th>\n",
       "      <th>Democrat</th>\n",
       "      <th>Green</th>\n",
       "      <th>Indepedent</th>\n",
       "      <th>Libertarian</th>\n",
       "      <th>Republican</th>\n",
       "    </tr>\n",
       "    <tr>\n",
       "      <th>contbr_occupation</th>\n",
       "      <th></th>\n",
       "      <th></th>\n",
       "      <th></th>\n",
       "      <th></th>\n",
       "      <th></th>\n",
       "    </tr>\n",
       "  </thead>\n",
       "  <tbody>\n",
       "    <tr>\n",
       "      <th>ADMINISTRATIVE ASSISTANT</th>\n",
       "      <td>150.0</td>\n",
       "      <td>NaN</td>\n",
       "      <td>NaN</td>\n",
       "      <td>NaN</td>\n",
       "      <td>NaN</td>\n",
       "    </tr>\n",
       "    <tr>\n",
       "      <th>ATTORNEY</th>\n",
       "      <td>290.0</td>\n",
       "      <td>NaN</td>\n",
       "      <td>NaN</td>\n",
       "      <td>NaN</td>\n",
       "      <td>NaN</td>\n",
       "    </tr>\n",
       "    <tr>\n",
       "      <th>CHARITY CONSULTANT</th>\n",
       "      <td>250.0</td>\n",
       "      <td>NaN</td>\n",
       "      <td>NaN</td>\n",
       "      <td>NaN</td>\n",
       "      <td>NaN</td>\n",
       "    </tr>\n",
       "    <tr>\n",
       "      <th>EDUCATOR</th>\n",
       "      <td>67.5</td>\n",
       "      <td>NaN</td>\n",
       "      <td>NaN</td>\n",
       "      <td>NaN</td>\n",
       "      <td>NaN</td>\n",
       "    </tr>\n",
       "    <tr>\n",
       "      <th>HEALTHCARE MANAGER</th>\n",
       "      <td>34.0</td>\n",
       "      <td>NaN</td>\n",
       "      <td>NaN</td>\n",
       "      <td>NaN</td>\n",
       "      <td>NaN</td>\n",
       "    </tr>\n",
       "  </tbody>\n",
       "</table>\n",
       "</div>"
      ],
      "text/plain": [
       "Party                      Democrat  Green  Indepedent  Libertarian  \\\n",
       "contbr_occupation                                                     \n",
       " ADMINISTRATIVE ASSISTANT     150.0    NaN         NaN          NaN   \n",
       " ATTORNEY                     290.0    NaN         NaN          NaN   \n",
       " CHARITY CONSULTANT           250.0    NaN         NaN          NaN   \n",
       " EDUCATOR                      67.5    NaN         NaN          NaN   \n",
       " HEALTHCARE MANAGER            34.0    NaN         NaN          NaN   \n",
       "\n",
       "Party                      Republican  \n",
       "contbr_occupation                      \n",
       " ADMINISTRATIVE ASSISTANT         NaN  \n",
       " ATTORNEY                         NaN  \n",
       " CHARITY CONSULTANT               NaN  \n",
       " EDUCATOR                         NaN  \n",
       " HEALTHCARE MANAGER               NaN  "
      ]
     },
     "execution_count": 177,
     "metadata": {},
     "output_type": "execute_result"
    }
   ],
   "source": [
    "occupations_df = donor_df.pivot_table('contb_receipt_amt', \n",
    "                                     index='contbr_occupation',\n",
    "                                     columns='Party',\n",
    "                                     aggfunc='sum')\n",
    "occupations_df.head()"
   ]
  },
  {
   "cell_type": "code",
   "execution_count": 178,
   "metadata": {},
   "outputs": [
    {
     "data": {
      "text/plain": [
       "(17095, 5)"
      ]
     },
     "execution_count": 178,
     "metadata": {},
     "output_type": "execute_result"
    }
   ],
   "source": [
    "occupations_df.shape\n",
    "\n",
    "# LARGE DF because there are a lot of diff. contribution"
   ]
  },
  {
   "cell_type": "code",
   "execution_count": 179,
   "metadata": {
    "collapsed": true
   },
   "outputs": [],
   "source": [
    "# The 1 represents bc we are adding the column\n",
    "# and checking if the total sum of that occupation is greater than 1000000\n",
    "# And only working with those occupation\n",
    "occupations_df = occupations_df[occupations_df.sum(1) > 1000000]"
   ]
  },
  {
   "cell_type": "code",
   "execution_count": 180,
   "metadata": {},
   "outputs": [
    {
     "data": {
      "text/plain": [
       "(15, 5)"
      ]
     },
     "execution_count": 180,
     "metadata": {},
     "output_type": "execute_result"
    }
   ],
   "source": [
    "occupations_df.shape"
   ]
  },
  {
   "cell_type": "code",
   "execution_count": 181,
   "metadata": {},
   "outputs": [
    {
     "data": {
      "image/png": "[encoded data removed]",
      "text/plain": [
       "<matplotlib.figure.Figure at 0x11660cf28>"
      ]
     },
     "metadata": {},
     "output_type": "display_data"
    }
   ],
   "source": [
    "occupations_df.plot(kind='bar')\n",
    "plt.show()"
   ]
  },
  {
   "cell_type": "code",
   "execution_count": 182,
   "metadata": {},
   "outputs": [
    {
     "data": {
      "image/png": "[encoded data removed]",
      "text/plain": [
       "<matplotlib.figure.Figure at 0x125443470>"
      ]
     },
     "metadata": {},
     "output_type": "display_data"
    }
   ],
   "source": [
    "# horizontal graph and seismic plots the blue and red\n",
    "occupations_df.plot(kind='barh',figsize=(10,12), cmap='seismic')\n",
    "plt.show()\n",
    "\n",
    "# FIX the Information columns as they are like an NA\n"
   ]
  },
  {
   "cell_type": "code",
   "execution_count": 183,
   "metadata": {
    "collapsed": true
   },
   "outputs": [],
   "source": [
    "# removing the info. columns\n",
    "occupations_df.drop(['INFORMATION REQUESTED'], axis=0, inplace=True) # columns"
   ]
  },
  {
   "cell_type": "code",
   "execution_count": 184,
   "metadata": {},
   "outputs": [
    {
     "data": {
      "image/png": "[encoded data removed]",
      "text/plain": [
       "<matplotlib.figure.Figure at 0x1257087f0>"
      ]
     },
     "metadata": {},
     "output_type": "display_data"
    }
   ],
   "source": [
    "# horizontal graph\n",
    "occupations_df.plot(kind='barh',figsize=(10,12), cmap='seismic')\n",
    "plt.show()"
   ]
  },
  {
   "cell_type": "markdown",
   "metadata": {},
   "source": [
    "For more on general data analysis of politics, I highly suggest the https://fivethirtyeight.com/politics/ website!\n",
    "\n"
   ]
  }
 ],
 "metadata": {
  "kernelspec": {
   "display_name": "Python 3",
   "language": "python",
   "name": "python3"
  },
  "language_info": {
   "codemirror_mode": {
    "name": "ipython",
    "version": 3
   },
   "file_extension": ".py",
   "mimetype": "text/x-python",
   "name": "python",
   "nbconvert_exporter": "python",
   "pygments_lexer": "ipython3",
   "version": "3.6.0"
  }
 },
 "nbformat": 4,
 "nbformat_minor": 2
}
